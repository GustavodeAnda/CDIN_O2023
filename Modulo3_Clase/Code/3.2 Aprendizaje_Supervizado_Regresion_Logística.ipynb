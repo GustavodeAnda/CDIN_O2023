{
 "cells": [
  {
   "cell_type": "markdown",
   "metadata": {},
   "source": [
    "<img style=\"float: left;;\" src='../Imagenes/iteso.jpg' width=\"50\" height=\"100\"/></a>\n",
    "\n",
    "# <center> <font color= #000047> Módulo III: Aprendizaje supervizado: Regresión Logítica "
   ]
  },
  {
   "cell_type": "markdown",
   "metadata": {},
   "source": [
    "> La **regresión logística** es un método estadístico que trata de modelar la probabilidad de una variable cualitativa binaria (dos posibles valores) en función de una o más variables independientes. La principal aplicación de la regresión logística es la creación de modelos de clasificación binaria.\n",
    "\n",
    "Se llama **regresión logística simple** cuando solo hay una variable independiente y **regresión logística múltiple*** cuando hay más de una. Dependiendo del contexto, a la variable modelada se le conoce como variable dependiente o variable respuesta, y a las variables independientes como **regresores, predictores o features**."
   ]
  },
  {
   "cell_type": "markdown",
   "metadata": {},
   "source": [
    "Si una variable cualitativa con dos niveles (binaría) se codifica como 0 y 1, matemáticamente es posible ajustar un modelo de regresión lineal por mínimos cuadrados. Sin embargo, esta aproximación tiene dos problemas:\n",
    "\n",
    "- Al generar una recta (hiperplano si hay múltiples variables), se pueden obtener valores predichos distintos de 0 y 1, lo que entra en contradicción con la definición de la variable respuesta binaria.\n",
    "\n",
    "- Si se quiere interpretar las predicciones del modelo como probabilidades de pertenencia a cada clase, no se cumpliría la condición de que toda probabilidad ha de estar dentro del intervalo [0,1], ya que podrían obtenerse valores fuera de este.\n",
    "\n",
    "Para evitar estos problemas, la **regresión logística** transforma el valor devuelto por la regresión lineal con una función cuyo resultado siempre está comprendido entre 0 y 1 (función sigmoide). \n",
    "\n",
    "> Existen varias funciones que cumplen esta descripción, una de las más utilizadas es la función logística (también conocida como función sigmoide):\n",
    "\n",
    "$$sigmoide = \\sigma(y) = \\frac{1}{1+e^{-y}}$$\n",
    "\n",
    "<img style=\"float: center;;\" src='../Imagenes/sigmoide.png' width=\"500\" height=\"100\"/></a>"
   ]
  },
  {
   "cell_type": "markdown",
   "metadata": {},
   "source": [
    "\n",
    "> Para valores de $y$  positivos muy grandes,  $e^{−y}$  es aproximadamente 0, por lo que el valor de la función sigmoide es 1. Para valores de  $y$ negativos muy grandes,  $e^{−y}$  tiende a infinito, por lo que el valor de la función sigmoide es 0.\n",
    "\n",
    "> Sustituyendo la  y  de la ecuación anterior por la función de un modelo lineal $y=\\beta_0 + \\beta_1 x_1 + ... + \\beta_p x_p$ se obtiene que:\n",
    "\n",
    "$$P(y=1|X=x) = \\frac{e^{\\beta_0 + \\beta_1x_1 +...+\\beta_px_p}}{1 + e^{\\beta_0 + \\beta_1x_1 +...+\\beta_px_p}}$$\n",
    "\n",
    "> donde $P(y=1|X=x)$ puede interpretarse como la probabilidad de que la variable respuesta  y  adquiera el valor 1 (clase de referencia), dado los predictores $x_1,...,x_p$. El modelo resultante tiene los coeficientes de regresión en los exponentes, por lo que no es un modelo lineal.\n",
    "\n",
    "> La expresión obtenida tiene la característica de ser siempre positiva, ya que la función exponencial solo toma valores positivos y, el cociente de valores positivos, es siempre positivo. Esto hace posible aplicarle el logaritmo:\n",
    "\n",
    "$$ln(\\frac{P(y=1|X=x)}{P(y=0|X=x)}) = \\beta_0 + \\beta_1x_1 +...+\\beta_px_p$$\n",
    "\n",
    "> Al realizar la transformación, en el lado derecho se obtiene la ecuación de un modelo lineal. El término de la izquierda resulta ser el logaritmo de un cociente de probabilidades, lo que se conoce como razón de probabilidad (log of odds).\n",
    "\n",
    "> Como resultado de este proceso se consigue convertir un problema de clasificación no lineal, en un problema de regresión lineal que sí puede ajustarse mediante los métodos convencionales.\n",
    "\n",
    "### Función de Costo\n",
    "\n",
    "$$J(\\beta) = -\\frac{1}{m} \\sum_{i=1}^m[y^{(i)}\\log\\hat{y}(x^{(i)}) + (1-y^{(i)})\\log(1 - \\hat{y}(x^{(i)}))]$$"
   ]
  },
  {
   "cell_type": "markdown",
   "metadata": {},
   "source": [
    "### Ejemplos:"
   ]
  },
  {
   "cell_type": "code",
   "execution_count": 1,
   "metadata": {},
   "outputs": [],
   "source": [
    "import pandas as pd\n",
    "import numpy as np\n",
    "import matplotlib.pyplot as plt\n",
    "from sklearn.datasets import make_blobs\n",
    "import scipy.optimize as opt"
   ]
  },
  {
   "cell_type": "code",
   "execution_count": 2,
   "metadata": {},
   "outputs": [
    {
     "data": {
      "image/png": "[encoded data removed]",
      "text/plain": [
       "<Figure size 432x288 with 1 Axes>"
      ]
     },
     "metadata": {
      "needs_background": "light"
     },
     "output_type": "display_data"
    }
   ],
   "source": [
    "X, Y = make_blobs(n_samples=200, centers =[[0,0],[3,3]], cluster_std=0.5, n_features=2)\n",
    "\n",
    "plt.figure(figsize=(6,4))\n",
    "plt.scatter(X[:,0],X[:,1], c= Y)\n",
    "plt.xlabel('$x_1$')\n",
    "plt.ylabel('$x_2$')\n",
    "plt.show()"
   ]
  },
  {
   "cell_type": "code",
   "execution_count": 4,
   "metadata": {},
   "outputs": [
    {
     "data": {
      "text/plain": [
       "array([[ 2.62978227e+00,  3.29044241e+00],\n",
       "       [ 8.21326628e-02, -9.77649928e-02],\n",
       "       [ 3.10706099e+00,  3.26780638e+00],\n",
       "       [ 3.25878445e+00,  3.55689181e+00],\n",
       "       [-6.23673088e-01,  2.12303385e-01],\n",
       "       [ 3.98548567e+00,  2.91211181e+00],\n",
       "       [ 5.59736477e-01,  9.79627607e-02],\n",
       "       [ 2.92522583e+00,  3.12555584e+00],\n",
       "       [ 3.04811226e+00,  2.48032039e+00],\n",
       "       [ 3.09734803e+00,  3.14864664e+00],\n",
       "       [-6.43946170e-01, -3.99207107e-01],\n",
       "       [-6.47154720e-01, -7.32184316e-01],\n",
       "       [ 3.76035410e+00,  2.55851656e+00],\n",
       "       [ 6.56406468e-01,  5.80656809e-01],\n",
       "       [-5.94064242e-01, -5.65730954e-01],\n",
       "       [ 3.52268456e+00,  1.89084865e+00],\n",
       "       [ 4.97000878e-01,  1.20723719e+00],\n",
       "       [ 3.42090484e+00,  2.70386838e+00],\n",
       "       [-4.61113911e-01,  1.46884379e-02],\n",
       "       [ 2.51649064e+00,  2.55639675e+00],\n",
       "       [-2.02524151e-01,  3.79699849e-01],\n",
       "       [ 3.46362354e+00,  3.45737674e+00],\n",
       "       [-2.84597298e-01, -1.16062484e+00],\n",
       "       [ 3.19057208e-01,  5.57847535e-01],\n",
       "       [ 2.63349022e+00,  2.65794410e+00],\n",
       "       [-8.04958794e-01, -1.33153732e-01],\n",
       "       [ 2.48893639e+00,  3.20525276e+00],\n",
       "       [ 3.11407822e-01, -6.22436190e-01],\n",
       "       [-3.06300697e-01, -6.92385939e-01],\n",
       "       [ 1.97947239e+00,  3.53915318e+00],\n",
       "       [-2.57019654e-01,  1.10545855e+00],\n",
       "       [ 3.15166271e+00,  2.41242874e+00],\n",
       "       [ 4.64420033e-01,  1.35531976e-01],\n",
       "       [ 2.99443105e+00,  2.73818450e+00],\n",
       "       [ 5.65766966e-01,  8.51366066e-01],\n",
       "       [ 3.23971442e+00,  2.59198602e+00],\n",
       "       [-3.89692591e-01, -1.86727619e-02],\n",
       "       [ 8.92476841e-01, -4.84137912e-02],\n",
       "       [-2.32582447e-01, -1.79039284e-01],\n",
       "       [-1.33071656e-01,  8.63864931e-02],\n",
       "       [ 3.22022389e+00,  2.41398378e+00],\n",
       "       [ 2.48154182e+00,  2.87312044e+00],\n",
       "       [-5.91806341e-01,  5.58537355e-01],\n",
       "       [ 3.55205455e+00,  3.30369613e+00],\n",
       "       [ 3.94514338e-01,  3.21223075e-01],\n",
       "       [-1.43910220e-02, -2.14278789e-01],\n",
       "       [ 2.69222274e+00,  3.52554931e+00],\n",
       "       [ 3.09645247e+00,  2.85171146e+00],\n",
       "       [ 8.51736939e-01, -4.22143495e-01],\n",
       "       [ 2.83420838e+00,  3.71436196e+00],\n",
       "       [ 1.02544035e+00, -1.73064302e-01],\n",
       "       [ 3.03283771e+00,  3.40443479e+00],\n",
       "       [ 2.96365564e+00,  2.85844245e+00],\n",
       "       [ 2.02572655e+00,  3.24119020e+00],\n",
       "       [ 2.31222418e+00,  3.65541253e+00],\n",
       "       [ 1.21608331e-01, -1.42805649e+00],\n",
       "       [ 2.26959466e+00,  2.93516827e+00],\n",
       "       [-3.64021687e-01, -1.71118371e-01],\n",
       "       [ 2.86706533e+00,  3.18072361e+00],\n",
       "       [ 2.96818162e+00,  2.61890099e+00],\n",
       "       [ 3.35811531e+00,  3.88954243e+00],\n",
       "       [ 5.33508862e-01, -7.49068861e-02],\n",
       "       [ 3.26006553e+00,  3.03410711e+00],\n",
       "       [ 3.43183297e+00,  3.86599966e+00],\n",
       "       [ 1.86382586e-03,  2.62295356e-01],\n",
       "       [ 3.65450906e+00,  3.62594271e+00],\n",
       "       [ 3.54642561e+00,  3.19240633e+00],\n",
       "       [ 3.17945901e+00,  3.42923611e+00],\n",
       "       [-3.09767677e-01,  4.03473407e-01],\n",
       "       [ 2.50607771e+00,  4.02487949e+00],\n",
       "       [ 7.43549172e-01, -1.31951237e-01],\n",
       "       [ 3.87996679e+00,  3.49728851e+00],\n",
       "       [-3.00141585e-03,  2.51606642e-01],\n",
       "       [ 4.13094177e+00,  3.00431458e+00],\n",
       "       [-5.95412381e-02, -2.84618803e-01],\n",
       "       [-6.70994906e-01, -5.32978963e-01],\n",
       "       [ 2.21300192e-01,  1.15106847e+00],\n",
       "       [ 3.53400855e-01, -2.59668795e-01],\n",
       "       [ 2.72316567e+00,  2.95236108e+00],\n",
       "       [ 2.14890811e+00,  3.69334989e+00],\n",
       "       [ 2.29155089e+00,  3.08640085e+00],\n",
       "       [ 3.48949028e+00,  2.02659869e+00],\n",
       "       [ 3.25113564e+00,  3.35323916e+00],\n",
       "       [ 2.36565391e+00,  2.93177837e+00],\n",
       "       [ 2.60133427e+00,  2.64698174e+00],\n",
       "       [ 8.03663731e-01,  4.22857819e-01],\n",
       "       [ 2.35819506e+00,  3.26238080e+00],\n",
       "       [-3.70698846e-01, -1.01895484e+00],\n",
       "       [ 3.54274347e+00,  2.69999113e+00],\n",
       "       [ 3.09153274e+00,  3.19306327e+00],\n",
       "       [-2.99390493e-01, -1.62293961e-01],\n",
       "       [ 2.96021100e+00,  2.85254022e+00],\n",
       "       [ 2.50688374e+00,  4.02977557e+00],\n",
       "       [-5.54285719e-02, -5.26699698e-01],\n",
       "       [ 1.43988753e-01,  4.27232669e-01],\n",
       "       [ 2.72604783e+00,  2.15177789e+00],\n",
       "       [ 3.38157070e+00,  3.97829240e+00],\n",
       "       [-1.45337456e-01, -4.02098268e-01],\n",
       "       [ 2.93122687e+00,  3.28837003e+00],\n",
       "       [ 2.93894089e-01,  2.61331353e-02],\n",
       "       [-3.74839579e-01,  4.97686910e-02],\n",
       "       [ 2.48579386e+00,  3.07416616e+00],\n",
       "       [ 2.61899340e+00,  3.74991157e+00],\n",
       "       [ 1.47017734e-01, -1.40725520e-01],\n",
       "       [ 3.19798481e-01, -3.15549892e-01],\n",
       "       [ 1.91677959e+00,  3.23623415e+00],\n",
       "       [ 2.95102404e+00,  3.42238753e+00],\n",
       "       [ 6.17930242e-02, -6.90548584e-02],\n",
       "       [-1.92674883e-01, -1.65118307e-01],\n",
       "       [ 2.26301604e+00,  3.95871953e+00],\n",
       "       [-9.21388009e-01, -3.22257760e-01],\n",
       "       [ 2.97361140e-03,  7.65886381e-01],\n",
       "       [ 1.30165358e+00,  1.00692954e-01],\n",
       "       [ 1.32606738e-01,  3.84155305e-02],\n",
       "       [ 3.85205609e+00,  2.62807315e+00],\n",
       "       [ 3.33590121e+00,  2.59822398e+00],\n",
       "       [ 5.33657885e-01,  4.11909264e-01],\n",
       "       [ 3.57836004e+00,  3.28850686e+00],\n",
       "       [ 3.54162075e+00,  3.12478332e+00],\n",
       "       [ 2.27471601e+00,  3.00203544e+00],\n",
       "       [ 1.45626246e-01, -9.22867140e-02],\n",
       "       [-9.59217333e-01, -5.77753594e-01],\n",
       "       [-5.95584671e-01, -2.37530330e-01],\n",
       "       [ 3.13532595e+00,  3.37393392e+00],\n",
       "       [ 2.15863444e-01, -4.77265744e-01],\n",
       "       [ 2.68499231e+00,  3.27676689e+00],\n",
       "       [ 1.32480563e-01,  3.54340716e-01],\n",
       "       [ 2.48343355e+00,  3.93384808e+00],\n",
       "       [-1.75218989e-01, -1.82170849e-01],\n",
       "       [ 2.74697504e+00,  2.58351352e+00],\n",
       "       [ 2.19368698e-01,  1.24760109e-01],\n",
       "       [ 3.66403360e+00,  2.95328909e+00],\n",
       "       [ 2.66991129e+00,  2.36457301e+00],\n",
       "       [ 3.25827209e+00,  3.27921941e+00],\n",
       "       [ 2.40721154e-01, -9.52197052e-01],\n",
       "       [-2.35791689e-01, -6.29298371e-01],\n",
       "       [-3.40628737e-01,  8.42412615e-01],\n",
       "       [-2.45561960e-01, -5.86134476e-01],\n",
       "       [-4.56812607e-01, -3.56125921e-01],\n",
       "       [ 8.49438813e-01,  2.57414946e-01],\n",
       "       [ 1.48814605e-01, -5.47411495e-02],\n",
       "       [ 3.40813306e+00,  1.96547024e+00],\n",
       "       [ 2.55474354e+00,  3.72073293e+00],\n",
       "       [ 2.93925833e+00,  3.11448010e+00],\n",
       "       [-2.76745128e-02,  4.60878152e-01],\n",
       "       [-1.86771490e-02, -4.50762318e-02],\n",
       "       [ 2.43625963e+00,  3.27921373e+00],\n",
       "       [ 2.79867914e+00,  3.03926404e+00],\n",
       "       [ 2.63995724e+00,  4.45191904e+00],\n",
       "       [ 2.47352475e-01,  1.73810387e-01],\n",
       "       [ 3.27652630e+00,  3.66213145e+00],\n",
       "       [ 3.26667630e+00,  2.57327673e+00],\n",
       "       [ 3.59568441e+00,  3.05909810e+00],\n",
       "       [ 1.14913100e+00,  3.96218946e-01],\n",
       "       [ 2.36943778e+00,  3.49351655e+00],\n",
       "       [ 6.18873207e-01,  2.32875424e-01],\n",
       "       [ 3.63173876e+00,  2.34639231e+00],\n",
       "       [ 2.61942994e+00,  2.74757547e+00],\n",
       "       [ 2.31963063e+00,  2.08905214e+00],\n",
       "       [ 4.37031975e-01, -1.96178795e-01],\n",
       "       [-1.75285953e-02,  2.70674627e-01],\n",
       "       [ 2.28029905e+00,  2.99346640e+00],\n",
       "       [ 1.43577730e-02,  4.62001305e-01],\n",
       "       [ 4.38220485e-01, -6.98873652e-01],\n",
       "       [-1.17890113e-01, -7.99638499e-01],\n",
       "       [ 9.58271632e-01,  1.06509397e+00],\n",
       "       [ 3.15909448e+00,  2.87544290e+00],\n",
       "       [ 2.60502225e-01,  1.39164644e-01],\n",
       "       [ 5.41827009e-01,  2.45670906e-01],\n",
       "       [-1.72035584e-01, -3.59811441e-01],\n",
       "       [ 5.64798959e-01,  4.27626818e-01],\n",
       "       [ 2.58223266e+00,  3.48894554e+00],\n",
       "       [ 2.90446711e+00,  3.22497657e+00],\n",
       "       [ 3.63780842e+00,  3.29576751e+00],\n",
       "       [ 3.22926893e+00,  2.74592868e+00],\n",
       "       [ 2.64517501e+00,  2.97974333e+00],\n",
       "       [ 4.62925402e-01,  3.99360232e-01],\n",
       "       [ 3.74434280e-01, -1.76450680e-01],\n",
       "       [-1.14948598e-01,  3.74206249e-01],\n",
       "       [ 3.32182539e-01,  3.86425785e-01],\n",
       "       [ 3.17461919e-01, -5.50257401e-01],\n",
       "       [ 3.50718307e+00,  3.46935755e+00],\n",
       "       [ 3.50966406e+00,  2.67409127e+00],\n",
       "       [ 3.42162701e+00,  3.19750353e+00],\n",
       "       [ 2.73947788e+00,  2.57675697e+00],\n",
       "       [-4.81918765e-01,  1.81247471e-01],\n",
       "       [-7.50820407e-01, -4.63176291e-01],\n",
       "       [-4.67068207e-01,  6.42885552e-01],\n",
       "       [ 2.07172847e-01,  4.65504466e-01],\n",
       "       [ 2.97121677e-02, -3.51631898e-01],\n",
       "       [-2.18633433e-01,  2.24592270e-01],\n",
       "       [ 2.83755444e+00,  2.90924776e+00],\n",
       "       [-2.46682203e-02,  8.49136851e-01],\n",
       "       [ 3.85199605e-01, -7.02178512e-01],\n",
       "       [-5.01846181e-02,  8.70593444e-01],\n",
       "       [ 8.01842179e-02, -2.43612918e-01],\n",
       "       [ 2.40624924e+00,  2.88197066e+00],\n",
       "       [ 3.57004044e+00,  3.14763534e+00],\n",
       "       [ 3.18650470e+00,  2.89119080e+00],\n",
       "       [-5.59721580e-01,  2.24549829e-01]])"
      ]
     },
     "execution_count": 4,
     "metadata": {},
     "output_type": "execute_result"
    }
   ],
   "source": [
    "X"
   ]
  },
  {
   "cell_type": "code",
   "execution_count": 3,
   "metadata": {},
   "outputs": [
    {
     "data": {
      "text/plain": [
       "array([1, 0, 1, 1, 0, 1, 0, 1, 1, 1, 0, 0, 1, 0, 0, 1, 0, 1, 0, 1, 0, 1,\n",
       "       0, 0, 1, 0, 1, 0, 0, 1, 0, 1, 0, 1, 0, 1, 0, 0, 0, 0, 1, 1, 0, 1,\n",
       "       0, 0, 1, 1, 0, 1, 0, 1, 1, 1, 1, 0, 1, 0, 1, 1, 1, 0, 1, 1, 0, 1,\n",
       "       1, 1, 0, 1, 0, 1, 0, 1, 0, 0, 0, 0, 1, 1, 1, 1, 1, 1, 1, 0, 1, 0,\n",
       "       1, 1, 0, 1, 1, 0, 0, 1, 1, 0, 1, 0, 0, 1, 1, 0, 0, 1, 1, 0, 0, 1,\n",
       "       0, 0, 0, 0, 1, 1, 0, 1, 1, 1, 0, 0, 0, 1, 0, 1, 0, 1, 0, 1, 0, 1,\n",
       "       1, 1, 0, 0, 0, 0, 0, 0, 0, 1, 1, 1, 0, 0, 1, 1, 1, 0, 1, 1, 1, 0,\n",
       "       1, 0, 1, 1, 1, 0, 0, 1, 0, 0, 0, 0, 1, 0, 0, 0, 0, 1, 1, 1, 1, 1,\n",
       "       0, 0, 0, 0, 0, 1, 1, 1, 1, 0, 0, 0, 0, 0, 0, 1, 0, 0, 0, 0, 1, 1,\n",
       "       1, 0])"
      ]
     },
     "execution_count": 3,
     "metadata": {},
     "output_type": "execute_result"
    }
   ],
   "source": [
    "Y"
   ]
  },
  {
   "cell_type": "markdown",
   "metadata": {},
   "source": [
    "### Encontrar un Modelo de Reg. Logística"
   ]
  },
  {
   "cell_type": "code",
   "execution_count": 5,
   "metadata": {},
   "outputs": [],
   "source": [
    "#Definir funciones para el entrenamiento de la reg. Logística+\n",
    "\n",
    "#función logítica g(z) = 1/(1+exp(-z))\n",
    "def fun_log(z):\n",
    "    return 1/(1+np.exp(-z))"
   ]
  },
  {
   "cell_type": "code",
   "execution_count": 6,
   "metadata": {},
   "outputs": [],
   "source": [
    "# z = b0 + b1*x1 + b2*x2 + ..+ bn*xn = X*B^T\n",
    "# y_hat = y_pred = g(z) = g(b0 + b1*x1 + b2*x2 + ..+ bn*xn) = 1/(1+exp(-(b0 + b1*x1 + b2*x2 + ..+ bn*xn)))\n",
    "\n",
    "def reg_log(B, X):\n",
    "    z = np.matrix(X)*np.matrix(B).transpose() #Frontera lineal de separación de los datos\n",
    "    y_hat = np.array(fun_log(z))  #Salida del modelo\n",
    "    \n",
    "    return y_hat[:,0]   \n",
    "    "
   ]
  },
  {
   "cell_type": "markdown",
   "metadata": {},
   "source": [
    "$$J(\\beta) = -\\frac{1}{m} \\sum_{i=1}^m[y^{(i)}\\log\\hat{y}(x^{(i)}) + (1-y^{(i)})\\log(1 - \\hat{y}(x^{(i)}))]$$"
   ]
  },
  {
   "cell_type": "code",
   "execution_count": 7,
   "metadata": {},
   "outputs": [],
   "source": [
    "def fun_cost(B,X,Y):\n",
    "    m=len(Y)\n",
    "    y_hat = reg_log(B, X)\n",
    "    J = (1/m)*np.sum(-Y*np.log(y_hat) - (1-Y)*np.log(1-y_hat))\n",
    "    \n",
    "    return J"
   ]
  },
  {
   "cell_type": "code",
   "execution_count": 8,
   "metadata": {},
   "outputs": [],
   "source": [
    "# Inicializar las variables\n",
    "# X = [1,x1,x2]\n",
    "# B = [b0,b1,b2]\n",
    "# z = b0 + b1*x1 + b2*x2 = X*B^T\n",
    "\n",
    "Xa = np.append(np.ones((len(Y),1)), X, axis=1 )\n",
    "m,n = np.shape(Xa)\n",
    "B = np.zeros(n)"
   ]
  },
  {
   "cell_type": "code",
   "execution_count": 9,
   "metadata": {},
   "outputs": [
    {
     "data": {
      "text/plain": [
       "array([1.        , 2.62978227, 3.29044241])"
      ]
     },
     "execution_count": 9,
     "metadata": {},
     "output_type": "execute_result"
    }
   ],
   "source": [
    "Xa[0,:]"
   ]
  },
  {
   "cell_type": "code",
   "execution_count": 10,
   "metadata": {},
   "outputs": [
    {
     "data": {
      "text/plain": [
       "array([0., 0., 0.])"
      ]
     },
     "execution_count": 10,
     "metadata": {},
     "output_type": "execute_result"
    }
   ],
   "source": [
    "B"
   ]
  },
  {
   "cell_type": "code",
   "execution_count": 11,
   "metadata": {},
   "outputs": [
    {
     "name": "stderr",
     "output_type": "stream",
     "text": [
      "C:\\Users\\uie70742\\AppData\\Local\\Temp/ipykernel_29920/3352375172.py:4: RuntimeWarning: divide by zero encountered in log\n",
      "  J = (1/m)*np.sum(-Y*np.log(y_hat) - (1-Y)*np.log(1-y_hat))\n",
      "C:\\Users\\uie70742\\AppData\\Local\\Temp/ipykernel_29920/3352375172.py:4: RuntimeWarning: invalid value encountered in multiply\n",
      "  J = (1/m)*np.sum(-Y*np.log(y_hat) - (1-Y)*np.log(1-y_hat))\n",
      "C:\\Users\\uie70742\\AppData\\Local\\Temp/ipykernel_29920/808652533.py:5: RuntimeWarning: overflow encountered in exp\n",
      "  return 1/(1+np.exp(-z))\n",
      "C:\\Users\\uie70742\\AppData\\Local\\Temp/ipykernel_29920/3352375172.py:4: RuntimeWarning: divide by zero encountered in log\n",
      "  J = (1/m)*np.sum(-Y*np.log(y_hat) - (1-Y)*np.log(1-y_hat))\n",
      "C:\\Users\\uie70742\\AppData\\Local\\Temp/ipykernel_29920/3352375172.py:4: RuntimeWarning: invalid value encountered in multiply\n",
      "  J = (1/m)*np.sum(-Y*np.log(y_hat) - (1-Y)*np.log(1-y_hat))\n",
      "C:\\Users\\uie70742\\AppData\\Local\\Temp/ipykernel_29920/808652533.py:5: RuntimeWarning: overflow encountered in exp\n",
      "  return 1/(1+np.exp(-z))\n",
      "C:\\Users\\uie70742\\AppData\\Local\\Temp/ipykernel_29920/808652533.py:5: RuntimeWarning: overflow encountered in exp\n",
      "  return 1/(1+np.exp(-z))\n",
      "C:\\Users\\uie70742\\AppData\\Local\\Temp/ipykernel_29920/3352375172.py:4: RuntimeWarning: divide by zero encountered in log\n",
      "  J = (1/m)*np.sum(-Y*np.log(y_hat) - (1-Y)*np.log(1-y_hat))\n",
      "C:\\Users\\uie70742\\AppData\\Local\\Temp/ipykernel_29920/3352375172.py:4: RuntimeWarning: invalid value encountered in multiply\n",
      "  J = (1/m)*np.sum(-Y*np.log(y_hat) - (1-Y)*np.log(1-y_hat))\n"
     ]
    }
   ],
   "source": [
    "# Realizar la optimización \n",
    "res = opt.minimize(fun_cost, B, args=(Xa,Y))\n",
    "B = res.x"
   ]
  },
  {
   "cell_type": "code",
   "execution_count": 12,
   "metadata": {},
   "outputs": [
    {
     "data": {
      "text/plain": [
       "array([-3922.93796827,   964.39393072,  1139.1930005 ])"
      ]
     },
     "execution_count": 12,
     "metadata": {},
     "output_type": "execute_result"
    }
   ],
   "source": [
    "B"
   ]
  },
  {
   "cell_type": "markdown",
   "metadata": {},
   "source": [
    "## Modelo Obtenido de la Reg. Logística\n",
    "\n",
    "$$ z =-3922.93796827+  964.39393072x_1 + 1139.1930005x_2$$\n",
    "\n",
    "$$\\hat{y} = \\frac{1}{1 + e^{-3922.93796827+  964.39393072x_1 + 1139.1930005x_2}} \\in [0,1]$$"
   ]
  },
  {
   "cell_type": "code",
   "execution_count": 14,
   "metadata": {},
   "outputs": [
    {
     "name": "stderr",
     "output_type": "stream",
     "text": [
      "C:\\Users\\uie70742\\AppData\\Local\\Temp/ipykernel_29920/808652533.py:5: RuntimeWarning: overflow encountered in exp\n",
      "  return 1/(1+np.exp(-z))\n"
     ]
    },
    {
     "data": {
      "text/plain": [
       "array([1., 0., 1., 1., 0., 1., 0., 1., 1., 1., 0., 0., 1., 0., 0., 1., 0.,\n",
       "       1., 0., 1., 0., 1., 0., 0., 1., 0., 1., 0., 0., 1., 0., 1., 0., 1.,\n",
       "       0., 1., 0., 0., 0., 0., 1., 1., 0., 1., 0., 0., 1., 1., 0., 1., 0.,\n",
       "       1., 1., 1., 1., 0., 1., 0., 1., 1., 1., 0., 1., 1., 0., 1., 1., 1.,\n",
       "       0., 1., 0., 1., 0., 1., 0., 0., 0., 0., 1., 1., 1., 1., 1., 1., 1.,\n",
       "       0., 1., 0., 1., 1., 0., 1., 1., 0., 0., 1., 1., 0., 1., 0., 0., 1.,\n",
       "       1., 0., 0., 1., 1., 0., 0., 1., 0., 0., 0., 0., 1., 1., 0., 1., 1.,\n",
       "       1., 0., 0., 0., 1., 0., 1., 0., 1., 0., 1., 0., 1., 1., 1., 0., 0.,\n",
       "       0., 0., 0., 0., 0., 1., 1., 1., 0., 0., 1., 1., 1., 0., 1., 1., 1.,\n",
       "       0., 1., 0., 1., 1., 1., 0., 0., 1., 0., 0., 0., 0., 1., 0., 0., 0.,\n",
       "       0., 1., 1., 1., 1., 1., 0., 0., 0., 0., 0., 1., 1., 1., 1., 0., 0.,\n",
       "       0., 0., 0., 0., 1., 0., 0., 0., 0., 1., 1., 1., 0.])"
      ]
     },
     "execution_count": 14,
     "metadata": {},
     "output_type": "execute_result"
    }
   ],
   "source": [
    "reg_log(B,Xa)"
   ]
  },
  {
   "cell_type": "code",
   "execution_count": 15,
   "metadata": {},
   "outputs": [
    {
     "name": "stderr",
     "output_type": "stream",
     "text": [
      "C:\\Users\\uie70742\\AppData\\Local\\Temp/ipykernel_29920/808652533.py:5: RuntimeWarning: overflow encountered in exp\n",
      "  return 1/(1+np.exp(-z))\n"
     ]
    }
   ],
   "source": [
    "#Encontrando la predicción\n",
    "y_hat_pred = np.round(reg_log(B,Xa))"
   ]
  },
  {
   "cell_type": "code",
   "execution_count": 16,
   "metadata": {},
   "outputs": [
    {
     "data": {
      "text/plain": [
       "array([1., 0., 1., 1., 0., 1., 0., 1., 1., 1., 0., 0., 1., 0., 0., 1., 0.,\n",
       "       1., 0., 1., 0., 1., 0., 0., 1., 0., 1., 0., 0., 1., 0., 1., 0., 1.,\n",
       "       0., 1., 0., 0., 0., 0., 1., 1., 0., 1., 0., 0., 1., 1., 0., 1., 0.,\n",
       "       1., 1., 1., 1., 0., 1., 0., 1., 1., 1., 0., 1., 1., 0., 1., 1., 1.,\n",
       "       0., 1., 0., 1., 0., 1., 0., 0., 0., 0., 1., 1., 1., 1., 1., 1., 1.,\n",
       "       0., 1., 0., 1., 1., 0., 1., 1., 0., 0., 1., 1., 0., 1., 0., 0., 1.,\n",
       "       1., 0., 0., 1., 1., 0., 0., 1., 0., 0., 0., 0., 1., 1., 0., 1., 1.,\n",
       "       1., 0., 0., 0., 1., 0., 1., 0., 1., 0., 1., 0., 1., 1., 1., 0., 0.,\n",
       "       0., 0., 0., 0., 0., 1., 1., 1., 0., 0., 1., 1., 1., 0., 1., 1., 1.,\n",
       "       0., 1., 0., 1., 1., 1., 0., 0., 1., 0., 0., 0., 0., 1., 0., 0., 0.,\n",
       "       0., 1., 1., 1., 1., 1., 0., 0., 0., 0., 0., 1., 1., 1., 1., 0., 0.,\n",
       "       0., 0., 0., 0., 1., 0., 0., 0., 0., 1., 1., 1., 0.])"
      ]
     },
     "execution_count": 16,
     "metadata": {},
     "output_type": "execute_result"
    }
   ],
   "source": [
    "y_hat_pred"
   ]
  },
  {
   "cell_type": "code",
   "execution_count": 17,
   "metadata": {},
   "outputs": [
    {
     "data": {
      "text/plain": [
       "array([1, 0, 1, 1, 0, 1, 0, 1, 1, 1, 0, 0, 1, 0, 0, 1, 0, 1, 0, 1, 0, 1,\n",
       "       0, 0, 1, 0, 1, 0, 0, 1, 0, 1, 0, 1, 0, 1, 0, 0, 0, 0, 1, 1, 0, 1,\n",
       "       0, 0, 1, 1, 0, 1, 0, 1, 1, 1, 1, 0, 1, 0, 1, 1, 1, 0, 1, 1, 0, 1,\n",
       "       1, 1, 0, 1, 0, 1, 0, 1, 0, 0, 0, 0, 1, 1, 1, 1, 1, 1, 1, 0, 1, 0,\n",
       "       1, 1, 0, 1, 1, 0, 0, 1, 1, 0, 1, 0, 0, 1, 1, 0, 0, 1, 1, 0, 0, 1,\n",
       "       0, 0, 0, 0, 1, 1, 0, 1, 1, 1, 0, 0, 0, 1, 0, 1, 0, 1, 0, 1, 0, 1,\n",
       "       1, 1, 0, 0, 0, 0, 0, 0, 0, 1, 1, 1, 0, 0, 1, 1, 1, 0, 1, 1, 1, 0,\n",
       "       1, 0, 1, 1, 1, 0, 0, 1, 0, 0, 0, 0, 1, 0, 0, 0, 0, 1, 1, 1, 1, 1,\n",
       "       0, 0, 0, 0, 0, 1, 1, 1, 1, 0, 0, 0, 0, 0, 0, 1, 0, 0, 0, 0, 1, 1,\n",
       "       1, 0])"
      ]
     },
     "execution_count": 17,
     "metadata": {},
     "output_type": "execute_result"
    }
   ],
   "source": [
    "Y"
   ]
  },
  {
   "cell_type": "code",
   "execution_count": 19,
   "metadata": {},
   "outputs": [],
   "source": [
    "#Evaluar al modelo mediante metricas de sklearn\n",
    "from sklearn.metrics import (accuracy_score, precision_score, recall_score)"
   ]
  },
  {
   "cell_type": "code",
   "execution_count": 20,
   "metadata": {},
   "outputs": [
    {
     "data": {
      "text/plain": [
       "1.0"
      ]
     },
     "execution_count": 20,
     "metadata": {},
     "output_type": "execute_result"
    }
   ],
   "source": [
    "accuracy_score(Y,y_hat_pred)\n"
   ]
  },
  {
   "cell_type": "code",
   "execution_count": 21,
   "metadata": {},
   "outputs": [
    {
     "data": {
      "text/plain": [
       "1.0"
      ]
     },
     "execution_count": 21,
     "metadata": {},
     "output_type": "execute_result"
    }
   ],
   "source": [
    "precision_score(Y,y_hat_pred)"
   ]
  },
  {
   "cell_type": "code",
   "execution_count": 22,
   "metadata": {},
   "outputs": [
    {
     "data": {
      "text/plain": [
       "1.0"
      ]
     },
     "execution_count": 22,
     "metadata": {},
     "output_type": "execute_result"
    }
   ],
   "source": [
    "recall_score(Y,y_hat_pred)"
   ]
  },
  {
   "cell_type": "code",
   "execution_count": null,
   "metadata": {},
   "outputs": [],
   "source": [
    "#[1,0,1,1]\n",
    "#[0,0,1,1]\n",
    "\n",
    "#M=[[2, 1],\n",
    "#   [0,1]]\n",
    "\n",
    "#accuracy = 2+1/4\n"
   ]
  },
  {
   "cell_type": "markdown",
   "metadata": {},
   "source": [
    "### Martes repaso 21, viernes examen 24 Noviembre"
   ]
  },
  {
   "cell_type": "code",
   "execution_count": null,
   "metadata": {},
   "outputs": [],
   "source": []
  }
 ],
 "metadata": {
  "kernelspec": {
   "display_name": "Python 3 (ipykernel)",
   "language": "python",
   "name": "python3"
  },
  "language_info": {
   "codemirror_mode": {
    "name": "ipython",
    "version": 3
   },
   "file_extension": ".py",
   "mimetype": "text/x-python",
   "name": "python",
   "nbconvert_exporter": "python",
   "pygments_lexer": "ipython3",
   "version": "3.8.8"
  }
 },
 "nbformat": 4,
 "nbformat_minor": 2
}
