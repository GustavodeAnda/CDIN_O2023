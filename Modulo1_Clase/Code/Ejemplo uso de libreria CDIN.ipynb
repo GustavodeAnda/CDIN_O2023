{
 "cells": [
  {
   "cell_type": "code",
   "execution_count": 1,
   "id": "fd93f993",
   "metadata": {},
   "outputs": [],
   "source": [
    "import pandas as pd\n",
    "import numpy as np"
   ]
  },
  {
   "cell_type": "code",
   "execution_count": 4,
   "id": "34d221a1",
   "metadata": {},
   "outputs": [],
   "source": [
    "vehicles_df = pd.read_csv('../Data/Vehicles_2015.csv')"
   ]
  },
  {
   "cell_type": "code",
   "execution_count": 5,
   "id": "c07cd6aa",
   "metadata": {},
   "outputs": [],
   "source": [
    "from CDIN import CDIN as cd"
   ]
  },
  {
   "cell_type": "code",
   "execution_count": 6,
   "id": "5fb1d3f3",
   "metadata": {},
   "outputs": [],
   "source": [
    "cd_vehicles = cd(vehicles_df)"
   ]
  },
  {
   "cell_type": "code",
   "execution_count": 7,
   "id": "356ffbf0",
   "metadata": {},
   "outputs": [
    {
     "data": {
      "text/plain": [
       "([],\n",
       " Empty DataFrame\n",
       " Columns: []\n",
       " Index: [0, 1, 2, 3, 4, 5, 6, 7, 8, 9, 10, 11, 12, 13, 14, 15, 16, 17, 18, 19, 20, 21, 22, 23, 24, 25, 26, 27, 28, 29, 30, 31, 32, 33, 34, 35, 36, 37, 38, 39, 40, 41, 42, 43, 44, 45, 46, 47, 48, 49, 50, 51, 52, 53, 54, 55, 56, 57, 58, 59, 60, 61, 62, 63, 64, 65, 66, 67, 68, 69, 70, 71, 72, 73, 74, 75, 76, 77, 78, 79, 80, 81, 82, 83, 84, 85, 86, 87, 88, 89, 90, 91, 92, 93, 94, 95, 96, 97, 98, 99, ...]\n",
       " \n",
       " [257845 rows x 0 columns])"
      ]
     },
     "execution_count": 7,
     "metadata": {},
     "output_type": "execute_result"
    }
   ],
   "source": [
    "#Obteniendo los datos binarios\n",
    "cd_vehicles.get_binaries()"
   ]
  },
  {
   "cell_type": "code",
   "execution_count": null,
   "id": "989c93bc",
   "metadata": {},
   "outputs": [],
   "source": []
  }
 ],
 "metadata": {
  "kernelspec": {
   "display_name": "Python 3 (ipykernel)",
   "language": "python",
   "name": "python3"
  },
  "language_info": {
   "codemirror_mode": {
    "name": "ipython",
    "version": 3
   },
   "file_extension": ".py",
   "mimetype": "text/x-python",
   "name": "python",
   "nbconvert_exporter": "python",
   "pygments_lexer": "ipython3",
   "version": "3.8.8"
  }
 },
 "nbformat": 4,
 "nbformat_minor": 5
}
