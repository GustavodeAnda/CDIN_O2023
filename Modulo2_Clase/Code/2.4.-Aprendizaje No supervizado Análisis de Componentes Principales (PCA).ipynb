{
 "cells": [
  {
   "cell_type": "markdown",
   "metadata": {},
   "source": [
    "<img style=\"float: left;;\" src='../Imagenes/iteso.jpg' width=\"50\" height=\"100\"/></a>\n",
    "\n",
    "# <center> <font color= #000047> Módulo II: Aprendizaje No supervizado: PCA\n"
   ]
  },
  {
   "cell_type": "markdown",
   "metadata": {},
   "source": [
    "## Introducción\n"
   ]
  },
  {
   "cell_type": "markdown",
   "metadata": {},
   "source": [
    "A menudo, el objetivo deseado es reducir las dimensiones de un conjunto de datos $d$ dimensional proyectándolo en un subespacio de $k$ dimensiones ($k<d$) para aumentar la eficiencia computacional mientras se conserva la mayor parte de la información. \n",
    "\n",
    "**Obj de PCA:** Reducir las dimensiones de un conjunto de datos a una dimensión menor\n",
    "\n",
    "Una pregunta importante que hay que hacer es \n",
    "\n",
    "- ¿Pero, como saber cuál es el tamaño de  𝑘  que representa la mayor información de nuestros datos?\n",
    "\n"
   ]
  },
  {
   "cell_type": "markdown",
   "metadata": {},
   "source": [
    "### Algoritmo\n",
    "\n",
    "1.- Obtener la matriz de covarianza\n",
    "\n",
    "2.- Obtener los valores y vectores propios de la matriz covarianza\n",
    "\n",
    "3.- Realizar una transformación de datos del espacio original al espacion con una dimensión menor"
   ]
  },
  {
   "cell_type": "markdown",
   "metadata": {},
   "source": [
    "### 1.- Matriz de covarianza\n",
    "\n",
    "La matriz de covarianza se denota como $\\sigma$, el cual es una matriz de $d \\times d$ donde cada elemento representa la matriz de covarianza de dos features (variables). La covarianza de dos datos se calcula como sigue:\n",
    "\n",
    "$$\\sigma_{jk} = \\frac{1}{n-1}\\sum_{i=1}^{N}\\left(  x_{ij}-\\bar{x}_j \\right)  \\left( x_{ik}-\\bar{x}_k \\right).$$\n",
    "\n",
    "Podemos resumir el calculo de la matriz de covarianza de forma matricial como:\n",
    "$\\Sigma = \\frac{1}{n-1} \\left( (\\mathbf{X} - \\mathbf{\\bar{x}})^T\\;(\\mathbf{X} - \\mathbf{\\bar{x}}) \\right)$\n",
    "donde $\\mathbf{\\bar{x}}$ es el vector de medias $\\mathbf{\\bar{x}} = 1/n\\sum\\limits_{i=1}^n x_{i}.$\n",
    "El vector de medias es un vector de dimension $d$ donde cada valor en este vector representa la media de cada columna de datos en el dataset."
   ]
  },
  {
   "cell_type": "markdown",
   "metadata": {},
   "source": [
    "### 2.- Valores y Vectores Propios\n",
    "\n",
    "### Repaso:\n",
    "\n",
    "#### Valores propios\n",
    "$det(\\lambda I - A) = 0$\n",
    "\n",
    "Para encontrar los valores propios veamos un ejemplo:\n",
    "\n",
    "$$A=\\begin{bmatrix} 4 &  1\\\\ -6 & -3 \\end{bmatrix}$$\n",
    "\n",
    "$$ I=\\begin{bmatrix} 1 &  0\\\\ 0 & 1 \\end{bmatrix}$$\n",
    "$$\\lambda I - A= \\begin{bmatrix} \\lambda - 4 &  -1\\\\ 6 & \\lambda + 3 \\end{bmatrix} $$\n",
    "\n",
    "$$det(\\lambda I - A)= (\\lambda -4)(\\lambda + 3) + 6 = \\lambda^2 -\\lambda -12 + 6= \\lambda^2 - \\lambda - 6 = 0 $$\n",
    "\n",
    "$$ \\lambda_1 = 3$$\n",
    "$$ \\lambda_2 = -2$$"
   ]
  },
  {
   "cell_type": "markdown",
   "metadata": {},
   "source": [
    "#### Vectores propios\n",
    "\n",
    "$$ (\\lambda I - A)v = 0 $$\n",
    "\n",
    "$$v=\\begin{bmatrix} x_1\\\\ x_2 \\end{bmatrix}$$"
   ]
  },
  {
   "cell_type": "markdown",
   "metadata": {},
   "source": [
    "$$(\\lambda I - A)v = \\lambda I - A= \\begin{bmatrix} \\lambda - 4 &  -1\\\\ 6 & \\lambda + 3 \\end{bmatrix}\\begin{bmatrix} x_1\\\\ x_2 \\end{bmatrix}=$$\n",
    "\n",
    "$$\\begin{bmatrix} x_1(\\lambda - 4) -x2\\\\ 6x_1 + x_2(\\lambda + 3) \\end{bmatrix} = \\begin{bmatrix} x_1\\lambda - 4x_1 -x_2\\\\ 6x_1 + x_2\\lambda + 3x_2 \\end{bmatrix} = \\begin{bmatrix} 0\\\\ 0 \\end{bmatrix}$$\n",
    "\n",
    "a) $\\lambda_1 = 3$\n",
    "$$ (\\lambda_1 -4)x_1 - x_2 = 0$$\n",
    "$$ 6x_1 + (\\lambda_1 +3)x_2 = 0$$\n",
    "\n",
    "$$ -x_1 - x_2 = 0$$\n",
    "$$ 6x_1 + 6x_2 = 0$$\n",
    "\n",
    "$x_1 = -x_2$\n",
    "\n",
    "\n",
    "$$v=\\begin{bmatrix} -x_2\\\\ x_2 \\end{bmatrix}$$\n",
    "$$ x_2=1$$\n",
    "$$v=\\begin{bmatrix} -1\\\\ 1 \\end{bmatrix}$$\n",
    "\n",
    "b) $\\lambda_2 = -2$\n",
    "$$x_2=6$$\n",
    "$$v_2=\\begin{bmatrix} -1\\\\ 6 \\end{bmatrix}$$\n",
    "\n",
    "$$ Av = \\lambda v$$\n"
   ]
  },
  {
   "cell_type": "markdown",
   "metadata": {},
   "source": [
    "### Cuales son los vectores que expanden el espacio en $\\mathcal{R}^2$\n",
    "\n",
    "$$ x= \\alpha_1 w_1 + \\alpha_2 w_2$$\n",
    "\n",
    "$$ x = \\begin{bmatrix} -1\\\\ 6 \\end{bmatrix}$$\n",
    "\n",
    "$$ w_1 = \\begin{bmatrix} 1\\\\ 0 \\end{bmatrix}$$\n",
    "\n",
    "$$ w_2 = \\begin{bmatrix} 0\\\\ 1 \\end{bmatrix}$$\n",
    "\n",
    "$$ x= -1w_1 + 6w_2$$\n",
    "\n",
    "$$ x_2 = \\begin{bmatrix} 4\\\\ 8 \\end{bmatrix}$$\n",
    "\n",
    "$$ x= 4w_1 + 8w_2$$\n",
    "\n",
    "Ahora en $\\mathcal{R}^3$ \n",
    "\n",
    "$$ w_1 = \\begin{bmatrix} 1\\\\ 0 \\\\ 0 \\end{bmatrix}$$\n",
    "\n",
    "$$ w_2 = \\begin{bmatrix} 0\\\\ 1 \\\\ 0\\end{bmatrix}$$\n",
    "\n",
    "$$ w_3 = \\begin{bmatrix} 0\\\\ 0 \\\\ 1\\end{bmatrix}$$\n",
    "\n"
   ]
  },
  {
   "cell_type": "markdown",
   "metadata": {},
   "source": [
    "### 3.- Transformación de espacios\n",
    "\n",
    "#### Matriz de transformación\n",
    "\n",
    "$T =[w_1 w_2 w_3]$\n",
    "\n",
    "$$ I=\\begin{bmatrix} 1 &  0 & 0\\\\ 0 &  1 & 0\\\\ 0 & 0 & 1 \\end{bmatrix}$$\n",
    "\n",
    "$$A * T_2 = \\bar{A}$$\n",
    "\n",
    "\n",
    "$$ T_2 \\in \\mathcal{R}^{3x2}$$\n",
    "\n",
    "Si se requiere una transformación de espacios $\\mathcal{R}^3 -> \\mathcal{R}^2$\n",
    "\n",
    "$$A=\\begin{bmatrix} 4 &  1 & 5\\\\ -6 & -3 & 3\\\\ 1 & 2 & 1\\end{bmatrix}$$\n",
    "\n",
    "\n",
    "$$w_1 = \n",
    "\\begin{bmatrix} 1 \\\\ 0 \\\\ 0\\end{bmatrix}$$\n",
    "\n",
    "$$w_2 = \n",
    "\\begin{bmatrix} 0 \\\\ 1 \\\\ 0\\end{bmatrix}$$\n",
    "\n",
    "$$w_3 = \n",
    "\\begin{bmatrix} 0 \\\\ 0 \\\\ 1\\end{bmatrix}$$\n",
    "\n",
    "$T =[w_1 w_2]$\n",
    "\n",
    "$$T=\\begin{bmatrix} 1  & 0\\\\ 0 & 1\\\\ 0 & 0 \\end{bmatrix} \\in \\mathcal{R}^{3x2} $$\n",
    "\n",
    "$$ A*T = ?$$\n",
    "\n",
    "$$\\bar{A}=\\begin{bmatrix} 4 &  1 \\\\ -6 & -3\\\\ 0 & 0 \\end{bmatrix}$$\n",
    "\n",
    "$T=[v_1, v_2, ...,v_n]$\n",
    "\n",
    "$T=[v_1, v_2,v_3]$\n",
    "\n",
    "$A_{new} = A*T$\n",
    "\n",
    "$A = A_{new} T^{-1}$\n",
    "\n",
    "$A = A_{new} T^{T}$\n",
    "\n"
   ]
  },
  {
   "cell_type": "markdown",
   "metadata": {},
   "source": [
    "### Resumen de PCA\n",
    "\n",
    "- Estandarizar los datos\n",
    "- Obtener la matriz de covarianzas\n",
    "- Obtener los valores y vectores propios de la matriz de covarianzas\n",
    "- Ordenar los valores y vectores propios de manera descendente y escoger los k vectores propios que corresponden a los k valores propios más grandes donde k es la dimesion del nuevo espacio \n",
    "- Contruir la matriz de transformación $T$\n",
    "- Realizar la transformación del conjunto de datos $X$ con $T$ para obtener un conjunto de datos $X_{new}$ en un espacio con menor dimensión\n",
    "\n",
    "#### ¿Por qué PCA es útil en el aprendizaje automático?, aquí está la lista de los 3 beneficios principales:\n",
    "\n",
    "- Reduce el tiempo de entrenamiento, debido a un conjunto de datos más pequeño.\n",
    "\n",
    "- Elimina el ruido, manteniendo solo lo relevante.\n",
    "\n",
    "- Hace posible la visualización, en los casos en los que se tiene un máximo de 3 componentes principales.\n"
   ]
  },
  {
   "cell_type": "markdown",
   "metadata": {},
   "source": [
    "## Ejemplo 1:\n",
    "\n"
   ]
  },
  {
   "cell_type": "code",
   "execution_count": 1,
   "metadata": {},
   "outputs": [],
   "source": [
    "import numpy as np\n",
    "import matplotlib.pyplot as plt\n",
    "import pandas as pd"
   ]
  },
  {
   "cell_type": "code",
   "execution_count": 2,
   "metadata": {},
   "outputs": [
    {
     "data": {
      "text/plain": [
       "array([[2.5, 2.4],\n",
       "       [0.5, 0.6],\n",
       "       [3. , 3.1],\n",
       "       [2.5, 2.2],\n",
       "       [1.5, 1.2],\n",
       "       [0.2, 0.4],\n",
       "       [4.5, 4.7],\n",
       "       [1.7, 1.2],\n",
       "       [3.7, 3.8],\n",
       "       [2.1, 1.9]])"
      ]
     },
     "execution_count": 2,
     "metadata": {},
     "output_type": "execute_result"
    }
   ],
   "source": [
    "data = np.array([[2.5,2.4],\n",
    "                 [0.5,0.6],\n",
    "                 [3.0,3.1],\n",
    "                 [2.5,2.2],\n",
    "                 [1.5,1.2],\n",
    "                 [0.2,0.4],\n",
    "                 [4.5,4.7],\n",
    "                 [1.7,1.2],\n",
    "                 [3.7,3.8],\n",
    "                 [2.1,1.9]])\n",
    "data"
   ]
  },
  {
   "cell_type": "code",
   "execution_count": 4,
   "metadata": {},
   "outputs": [
    {
     "data": {
      "text/html": [
       "<div>\n",
       "<style scoped>\n",
       "    .dataframe tbody tr th:only-of-type {\n",
       "        vertical-align: middle;\n",
       "    }\n",
       "\n",
       "    .dataframe tbody tr th {\n",
       "        vertical-align: top;\n",
       "    }\n",
       "\n",
       "    .dataframe thead th {\n",
       "        text-align: right;\n",
       "    }\n",
       "</style>\n",
       "<table border=\"1\" class=\"dataframe\">\n",
       "  <thead>\n",
       "    <tr style=\"text-align: right;\">\n",
       "      <th></th>\n",
       "      <th>x_1</th>\n",
       "      <th>x_2</th>\n",
       "    </tr>\n",
       "  </thead>\n",
       "  <tbody>\n",
       "    <tr>\n",
       "      <th>0</th>\n",
       "      <td>2.5</td>\n",
       "      <td>2.4</td>\n",
       "    </tr>\n",
       "    <tr>\n",
       "      <th>1</th>\n",
       "      <td>0.5</td>\n",
       "      <td>0.6</td>\n",
       "    </tr>\n",
       "    <tr>\n",
       "      <th>2</th>\n",
       "      <td>3.0</td>\n",
       "      <td>3.1</td>\n",
       "    </tr>\n",
       "    <tr>\n",
       "      <th>3</th>\n",
       "      <td>2.5</td>\n",
       "      <td>2.2</td>\n",
       "    </tr>\n",
       "    <tr>\n",
       "      <th>4</th>\n",
       "      <td>1.5</td>\n",
       "      <td>1.2</td>\n",
       "    </tr>\n",
       "    <tr>\n",
       "      <th>5</th>\n",
       "      <td>0.2</td>\n",
       "      <td>0.4</td>\n",
       "    </tr>\n",
       "    <tr>\n",
       "      <th>6</th>\n",
       "      <td>4.5</td>\n",
       "      <td>4.7</td>\n",
       "    </tr>\n",
       "    <tr>\n",
       "      <th>7</th>\n",
       "      <td>1.7</td>\n",
       "      <td>1.2</td>\n",
       "    </tr>\n",
       "    <tr>\n",
       "      <th>8</th>\n",
       "      <td>3.7</td>\n",
       "      <td>3.8</td>\n",
       "    </tr>\n",
       "    <tr>\n",
       "      <th>9</th>\n",
       "      <td>2.1</td>\n",
       "      <td>1.9</td>\n",
       "    </tr>\n",
       "  </tbody>\n",
       "</table>\n",
       "</div>"
      ],
      "text/plain": [
       "   x_1  x_2\n",
       "0  2.5  2.4\n",
       "1  0.5  0.6\n",
       "2  3.0  3.1\n",
       "3  2.5  2.2\n",
       "4  1.5  1.2\n",
       "5  0.2  0.4\n",
       "6  4.5  4.7\n",
       "7  1.7  1.2\n",
       "8  3.7  3.8\n",
       "9  2.1  1.9"
      ]
     },
     "execution_count": 4,
     "metadata": {},
     "output_type": "execute_result"
    }
   ],
   "source": [
    "pd.DataFrame(data, columns = ['x_1','x_2'])"
   ]
  },
  {
   "cell_type": "code",
   "execution_count": 3,
   "metadata": {},
   "outputs": [
    {
     "data": {
      "image/png": "[encoded data removed]",
      "text/plain": [
       "<Figure size 432x288 with 1 Axes>"
      ]
     },
     "metadata": {
      "needs_background": "light"
     },
     "output_type": "display_data"
    }
   ],
   "source": [
    "plt.figure(figsize=(6,4))\n",
    "plt.scatter(data[:,0],data[:,1])\n",
    "plt.grid()\n",
    "plt.xlabel('$x_1$')\n",
    "plt.ylabel('$x_2$')\n",
    "plt.show()"
   ]
  },
  {
   "cell_type": "markdown",
   "metadata": {},
   "source": [
    "### 1.- Estandarizar los datos\n",
    "\n",
    "$$z = \\frac{x -\\bar{x}}{\\sigma}$$"
   ]
  },
  {
   "cell_type": "code",
   "execution_count": 7,
   "metadata": {},
   "outputs": [],
   "source": [
    "medias = data.mean(axis=0)\n",
    "varian = data.std(axis=0)\n",
    "\n",
    "#data_std = (data - medias)/varian\n",
    "data_std = (data - data.mean(axis=0))/data.std(axis=0)"
   ]
  },
  {
   "cell_type": "code",
   "execution_count": 8,
   "metadata": {},
   "outputs": [
    {
     "data": {
      "text/plain": [
       "array([[ 0.22138711,  0.18884739],\n",
       "       [-1.3599494 , -1.17085384],\n",
       "       [ 0.61672124,  0.7176201 ],\n",
       "       [ 0.22138711,  0.03776948],\n",
       "       [-0.56928114, -0.7176201 ],\n",
       "       [-1.59714987, -1.32193176],\n",
       "       [ 1.80272362,  1.92624342],\n",
       "       [-0.41114749, -0.7176201 ],\n",
       "       [ 1.17018902,  1.2463928 ],\n",
       "       [-0.09488019, -0.18884739]])"
      ]
     },
     "execution_count": 8,
     "metadata": {},
     "output_type": "execute_result"
    }
   ],
   "source": [
    "data_std"
   ]
  },
  {
   "cell_type": "code",
   "execution_count": 9,
   "metadata": {},
   "outputs": [
    {
     "data": {
      "image/png": "[encoded data removed]",
      "text/plain": [
       "<Figure size 432x288 with 1 Axes>"
      ]
     },
     "metadata": {
      "needs_background": "light"
     },
     "output_type": "display_data"
    }
   ],
   "source": [
    "plt.figure(figsize=(6,4))\n",
    "plt.scatter(data_std[:,0],data_std[:,1])\n",
    "plt.grid()\n",
    "plt.xlabel('$x_1$')\n",
    "plt.ylabel('$x_2$')\n",
    "plt.show()"
   ]
  },
  {
   "cell_type": "markdown",
   "metadata": {},
   "source": [
    "### 2.-  Obtener la matriz de covarianzas"
   ]
  },
  {
   "cell_type": "code",
   "execution_count": 10,
   "metadata": {},
   "outputs": [
    {
     "name": "stdout",
     "output_type": "stream",
     "text": [
      "Help on function cov in module numpy:\n",
      "\n",
      "cov(m, y=None, rowvar=True, bias=False, ddof=None, fweights=None, aweights=None, *, dtype=None)\n",
      "    Estimate a covariance matrix, given data and weights.\n",
      "    \n",
      "    Covariance indicates the level to which two variables vary together.\n",
      "    If we examine N-dimensional samples, :math:`X = [x_1, x_2, ... x_N]^T`,\n",
      "    then the covariance matrix element :math:`C_{ij}` is the covariance of\n",
      "    :math:`x_i` and :math:`x_j`. The element :math:`C_{ii}` is the variance\n",
      "    of :math:`x_i`.\n",
      "    \n",
      "    See the notes for an outline of the algorithm.\n",
      "    \n",
      "    Parameters\n",
      "    ----------\n",
      "    m : array_like\n",
      "        A 1-D or 2-D array containing multiple variables and observations.\n",
      "        Each row of `m` represents a variable, and each column a single\n",
      "        observation of all those variables. Also see `rowvar` below.\n",
      "    y : array_like, optional\n",
      "        An additional set of variables and observations. `y` has the same form\n",
      "        as that of `m`.\n",
      "    rowvar : bool, optional\n",
      "        If `rowvar` is True (default), then each row represents a\n",
      "        variable, with observations in the columns. Otherwise, the relationship\n",
      "        is transposed: each column represents a variable, while the rows\n",
      "        contain observations.\n",
      "    bias : bool, optional\n",
      "        Default normalization (False) is by ``(N - 1)``, where ``N`` is the\n",
      "        number of observations given (unbiased estimate). If `bias` is True,\n",
      "        then normalization is by ``N``. These values can be overridden by using\n",
      "        the keyword ``ddof`` in numpy versions >= 1.5.\n",
      "    ddof : int, optional\n",
      "        If not ``None`` the default value implied by `bias` is overridden.\n",
      "        Note that ``ddof=1`` will return the unbiased estimate, even if both\n",
      "        `fweights` and `aweights` are specified, and ``ddof=0`` will return\n",
      "        the simple average. See the notes for the details. The default value\n",
      "        is ``None``.\n",
      "    \n",
      "        .. versionadded:: 1.5\n",
      "    fweights : array_like, int, optional\n",
      "        1-D array of integer frequency weights; the number of times each\n",
      "        observation vector should be repeated.\n",
      "    \n",
      "        .. versionadded:: 1.10\n",
      "    aweights : array_like, optional\n",
      "        1-D array of observation vector weights. These relative weights are\n",
      "        typically large for observations considered \"important\" and smaller for\n",
      "        observations considered less \"important\". If ``ddof=0`` the array of\n",
      "        weights can be used to assign probabilities to observation vectors.\n",
      "    \n",
      "        .. versionadded:: 1.10\n",
      "    dtype : data-type, optional\n",
      "        Data-type of the result. By default, the return data-type will have\n",
      "        at least `numpy.float64` precision.\n",
      "    \n",
      "        .. versionadded:: 1.20\n",
      "    \n",
      "    Returns\n",
      "    -------\n",
      "    out : ndarray\n",
      "        The covariance matrix of the variables.\n",
      "    \n",
      "    See Also\n",
      "    --------\n",
      "    corrcoef : Normalized covariance matrix\n",
      "    \n",
      "    Notes\n",
      "    -----\n",
      "    Assume that the observations are in the columns of the observation\n",
      "    array `m` and let ``f = fweights`` and ``a = aweights`` for brevity. The\n",
      "    steps to compute the weighted covariance are as follows::\n",
      "    \n",
      "        >>> m = np.arange(10, dtype=np.float64)\n",
      "        >>> f = np.arange(10) * 2\n",
      "        >>> a = np.arange(10) ** 2.\n",
      "        >>> ddof = 1\n",
      "        >>> w = f * a\n",
      "        >>> v1 = np.sum(w)\n",
      "        >>> v2 = np.sum(w * a)\n",
      "        >>> m -= np.sum(m * w, axis=None, keepdims=True) / v1\n",
      "        >>> cov = np.dot(m * w, m.T) * v1 / (v1**2 - ddof * v2)\n",
      "    \n",
      "    Note that when ``a == 1``, the normalization factor\n",
      "    ``v1 / (v1**2 - ddof * v2)`` goes over to ``1 / (np.sum(f) - ddof)``\n",
      "    as it should.\n",
      "    \n",
      "    Examples\n",
      "    --------\n",
      "    Consider two variables, :math:`x_0` and :math:`x_1`, which\n",
      "    correlate perfectly, but in opposite directions:\n",
      "    \n",
      "    >>> x = np.array([[0, 2], [1, 1], [2, 0]]).T\n",
      "    >>> x\n",
      "    array([[0, 1, 2],\n",
      "           [2, 1, 0]])\n",
      "    \n",
      "    Note how :math:`x_0` increases while :math:`x_1` decreases. The covariance\n",
      "    matrix shows this clearly:\n",
      "    \n",
      "    >>> np.cov(x)\n",
      "    array([[ 1., -1.],\n",
      "           [-1.,  1.]])\n",
      "    \n",
      "    Note that element :math:`C_{0,1}`, which shows the correlation between\n",
      "    :math:`x_0` and :math:`x_1`, is negative.\n",
      "    \n",
      "    Further, note how `x` and `y` are combined:\n",
      "    \n",
      "    >>> x = [-2.1, -1,  4.3]\n",
      "    >>> y = [3,  1.1,  0.12]\n",
      "    >>> X = np.stack((x, y), axis=0)\n",
      "    >>> np.cov(X)\n",
      "    array([[11.71      , -4.286     ], # may vary\n",
      "           [-4.286     ,  2.144133]])\n",
      "    >>> np.cov(x, y)\n",
      "    array([[11.71      , -4.286     ], # may vary\n",
      "           [-4.286     ,  2.144133]])\n",
      "    >>> np.cov(x)\n",
      "    array(11.71)\n",
      "\n"
     ]
    }
   ],
   "source": [
    "help(np.cov)"
   ]
  },
  {
   "cell_type": "code",
   "execution_count": 11,
   "metadata": {},
   "outputs": [
    {
     "data": {
      "text/plain": [
       "array([[1.11111111, 1.09431773],\n",
       "       [1.09431773, 1.11111111]])"
      ]
     },
     "execution_count": 11,
     "metadata": {},
     "output_type": "execute_result"
    }
   ],
   "source": [
    "data_cov = np.cov(data_std.transpose())\n",
    "data_cov"
   ]
  },
  {
   "cell_type": "markdown",
   "metadata": {},
   "source": [
    "### 3.- Obtener los valores y vectores propios de la matriz de covarianzas"
   ]
  },
  {
   "cell_type": "code",
   "execution_count": 12,
   "metadata": {},
   "outputs": [
    {
     "name": "stdout",
     "output_type": "stream",
     "text": [
      "Help on function eig in module numpy.linalg:\n",
      "\n",
      "eig(a)\n",
      "    Compute the eigenvalues and right eigenvectors of a square array.\n",
      "    \n",
      "    Parameters\n",
      "    ----------\n",
      "    a : (..., M, M) array\n",
      "        Matrices for which the eigenvalues and right eigenvectors will\n",
      "        be computed\n",
      "    \n",
      "    Returns\n",
      "    -------\n",
      "    w : (..., M) array\n",
      "        The eigenvalues, each repeated according to its multiplicity.\n",
      "        The eigenvalues are not necessarily ordered. The resulting\n",
      "        array will be of complex type, unless the imaginary part is\n",
      "        zero in which case it will be cast to a real type. When `a`\n",
      "        is real the resulting eigenvalues will be real (0 imaginary\n",
      "        part) or occur in conjugate pairs\n",
      "    \n",
      "    v : (..., M, M) array\n",
      "        The normalized (unit \"length\") eigenvectors, such that the\n",
      "        column ``v[:,i]`` is the eigenvector corresponding to the\n",
      "        eigenvalue ``w[i]``.\n",
      "    \n",
      "    Raises\n",
      "    ------\n",
      "    LinAlgError\n",
      "        If the eigenvalue computation does not converge.\n",
      "    \n",
      "    See Also\n",
      "    --------\n",
      "    eigvals : eigenvalues of a non-symmetric array.\n",
      "    eigh : eigenvalues and eigenvectors of a real symmetric or complex\n",
      "           Hermitian (conjugate symmetric) array.\n",
      "    eigvalsh : eigenvalues of a real symmetric or complex Hermitian\n",
      "               (conjugate symmetric) array.\n",
      "    scipy.linalg.eig : Similar function in SciPy that also solves the\n",
      "                       generalized eigenvalue problem.\n",
      "    scipy.linalg.schur : Best choice for unitary and other non-Hermitian\n",
      "                         normal matrices.\n",
      "    \n",
      "    Notes\n",
      "    -----\n",
      "    \n",
      "    .. versionadded:: 1.8.0\n",
      "    \n",
      "    Broadcasting rules apply, see the `numpy.linalg` documentation for\n",
      "    details.\n",
      "    \n",
      "    This is implemented using the ``_geev`` LAPACK routines which compute\n",
      "    the eigenvalues and eigenvectors of general square arrays.\n",
      "    \n",
      "    The number `w` is an eigenvalue of `a` if there exists a vector\n",
      "    `v` such that ``a @ v = w * v``. Thus, the arrays `a`, `w`, and\n",
      "    `v` satisfy the equations ``a @ v[:,i] = w[i] * v[:,i]``\n",
      "    for :math:`i \\in \\{0,...,M-1\\}`.\n",
      "    \n",
      "    The array `v` of eigenvectors may not be of maximum rank, that is, some\n",
      "    of the columns may be linearly dependent, although round-off error may\n",
      "    obscure that fact. If the eigenvalues are all different, then theoretically\n",
      "    the eigenvectors are linearly independent and `a` can be diagonalized by\n",
      "    a similarity transformation using `v`, i.e, ``inv(v) @ a @ v`` is diagonal.\n",
      "    \n",
      "    For non-Hermitian normal matrices the SciPy function `scipy.linalg.schur`\n",
      "    is preferred because the matrix `v` is guaranteed to be unitary, which is\n",
      "    not the case when using `eig`. The Schur factorization produces an\n",
      "    upper triangular matrix rather than a diagonal matrix, but for normal\n",
      "    matrices only the diagonal of the upper triangular matrix is needed, the\n",
      "    rest is roundoff error.\n",
      "    \n",
      "    Finally, it is emphasized that `v` consists of the *right* (as in\n",
      "    right-hand side) eigenvectors of `a`.  A vector `y` satisfying\n",
      "    ``y.T @ a = z * y.T`` for some number `z` is called a *left*\n",
      "    eigenvector of `a`, and, in general, the left and right eigenvectors\n",
      "    of a matrix are not necessarily the (perhaps conjugate) transposes\n",
      "    of each other.\n",
      "    \n",
      "    References\n",
      "    ----------\n",
      "    G. Strang, *Linear Algebra and Its Applications*, 2nd Ed., Orlando, FL,\n",
      "    Academic Press, Inc., 1980, Various pp.\n",
      "    \n",
      "    Examples\n",
      "    --------\n",
      "    >>> from numpy import linalg as LA\n",
      "    \n",
      "    (Almost) trivial example with real e-values and e-vectors.\n",
      "    \n",
      "    >>> w, v = LA.eig(np.diag((1, 2, 3)))\n",
      "    >>> w; v\n",
      "    array([1., 2., 3.])\n",
      "    array([[1., 0., 0.],\n",
      "           [0., 1., 0.],\n",
      "           [0., 0., 1.]])\n",
      "    \n",
      "    Real matrix possessing complex e-values and e-vectors; note that the\n",
      "    e-values are complex conjugates of each other.\n",
      "    \n",
      "    >>> w, v = LA.eig(np.array([[1, -1], [1, 1]]))\n",
      "    >>> w; v\n",
      "    array([1.+1.j, 1.-1.j])\n",
      "    array([[0.70710678+0.j        , 0.70710678-0.j        ],\n",
      "           [0.        -0.70710678j, 0.        +0.70710678j]])\n",
      "    \n",
      "    Complex-valued matrix with real e-values (but complex-valued e-vectors);\n",
      "    note that ``a.conj().T == a``, i.e., `a` is Hermitian.\n",
      "    \n",
      "    >>> a = np.array([[1, 1j], [-1j, 1]])\n",
      "    >>> w, v = LA.eig(a)\n",
      "    >>> w; v\n",
      "    array([2.+0.j, 0.+0.j])\n",
      "    array([[ 0.        +0.70710678j,  0.70710678+0.j        ], # may vary\n",
      "           [ 0.70710678+0.j        , -0.        +0.70710678j]])\n",
      "    \n",
      "    Be careful about round-off error!\n",
      "    \n",
      "    >>> a = np.array([[1 + 1e-9, 0], [0, 1 - 1e-9]])\n",
      "    >>> # Theor. e-values are 1 +/- 1e-9\n",
      "    >>> w, v = LA.eig(a)\n",
      "    >>> w; v\n",
      "    array([1., 1.])\n",
      "    array([[1., 0.],\n",
      "           [0., 1.]])\n",
      "\n"
     ]
    }
   ],
   "source": [
    "help(np.linalg.eig)"
   ]
  },
  {
   "cell_type": "code",
   "execution_count": 13,
   "metadata": {},
   "outputs": [],
   "source": [
    "#w son los valores propios de la matriz\n",
    "#v son los vectores propios de la matriz\n",
    "w,v = np.linalg.eig(data_cov)"
   ]
  },
  {
   "cell_type": "code",
   "execution_count": 14,
   "metadata": {},
   "outputs": [
    {
     "data": {
      "text/plain": [
       "array([2.20542884, 0.01679338])"
      ]
     },
     "execution_count": 14,
     "metadata": {},
     "output_type": "execute_result"
    }
   ],
   "source": [
    "w"
   ]
  },
  {
   "cell_type": "code",
   "execution_count": 15,
   "metadata": {},
   "outputs": [
    {
     "data": {
      "text/plain": [
       "array([[ 0.70710678, -0.70710678],\n",
       "       [ 0.70710678,  0.70710678]])"
      ]
     },
     "execution_count": 15,
     "metadata": {},
     "output_type": "execute_result"
    }
   ],
   "source": [
    "v"
   ]
  },
  {
   "cell_type": "code",
   "execution_count": 17,
   "metadata": {},
   "outputs": [
    {
     "data": {
      "image/png": "[encoded data removed]",
      "text/plain": [
       "<Figure size 432x288 with 1 Axes>"
      ]
     },
     "metadata": {
      "needs_background": "light"
     },
     "output_type": "display_data"
    }
   ],
   "source": [
    "x = np.linspace(-2,2)\n",
    "plt.figure(figsize=(6,4))\n",
    "plt.scatter(data_std[:,0],data_std[:,1])\n",
    "plt.plot(x, (v[1,0]/v[0,0])*x, 'b--')\n",
    "plt.plot(x, (v[1,1]/v[0,1])*x, 'g--')\n",
    "plt.grid()\n",
    "plt.xlabel('$x_1$')\n",
    "plt.ylabel('$x_2$')\n",
    "plt.show()"
   ]
  },
  {
   "cell_type": "code",
   "execution_count": 18,
   "metadata": {},
   "outputs": [
    {
     "data": {
      "text/plain": [
       "array([2.20542884, 0.01679338])"
      ]
     },
     "execution_count": 18,
     "metadata": {},
     "output_type": "execute_result"
    }
   ],
   "source": [
    "w"
   ]
  },
  {
   "cell_type": "code",
   "execution_count": 19,
   "metadata": {},
   "outputs": [
    {
     "data": {
      "text/plain": [
       "array([0.99244298, 0.00755702])"
      ]
     },
     "execution_count": 19,
     "metadata": {},
     "output_type": "execute_result"
    }
   ],
   "source": [
    "w/w.sum()"
   ]
  },
  {
   "cell_type": "markdown",
   "metadata": {},
   "source": [
    "### 4.- Ordenar los vectores propios y valores propios y obtener la matriz de tansformación"
   ]
  },
  {
   "cell_type": "code",
   "execution_count": 20,
   "metadata": {},
   "outputs": [
    {
     "data": {
      "text/plain": [
       "array([2.20542884, 0.01679338])"
      ]
     },
     "execution_count": 20,
     "metadata": {},
     "output_type": "execute_result"
    }
   ],
   "source": [
    "w"
   ]
  },
  {
   "cell_type": "code",
   "execution_count": 24,
   "metadata": {},
   "outputs": [
    {
     "data": {
      "text/plain": [
       "array([2.20542884, 0.01679338])"
      ]
     },
     "execution_count": 24,
     "metadata": {},
     "output_type": "execute_result"
    }
   ],
   "source": [
    "#ordenar los valores propios\n",
    "w_sort = np.sort(w)[::-1]\n",
    "w_sort"
   ]
  },
  {
   "cell_type": "code",
   "execution_count": 25,
   "metadata": {},
   "outputs": [
    {
     "data": {
      "text/plain": [
       "array([0, 1], dtype=int64)"
      ]
     },
     "execution_count": 25,
     "metadata": {},
     "output_type": "execute_result"
    }
   ],
   "source": [
    "w_sort_index = np.argsort(w)[::-1]\n",
    "w_sort_index"
   ]
  },
  {
   "cell_type": "code",
   "execution_count": 30,
   "metadata": {},
   "outputs": [
    {
     "data": {
      "text/plain": [
       "array([[ 0.70710678, -0.70710678],\n",
       "       [ 0.70710678,  0.70710678]])"
      ]
     },
     "execution_count": 30,
     "metadata": {},
     "output_type": "execute_result"
    }
   ],
   "source": [
    "v_sort = v[:,w_sort_index]\n",
    "v_sort"
   ]
  },
  {
   "cell_type": "code",
   "execution_count": 33,
   "metadata": {},
   "outputs": [
    {
     "data": {
      "text/plain": [
       "array([[ 0.70710678, -0.70710678],\n",
       "       [ 0.70710678,  0.70710678]])"
      ]
     },
     "execution_count": 33,
     "metadata": {},
     "output_type": "execute_result"
    }
   ],
   "source": [
    "k = 2 # k<= V_sort.shape[1] (tamaño de las columnas)\n",
    "T = v_sort[:,:k] # Eligiendo las k componentes principales \n",
    "T"
   ]
  },
  {
   "cell_type": "code",
   "execution_count": 34,
   "metadata": {},
   "outputs": [
    {
     "data": {
      "text/plain": [
       "array([[ 0.02300906,  0.2900796 ],\n",
       "       [-0.13371075, -1.78954813],\n",
       "       [-0.07134627,  0.94352181],\n",
       "       [ 0.12983727,  0.18325138],\n",
       "       [ 0.10489148, -0.90997659],\n",
       "       [-0.1946086 , -2.06410242],\n",
       "       [-0.08734168,  2.63677788],\n",
       "       [ 0.21670886, -0.79815922],\n",
       "       [-0.05388421,  1.70878139],\n",
       "       [ 0.06644485, -0.2006257 ]])"
      ]
     },
     "execution_count": 34,
     "metadata": {},
     "output_type": "execute_result"
    }
   ],
   "source": [
    "#Transformación de los datos\n",
    "data_new = np.array(np.matrix(data_std)*np.matrix(T.transpose()))\n",
    "data_new"
   ]
  },
  {
   "cell_type": "code",
   "execution_count": 36,
   "metadata": {},
   "outputs": [
    {
     "data": {
      "image/png": "[encoded data removed]",
      "text/plain": [
       "<Figure size 432x288 with 1 Axes>"
      ]
     },
     "metadata": {
      "needs_background": "light"
     },
     "output_type": "display_data"
    }
   ],
   "source": [
    "x = np.linspace(-2,2)\n",
    "plt.figure(figsize=(6,4))\n",
    "plt.scatter(data_new[:,0],data_new[:,1])\n",
    "plt.hlines(0,-3,3,'g')\n",
    "plt.vlines(0,-3,3,'b')\n",
    "plt.grid()\n",
    "plt.xlabel('$x_1$')\n",
    "plt.ylabel('$x_2$')\n",
    "plt.show()"
   ]
  },
  {
   "cell_type": "markdown",
   "metadata": {},
   "source": [
    "### 5.- Reduciendo la dimension de los datos"
   ]
  },
  {
   "cell_type": "code",
   "execution_count": 43,
   "metadata": {},
   "outputs": [
    {
     "data": {
      "text/plain": [
       "array([0.99244298, 0.00755702])"
      ]
     },
     "execution_count": 43,
     "metadata": {},
     "output_type": "execute_result"
    }
   ],
   "source": [
    "w_sort/w_sort.sum()"
   ]
  },
  {
   "cell_type": "code",
   "execution_count": 37,
   "metadata": {},
   "outputs": [
    {
     "data": {
      "text/plain": [
       "array([[0.70710678],\n",
       "       [0.70710678]])"
      ]
     },
     "execution_count": 37,
     "metadata": {},
     "output_type": "execute_result"
    }
   ],
   "source": [
    "k = 1 # k<= V_sort.shape[1] (tamaño de las columnas)\n",
    "T = v_sort[:,:k] # Eligiendo las k componentes principales \n",
    "T"
   ]
  },
  {
   "cell_type": "code",
   "execution_count": 39,
   "metadata": {},
   "outputs": [
    {
     "data": {
      "text/plain": [
       "array([[ 0.2900796 ],\n",
       "       [-1.78954813],\n",
       "       [ 0.94352181],\n",
       "       [ 0.18325138],\n",
       "       [-0.90997659],\n",
       "       [-2.06410242],\n",
       "       [ 2.63677788],\n",
       "       [-0.79815922],\n",
       "       [ 1.70878139],\n",
       "       [-0.2006257 ]])"
      ]
     },
     "execution_count": 39,
     "metadata": {},
     "output_type": "execute_result"
    }
   ],
   "source": [
    "#Transformación de los datos\n",
    "data_new = np.array(np.matrix(data_std)*np.matrix(T))\n",
    "data_new"
   ]
  },
  {
   "cell_type": "code",
   "execution_count": 41,
   "metadata": {},
   "outputs": [
    {
     "data": {
      "text/plain": [
       "array([[ 0.22138711,  0.18884739],\n",
       "       [-1.3599494 , -1.17085384],\n",
       "       [ 0.61672124,  0.7176201 ],\n",
       "       [ 0.22138711,  0.03776948],\n",
       "       [-0.56928114, -0.7176201 ],\n",
       "       [-1.59714987, -1.32193176],\n",
       "       [ 1.80272362,  1.92624342],\n",
       "       [-0.41114749, -0.7176201 ],\n",
       "       [ 1.17018902,  1.2463928 ],\n",
       "       [-0.09488019, -0.18884739]])"
      ]
     },
     "execution_count": 41,
     "metadata": {},
     "output_type": "execute_result"
    }
   ],
   "source": [
    "data_std"
   ]
  },
  {
   "cell_type": "markdown",
   "metadata": {},
   "source": [
    "### Recuperar la información"
   ]
  },
  {
   "cell_type": "markdown",
   "metadata": {},
   "source": [
    "$$data_{new} = data_{std}*M_{trans}$$\n",
    "\n",
    "$$data_{new}*M_{trans}^{-1} = data_{std}*M_{trans}*M_{trans}^{-1} $$\n",
    "\n",
    "$$data_{new}*M_{trans}^{-1} = data_{std} $$\n",
    "\n",
    "$$data_{new}*M_{trans}^{-1} = (data - medias)/varian $$\n",
    "\n",
    "$$data_{new}*M_{trans}^{-1}*varian + medias = data$$"
   ]
  },
  {
   "cell_type": "code",
   "execution_count": 45,
   "metadata": {},
   "outputs": [
    {
     "data": {
      "text/plain": [
       "array([[2.47942265, 2.42153837],\n",
       "       [0.61957958, 0.47483574],\n",
       "       [3.06380606, 3.03321403],\n",
       "       [2.38388453, 2.32153837],\n",
       "       [1.40619394, 1.29818705],\n",
       "       [0.37404146, 0.21783034],\n",
       "       [4.57811101, 4.618241  ],\n",
       "       [1.50619394, 1.40285732],\n",
       "       [3.74818948, 3.74955995],\n",
       "       [2.04057735, 1.96219784]])"
      ]
     },
     "execution_count": 45,
     "metadata": {},
     "output_type": "execute_result"
    }
   ],
   "source": [
    "data_std_r = np.array(np.matrix(data_new)*np.matrix(T.transpose()))\n",
    "data_r = data_std_r*varian + medias\n",
    "data_r"
   ]
  },
  {
   "cell_type": "code",
   "execution_count": 46,
   "metadata": {},
   "outputs": [
    {
     "data": {
      "text/plain": [
       "array([[2.5, 2.4],\n",
       "       [0.5, 0.6],\n",
       "       [3. , 3.1],\n",
       "       [2.5, 2.2],\n",
       "       [1.5, 1.2],\n",
       "       [0.2, 0.4],\n",
       "       [4.5, 4.7],\n",
       "       [1.7, 1.2],\n",
       "       [3.7, 3.8],\n",
       "       [2.1, 1.9]])"
      ]
     },
     "execution_count": 46,
     "metadata": {},
     "output_type": "execute_result"
    }
   ],
   "source": [
    "data"
   ]
  },
  {
   "cell_type": "code",
   "execution_count": 47,
   "metadata": {},
   "outputs": [
    {
     "data": {
      "image/png": "[encoded data removed]",
      "text/plain": [
       "<Figure size 432x288 with 1 Axes>"
      ]
     },
     "metadata": {
      "needs_background": "light"
     },
     "output_type": "display_data"
    }
   ],
   "source": [
    "plt.figure(figsize=(6,4))\n",
    "plt.scatter(data[:,0],data[:,1])\n",
    "plt.grid()\n",
    "plt.xlabel('$x_1$')\n",
    "plt.ylabel('$x_2$')\n",
    "plt.show()"
   ]
  },
  {
   "cell_type": "code",
   "execution_count": 48,
   "metadata": {},
   "outputs": [
    {
     "data": {
      "image/png": "[encoded data removed]",
      "text/plain": [
       "<Figure size 432x288 with 1 Axes>"
      ]
     },
     "metadata": {
      "needs_background": "light"
     },
     "output_type": "display_data"
    }
   ],
   "source": [
    "plt.figure(figsize=(6,4))\n",
    "plt.scatter(data_r[:,0],data_r[:,1])\n",
    "plt.grid()\n",
    "plt.xlabel('$x_1$')\n",
    "plt.ylabel('$x_2$')\n",
    "plt.show()"
   ]
  },
  {
   "cell_type": "code",
   "execution_count": null,
   "metadata": {},
   "outputs": [],
   "source": [
    "class PCA:\n",
    "    def __init__(k=2, X):\n",
    "        self.v=\n",
    "        self.w=\n",
    "        self.x=X\n",
    "    \n",
    "    def train_pca():\n",
    "        #1 estandarizar datps\n",
    "        #2 matriz covarianza\n",
    "        #3 ordenar los vectores propoios en funcion de los valores propios\n",
    "        #4 self.v = v_sort, self.w = w_sort\n",
    "        \n",
    "    def ratio_pca():\n",
    "        #Porcentaje de informacion de w\n",
    "        \n",
    "    def transform_pca():\n",
    "        #Encontrar la matriz de transformacion k\n",
    "        # T = self.v[:,:k]\n",
    "        # return data_new = self.x*T\n",
    "        "
   ]
  },
  {
   "cell_type": "markdown",
   "metadata": {},
   "source": [
    "###  PCA utilizando librerías"
   ]
  },
  {
   "cell_type": "code",
   "execution_count": 49,
   "metadata": {},
   "outputs": [],
   "source": [
    "from sklearn.decomposition import PCA"
   ]
  },
  {
   "cell_type": "code",
   "execution_count": 50,
   "metadata": {},
   "outputs": [
    {
     "data": {
      "text/plain": [
       "array([[ 0.2900796 ],\n",
       "       [-1.78954813],\n",
       "       [ 0.94352181],\n",
       "       [ 0.18325138],\n",
       "       [-0.90997659],\n",
       "       [-2.06410242],\n",
       "       [ 2.63677788],\n",
       "       [-0.79815922],\n",
       "       [ 1.70878139],\n",
       "       [-0.2006257 ]])"
      ]
     },
     "execution_count": 50,
     "metadata": {},
     "output_type": "execute_result"
    }
   ],
   "source": [
    "pca = PCA(n_components=1)\n",
    "pca.fit(data_std)\n",
    "data_new_pca = pca.transform(data_std)\n",
    "data_new_pca"
   ]
  },
  {
   "cell_type": "code",
   "execution_count": 51,
   "metadata": {},
   "outputs": [
    {
     "data": {
      "text/plain": [
       "array([[ 0.2900796 ],\n",
       "       [-1.78954813],\n",
       "       [ 0.94352181],\n",
       "       [ 0.18325138],\n",
       "       [-0.90997659],\n",
       "       [-2.06410242],\n",
       "       [ 2.63677788],\n",
       "       [-0.79815922],\n",
       "       [ 1.70878139],\n",
       "       [-0.2006257 ]])"
      ]
     },
     "execution_count": 51,
     "metadata": {},
     "output_type": "execute_result"
    }
   ],
   "source": [
    "data_new"
   ]
  },
  {
   "cell_type": "markdown",
   "metadata": {},
   "source": [
    "### Ejemplo 2"
   ]
  },
  {
   "cell_type": "code",
   "execution_count": null,
   "metadata": {},
   "outputs": [],
   "source": []
  },
  {
   "cell_type": "code",
   "execution_count": null,
   "metadata": {},
   "outputs": [],
   "source": []
  },
  {
   "cell_type": "code",
   "execution_count": null,
   "metadata": {},
   "outputs": [],
   "source": []
  }
 ],
 "metadata": {
  "kernelspec": {
   "display_name": "Python 3 (ipykernel)",
   "language": "python",
   "name": "python3"
  },
  "language_info": {
   "codemirror_mode": {
    "name": "ipython",
    "version": 3
   },
   "file_extension": ".py",
   "mimetype": "text/x-python",
   "name": "python",
   "nbconvert_exporter": "python",
   "pygments_lexer": "ipython3",
   "version": "3.8.8"
  }
 },
 "nbformat": 4,
 "nbformat_minor": 4
}
