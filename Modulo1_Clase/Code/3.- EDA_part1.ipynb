{
 "cells": [
  {
   "cell_type": "markdown",
   "metadata": {},
   "source": [
    "<img style=\"float: left;;\" src='../Imagenes/iteso.jpg' width=\"50\" height=\"100\"/></a>\n",
    "\n",
    "# <center> <font color= #000047> Módulo I: Análisis Exploratorio de Datos (EDA) </font> </center>\n",
    "\n"
   ]
  },
  {
   "cell_type": "markdown",
   "metadata": {},
   "source": [
    "### ¿Qué es?\n",
    "\n",
    "Es cuando revisamos por primera vez los datos que nos llegan, por ejemplo un archivo CSV que nos entregan y deberemos intentar comprender **¿de qué se trata?**, vislumbrar posibles patrones y reconociendo distribuciones estadísticas que puedan ser útiles en el futuro.\n",
    "\n",
    "Lo ideal es que tengamos un objetivo que nos hayan *“adjuntado”* con los datos, que indique lo que se quiere conseguir a partir de esos datos. Por ejemplo, nos pasan un excel y nos dicen *“Queremos predecir ventas a 30 días”*, ó *“Clasificar casos malignos/benignos de una enfermedad”*, *“Queremos identificar audiencias que van a realizar re-compra de un producto”*, *“queremos hacer pronóstico de fidelización de clientes/abandonos”*, *“Quiero detectar casos de fraude en mi sistema en tiempo real”*."
   ]
  },
  {
   "cell_type": "markdown",
   "metadata": {},
   "source": [
    "### ¿Que hacer cuando llegar un archivo?\n",
    "\n",
    "- ¿Cuántos registros hay?\n",
    "    - ¿Son demasiado pocos?\n",
    "    - ¿Son muchos y no tenemos Capacidad (CPU+RAM) suficiente para procesarlo?\n",
    "    \n",
    "- ¿Están todas las filas completas ó tenemos campos con valores nulos?\n",
    "    - En caso que haya demasiados nulos: ¿Queda el resto de información inútil?\n",
    "    \n",
    "- ¿Que datos son discretos y cuales continuos?\n",
    "    - Muchas veces sirve obtener el tipo de datos: texto, int, double, float\n",
    "    \n",
    "- Si es un problema de tipo supervisado:\n",
    "    - ¿Cuál es la columna de “salida”? ¿binaria, multiclase?\n",
    "    - ¿Esta balanceado el conjunto salida?\n",
    "    \n",
    "- ¿Cuales parecen ser features importantes? ¿Cuales podemos descartar?\n",
    "\n",
    "- ¿Siguen alguna distribución?\n",
    "\n",
    "- ¿Hay correlación entre features (características)?\n",
    "\n",
    "- En problemas de NLP es frecuente que existan categorías repetidas ó mal tipeadas, ó con mayusculas/minúsculas, singular y plural, por ejemplo “Abogado” y “Abogadas”, “avogado” pertenecerían todos a un mismo conjunto.\n",
    "\n",
    "- ¿Estamos ante un problema dependiente del tiempo? Es decir un TimeSeries.\n",
    "\n",
    "- Si fuera un problema de Visión Artificial: ¿Tenemos suficientes muestras de cada clase y variedad, para poder hacer generalizar un modelo de Machine Learning?\n",
    "\n",
    "- ¿Cuales son los Outliers? (unos pocos datos aislados que difieren drásticamente del resto y “contaminan” ó desvían las distribuciones)\n",
    "    - Podemos eliminarlos? es importante conservarlos?\n",
    "    - son errores de carga o son reales?\n",
    "    \n",
    "- ¿Tenemos posible sesgo de datos? (por ejemplo perjudicar a clases minoritarias por no incluirlas y que el modelo de ML discrimine)\n"
   ]
  },
  {
   "cell_type": "markdown",
   "metadata": {},
   "source": [
    "## Ejemplo de un EDA"
   ]
  },
  {
   "cell_type": "code",
   "execution_count": 1,
   "metadata": {},
   "outputs": [],
   "source": [
    "import pandas as pd\n",
    "import numpy as np\n"
   ]
  },
  {
   "cell_type": "code",
   "execution_count": 3,
   "metadata": {},
   "outputs": [
    {
     "data": {
      "text/html": [
       "<div>\n",
       "<style scoped>\n",
       "    .dataframe tbody tr th:only-of-type {\n",
       "        vertical-align: middle;\n",
       "    }\n",
       "\n",
       "    .dataframe tbody tr th {\n",
       "        vertical-align: top;\n",
       "    }\n",
       "\n",
       "    .dataframe thead th {\n",
       "        text-align: right;\n",
       "    }\n",
       "</style>\n",
       "<table border=\"1\" class=\"dataframe\">\n",
       "  <thead>\n",
       "    <tr style=\"text-align: right;\">\n",
       "      <th></th>\n",
       "      <th>color</th>\n",
       "      <th>director_name</th>\n",
       "      <th>num_critic_for_reviews</th>\n",
       "      <th>duration</th>\n",
       "      <th>director_facebook_likes</th>\n",
       "      <th>actor_3_facebook_likes</th>\n",
       "      <th>actor_2_name</th>\n",
       "      <th>actor_1_facebook_likes</th>\n",
       "      <th>gross</th>\n",
       "      <th>genres</th>\n",
       "      <th>...</th>\n",
       "      <th>num_user_for_reviews</th>\n",
       "      <th>language</th>\n",
       "      <th>country</th>\n",
       "      <th>content_rating</th>\n",
       "      <th>budget</th>\n",
       "      <th>title_year</th>\n",
       "      <th>actor_2_facebook_likes</th>\n",
       "      <th>imdb_score</th>\n",
       "      <th>aspect_ratio</th>\n",
       "      <th>movie_facebook_likes</th>\n",
       "    </tr>\n",
       "  </thead>\n",
       "  <tbody>\n",
       "    <tr>\n",
       "      <th>0</th>\n",
       "      <td>Color</td>\n",
       "      <td>James Cameron</td>\n",
       "      <td>723.0</td>\n",
       "      <td>178.0</td>\n",
       "      <td>0.0</td>\n",
       "      <td>855.0</td>\n",
       "      <td>Joel David Moore</td>\n",
       "      <td>1000.0</td>\n",
       "      <td>760505847.0</td>\n",
       "      <td>Action|Adventure|Fantasy|Sci-Fi</td>\n",
       "      <td>...</td>\n",
       "      <td>3054.0</td>\n",
       "      <td>English</td>\n",
       "      <td>USA</td>\n",
       "      <td>PG-13</td>\n",
       "      <td>237000000.0</td>\n",
       "      <td>2009.0</td>\n",
       "      <td>936.0</td>\n",
       "      <td>7.9</td>\n",
       "      <td>1.78</td>\n",
       "      <td>33000</td>\n",
       "    </tr>\n",
       "    <tr>\n",
       "      <th>1</th>\n",
       "      <td>Color</td>\n",
       "      <td>Gore Verbinski</td>\n",
       "      <td>302.0</td>\n",
       "      <td>169.0</td>\n",
       "      <td>563.0</td>\n",
       "      <td>1000.0</td>\n",
       "      <td>Orlando Bloom</td>\n",
       "      <td>40000.0</td>\n",
       "      <td>309404152.0</td>\n",
       "      <td>Action|Adventure|Fantasy</td>\n",
       "      <td>...</td>\n",
       "      <td>1238.0</td>\n",
       "      <td>English</td>\n",
       "      <td>USA</td>\n",
       "      <td>PG-13</td>\n",
       "      <td>300000000.0</td>\n",
       "      <td>2007.0</td>\n",
       "      <td>5000.0</td>\n",
       "      <td>7.1</td>\n",
       "      <td>2.35</td>\n",
       "      <td>0</td>\n",
       "    </tr>\n",
       "    <tr>\n",
       "      <th>2</th>\n",
       "      <td>Color</td>\n",
       "      <td>Sam Mendes</td>\n",
       "      <td>602.0</td>\n",
       "      <td>148.0</td>\n",
       "      <td>0.0</td>\n",
       "      <td>161.0</td>\n",
       "      <td>Rory Kinnear</td>\n",
       "      <td>11000.0</td>\n",
       "      <td>200074175.0</td>\n",
       "      <td>Action|Adventure|Thriller</td>\n",
       "      <td>...</td>\n",
       "      <td>994.0</td>\n",
       "      <td>English</td>\n",
       "      <td>UK</td>\n",
       "      <td>PG-13</td>\n",
       "      <td>245000000.0</td>\n",
       "      <td>2015.0</td>\n",
       "      <td>393.0</td>\n",
       "      <td>6.8</td>\n",
       "      <td>2.35</td>\n",
       "      <td>85000</td>\n",
       "    </tr>\n",
       "    <tr>\n",
       "      <th>3</th>\n",
       "      <td>Color</td>\n",
       "      <td>Christopher Nolan</td>\n",
       "      <td>813.0</td>\n",
       "      <td>164.0</td>\n",
       "      <td>22000.0</td>\n",
       "      <td>23000.0</td>\n",
       "      <td>Christian Bale</td>\n",
       "      <td>27000.0</td>\n",
       "      <td>448130642.0</td>\n",
       "      <td>Action|Thriller</td>\n",
       "      <td>...</td>\n",
       "      <td>2701.0</td>\n",
       "      <td>English</td>\n",
       "      <td>USA</td>\n",
       "      <td>PG-13</td>\n",
       "      <td>250000000.0</td>\n",
       "      <td>2012.0</td>\n",
       "      <td>23000.0</td>\n",
       "      <td>8.5</td>\n",
       "      <td>2.35</td>\n",
       "      <td>164000</td>\n",
       "    </tr>\n",
       "    <tr>\n",
       "      <th>4</th>\n",
       "      <td>NaN</td>\n",
       "      <td>Doug Walker</td>\n",
       "      <td>NaN</td>\n",
       "      <td>NaN</td>\n",
       "      <td>131.0</td>\n",
       "      <td>NaN</td>\n",
       "      <td>Rob Walker</td>\n",
       "      <td>131.0</td>\n",
       "      <td>NaN</td>\n",
       "      <td>Documentary</td>\n",
       "      <td>...</td>\n",
       "      <td>NaN</td>\n",
       "      <td>NaN</td>\n",
       "      <td>NaN</td>\n",
       "      <td>NaN</td>\n",
       "      <td>NaN</td>\n",
       "      <td>NaN</td>\n",
       "      <td>12.0</td>\n",
       "      <td>7.1</td>\n",
       "      <td>NaN</td>\n",
       "      <td>0</td>\n",
       "    </tr>\n",
       "  </tbody>\n",
       "</table>\n",
       "<p>5 rows × 28 columns</p>\n",
       "</div>"
      ],
      "text/plain": [
       "   color      director_name  num_critic_for_reviews  duration  \\\n",
       "0  Color      James Cameron                   723.0     178.0   \n",
       "1  Color     Gore Verbinski                   302.0     169.0   \n",
       "2  Color         Sam Mendes                   602.0     148.0   \n",
       "3  Color  Christopher Nolan                   813.0     164.0   \n",
       "4    NaN        Doug Walker                     NaN       NaN   \n",
       "\n",
       "   director_facebook_likes  actor_3_facebook_likes      actor_2_name  \\\n",
       "0                      0.0                   855.0  Joel David Moore   \n",
       "1                    563.0                  1000.0     Orlando Bloom   \n",
       "2                      0.0                   161.0      Rory Kinnear   \n",
       "3                  22000.0                 23000.0    Christian Bale   \n",
       "4                    131.0                     NaN        Rob Walker   \n",
       "\n",
       "   actor_1_facebook_likes        gross                           genres  ...  \\\n",
       "0                  1000.0  760505847.0  Action|Adventure|Fantasy|Sci-Fi  ...   \n",
       "1                 40000.0  309404152.0         Action|Adventure|Fantasy  ...   \n",
       "2                 11000.0  200074175.0        Action|Adventure|Thriller  ...   \n",
       "3                 27000.0  448130642.0                  Action|Thriller  ...   \n",
       "4                   131.0          NaN                      Documentary  ...   \n",
       "\n",
       "  num_user_for_reviews language  country  content_rating       budget  \\\n",
       "0               3054.0  English      USA           PG-13  237000000.0   \n",
       "1               1238.0  English      USA           PG-13  300000000.0   \n",
       "2                994.0  English       UK           PG-13  245000000.0   \n",
       "3               2701.0  English      USA           PG-13  250000000.0   \n",
       "4                  NaN      NaN      NaN             NaN          NaN   \n",
       "\n",
       "   title_year actor_2_facebook_likes imdb_score  aspect_ratio  \\\n",
       "0      2009.0                  936.0        7.9          1.78   \n",
       "1      2007.0                 5000.0        7.1          2.35   \n",
       "2      2015.0                  393.0        6.8          2.35   \n",
       "3      2012.0                23000.0        8.5          2.35   \n",
       "4         NaN                   12.0        7.1           NaN   \n",
       "\n",
       "  movie_facebook_likes  \n",
       "0                33000  \n",
       "1                    0  \n",
       "2                85000  \n",
       "3               164000  \n",
       "4                    0  \n",
       "\n",
       "[5 rows x 28 columns]"
      ]
     },
     "execution_count": 3,
     "metadata": {},
     "output_type": "execute_result"
    }
   ],
   "source": [
    "df_movie = pd.read_csv('../Data/movie_metadata.csv')\n",
    "df_movie.head()"
   ]
  },
  {
   "cell_type": "code",
   "execution_count": 4,
   "metadata": {},
   "outputs": [
    {
     "name": "stdout",
     "output_type": "stream",
     "text": [
      "<class 'pandas.core.frame.DataFrame'>\n",
      "RangeIndex: 5043 entries, 0 to 5042\n",
      "Data columns (total 28 columns):\n",
      " #   Column                     Non-Null Count  Dtype  \n",
      "---  ------                     --------------  -----  \n",
      " 0   color                      5024 non-null   object \n",
      " 1   director_name              4939 non-null   object \n",
      " 2   num_critic_for_reviews     4993 non-null   float64\n",
      " 3   duration                   5028 non-null   float64\n",
      " 4   director_facebook_likes    4939 non-null   float64\n",
      " 5   actor_3_facebook_likes     5020 non-null   float64\n",
      " 6   actor_2_name               5030 non-null   object \n",
      " 7   actor_1_facebook_likes     5036 non-null   float64\n",
      " 8   gross                      4159 non-null   float64\n",
      " 9   genres                     5043 non-null   object \n",
      " 10  actor_1_name               5036 non-null   object \n",
      " 11  movie_title                5043 non-null   object \n",
      " 12  num_voted_users            5043 non-null   int64  \n",
      " 13  cast_total_facebook_likes  5043 non-null   int64  \n",
      " 14  actor_3_name               5020 non-null   object \n",
      " 15  facenumber_in_poster       5030 non-null   float64\n",
      " 16  plot_keywords              4890 non-null   object \n",
      " 17  movie_imdb_link            5043 non-null   object \n",
      " 18  num_user_for_reviews       5022 non-null   float64\n",
      " 19  language                   5031 non-null   object \n",
      " 20  country                    5038 non-null   object \n",
      " 21  content_rating             4740 non-null   object \n",
      " 22  budget                     4551 non-null   float64\n",
      " 23  title_year                 4935 non-null   float64\n",
      " 24  actor_2_facebook_likes     5030 non-null   float64\n",
      " 25  imdb_score                 5043 non-null   float64\n",
      " 26  aspect_ratio               4714 non-null   float64\n",
      " 27  movie_facebook_likes       5043 non-null   int64  \n",
      "dtypes: float64(13), int64(3), object(12)\n",
      "memory usage: 1.1+ MB\n"
     ]
    }
   ],
   "source": [
    "df_movie.info()"
   ]
  },
  {
   "cell_type": "code",
   "execution_count": 5,
   "metadata": {},
   "outputs": [],
   "source": [
    "class CDIN:\n",
    "    def __init__(self, df):\n",
    "        self.data = df\n",
    "    # Métodos para clasificación de Datos en un DataFrame (Cualitativos, Cuantitativos, Binarios)\n",
    "    \n",
    "    #def get_cuantitativos:\n",
    "    #    return col_cuantitativos, df_cuantitativos\n",
    "    \n",
    "    #def get_cualitativos:\n",
    "    #    return col_cualitativos, df_cualitativos\n",
    "    \n",
    "    def get_binaries(self):\n",
    "        df_cat = self.data.select_dtypes(include=['object']).copy()\n",
    "        column_cat = df_cat.columns\n",
    "        column_binaries = []\n",
    "        for col in column_cat:\n",
    "            if df_cat[col].nunique() == 2:\n",
    "                column_binaries.append(col)\n",
    "        return column_binaries, self.data[column_binaries]"
   ]
  },
  {
   "cell_type": "code",
   "execution_count": 6,
   "metadata": {},
   "outputs": [],
   "source": [
    "cd_movie = CDIN(df_movie)"
   ]
  },
  {
   "cell_type": "code",
   "execution_count": 7,
   "metadata": {},
   "outputs": [
    {
     "data": {
      "text/plain": [
       "(['color'],\n",
       "       color\n",
       " 0     Color\n",
       " 1     Color\n",
       " 2     Color\n",
       " 3     Color\n",
       " 4       NaN\n",
       " ...     ...\n",
       " 5038  Color\n",
       " 5039  Color\n",
       " 5040  Color\n",
       " 5041  Color\n",
       " 5042  Color\n",
       " \n",
       " [5043 rows x 1 columns])"
      ]
     },
     "execution_count": 7,
     "metadata": {},
     "output_type": "execute_result"
    }
   ],
   "source": [
    "cd_movie.get_binaries()"
   ]
  },
  {
   "cell_type": "markdown",
   "metadata": {},
   "source": [
    "## Manejando datos faltantes"
   ]
  },
  {
   "cell_type": "code",
   "execution_count": 10,
   "metadata": {},
   "outputs": [
    {
     "data": {
      "text/html": [
       "<div>\n",
       "<style scoped>\n",
       "    .dataframe tbody tr th:only-of-type {\n",
       "        vertical-align: middle;\n",
       "    }\n",
       "\n",
       "    .dataframe tbody tr th {\n",
       "        vertical-align: top;\n",
       "    }\n",
       "\n",
       "    .dataframe thead th {\n",
       "        text-align: right;\n",
       "    }\n",
       "</style>\n",
       "<table border=\"1\" class=\"dataframe\">\n",
       "  <thead>\n",
       "    <tr style=\"text-align: right;\">\n",
       "      <th></th>\n",
       "      <th>color</th>\n",
       "      <th>director_name</th>\n",
       "      <th>num_critic_for_reviews</th>\n",
       "      <th>duration</th>\n",
       "      <th>director_facebook_likes</th>\n",
       "      <th>actor_3_facebook_likes</th>\n",
       "      <th>actor_2_name</th>\n",
       "      <th>actor_1_facebook_likes</th>\n",
       "      <th>gross</th>\n",
       "      <th>genres</th>\n",
       "      <th>...</th>\n",
       "      <th>num_user_for_reviews</th>\n",
       "      <th>language</th>\n",
       "      <th>country</th>\n",
       "      <th>content_rating</th>\n",
       "      <th>budget</th>\n",
       "      <th>title_year</th>\n",
       "      <th>actor_2_facebook_likes</th>\n",
       "      <th>imdb_score</th>\n",
       "      <th>aspect_ratio</th>\n",
       "      <th>movie_facebook_likes</th>\n",
       "    </tr>\n",
       "  </thead>\n",
       "  <tbody>\n",
       "    <tr>\n",
       "      <th>0</th>\n",
       "      <td>Color</td>\n",
       "      <td>James Cameron</td>\n",
       "      <td>723.0</td>\n",
       "      <td>178.0</td>\n",
       "      <td>0.0</td>\n",
       "      <td>855.0</td>\n",
       "      <td>Joel David Moore</td>\n",
       "      <td>1000.0</td>\n",
       "      <td>760505847.0</td>\n",
       "      <td>Action|Adventure|Fantasy|Sci-Fi</td>\n",
       "      <td>...</td>\n",
       "      <td>3054.0</td>\n",
       "      <td>English</td>\n",
       "      <td>USA</td>\n",
       "      <td>PG-13</td>\n",
       "      <td>237000000.0</td>\n",
       "      <td>2009.0</td>\n",
       "      <td>936.0</td>\n",
       "      <td>7.9</td>\n",
       "      <td>1.78</td>\n",
       "      <td>33000</td>\n",
       "    </tr>\n",
       "    <tr>\n",
       "      <th>1</th>\n",
       "      <td>Color</td>\n",
       "      <td>Gore Verbinski</td>\n",
       "      <td>302.0</td>\n",
       "      <td>169.0</td>\n",
       "      <td>563.0</td>\n",
       "      <td>1000.0</td>\n",
       "      <td>Orlando Bloom</td>\n",
       "      <td>40000.0</td>\n",
       "      <td>309404152.0</td>\n",
       "      <td>Action|Adventure|Fantasy</td>\n",
       "      <td>...</td>\n",
       "      <td>1238.0</td>\n",
       "      <td>English</td>\n",
       "      <td>USA</td>\n",
       "      <td>PG-13</td>\n",
       "      <td>300000000.0</td>\n",
       "      <td>2007.0</td>\n",
       "      <td>5000.0</td>\n",
       "      <td>7.1</td>\n",
       "      <td>2.35</td>\n",
       "      <td>0</td>\n",
       "    </tr>\n",
       "    <tr>\n",
       "      <th>2</th>\n",
       "      <td>Color</td>\n",
       "      <td>Sam Mendes</td>\n",
       "      <td>602.0</td>\n",
       "      <td>148.0</td>\n",
       "      <td>0.0</td>\n",
       "      <td>161.0</td>\n",
       "      <td>Rory Kinnear</td>\n",
       "      <td>11000.0</td>\n",
       "      <td>200074175.0</td>\n",
       "      <td>Action|Adventure|Thriller</td>\n",
       "      <td>...</td>\n",
       "      <td>994.0</td>\n",
       "      <td>English</td>\n",
       "      <td>UK</td>\n",
       "      <td>PG-13</td>\n",
       "      <td>245000000.0</td>\n",
       "      <td>2015.0</td>\n",
       "      <td>393.0</td>\n",
       "      <td>6.8</td>\n",
       "      <td>2.35</td>\n",
       "      <td>85000</td>\n",
       "    </tr>\n",
       "    <tr>\n",
       "      <th>3</th>\n",
       "      <td>Color</td>\n",
       "      <td>Christopher Nolan</td>\n",
       "      <td>813.0</td>\n",
       "      <td>164.0</td>\n",
       "      <td>22000.0</td>\n",
       "      <td>23000.0</td>\n",
       "      <td>Christian Bale</td>\n",
       "      <td>27000.0</td>\n",
       "      <td>448130642.0</td>\n",
       "      <td>Action|Thriller</td>\n",
       "      <td>...</td>\n",
       "      <td>2701.0</td>\n",
       "      <td>English</td>\n",
       "      <td>USA</td>\n",
       "      <td>PG-13</td>\n",
       "      <td>250000000.0</td>\n",
       "      <td>2012.0</td>\n",
       "      <td>23000.0</td>\n",
       "      <td>8.5</td>\n",
       "      <td>2.35</td>\n",
       "      <td>164000</td>\n",
       "    </tr>\n",
       "    <tr>\n",
       "      <th>5</th>\n",
       "      <td>Color</td>\n",
       "      <td>Andrew Stanton</td>\n",
       "      <td>462.0</td>\n",
       "      <td>132.0</td>\n",
       "      <td>475.0</td>\n",
       "      <td>530.0</td>\n",
       "      <td>Samantha Morton</td>\n",
       "      <td>640.0</td>\n",
       "      <td>73058679.0</td>\n",
       "      <td>Action|Adventure|Sci-Fi</td>\n",
       "      <td>...</td>\n",
       "      <td>738.0</td>\n",
       "      <td>English</td>\n",
       "      <td>USA</td>\n",
       "      <td>PG-13</td>\n",
       "      <td>263700000.0</td>\n",
       "      <td>2012.0</td>\n",
       "      <td>632.0</td>\n",
       "      <td>6.6</td>\n",
       "      <td>2.35</td>\n",
       "      <td>24000</td>\n",
       "    </tr>\n",
       "    <tr>\n",
       "      <th>...</th>\n",
       "      <td>...</td>\n",
       "      <td>...</td>\n",
       "      <td>...</td>\n",
       "      <td>...</td>\n",
       "      <td>...</td>\n",
       "      <td>...</td>\n",
       "      <td>...</td>\n",
       "      <td>...</td>\n",
       "      <td>...</td>\n",
       "      <td>...</td>\n",
       "      <td>...</td>\n",
       "      <td>...</td>\n",
       "      <td>...</td>\n",
       "      <td>...</td>\n",
       "      <td>...</td>\n",
       "      <td>...</td>\n",
       "      <td>...</td>\n",
       "      <td>...</td>\n",
       "      <td>...</td>\n",
       "      <td>...</td>\n",
       "      <td>...</td>\n",
       "    </tr>\n",
       "    <tr>\n",
       "      <th>5026</th>\n",
       "      <td>Color</td>\n",
       "      <td>Olivier Assayas</td>\n",
       "      <td>81.0</td>\n",
       "      <td>110.0</td>\n",
       "      <td>107.0</td>\n",
       "      <td>45.0</td>\n",
       "      <td>Béatrice Dalle</td>\n",
       "      <td>576.0</td>\n",
       "      <td>136007.0</td>\n",
       "      <td>Drama|Music|Romance</td>\n",
       "      <td>...</td>\n",
       "      <td>39.0</td>\n",
       "      <td>French</td>\n",
       "      <td>France</td>\n",
       "      <td>R</td>\n",
       "      <td>4500.0</td>\n",
       "      <td>2004.0</td>\n",
       "      <td>133.0</td>\n",
       "      <td>6.9</td>\n",
       "      <td>2.35</td>\n",
       "      <td>171</td>\n",
       "    </tr>\n",
       "    <tr>\n",
       "      <th>5027</th>\n",
       "      <td>Color</td>\n",
       "      <td>Jafar Panahi</td>\n",
       "      <td>64.0</td>\n",
       "      <td>90.0</td>\n",
       "      <td>397.0</td>\n",
       "      <td>0.0</td>\n",
       "      <td>Nargess Mamizadeh</td>\n",
       "      <td>5.0</td>\n",
       "      <td>673780.0</td>\n",
       "      <td>Drama</td>\n",
       "      <td>...</td>\n",
       "      <td>26.0</td>\n",
       "      <td>Persian</td>\n",
       "      <td>Iran</td>\n",
       "      <td>Not Rated</td>\n",
       "      <td>10000.0</td>\n",
       "      <td>2000.0</td>\n",
       "      <td>0.0</td>\n",
       "      <td>7.5</td>\n",
       "      <td>1.85</td>\n",
       "      <td>697</td>\n",
       "    </tr>\n",
       "    <tr>\n",
       "      <th>5033</th>\n",
       "      <td>Color</td>\n",
       "      <td>Shane Carruth</td>\n",
       "      <td>143.0</td>\n",
       "      <td>77.0</td>\n",
       "      <td>291.0</td>\n",
       "      <td>8.0</td>\n",
       "      <td>David Sullivan</td>\n",
       "      <td>291.0</td>\n",
       "      <td>424760.0</td>\n",
       "      <td>Drama|Sci-Fi|Thriller</td>\n",
       "      <td>...</td>\n",
       "      <td>371.0</td>\n",
       "      <td>English</td>\n",
       "      <td>USA</td>\n",
       "      <td>PG-13</td>\n",
       "      <td>7000.0</td>\n",
       "      <td>2004.0</td>\n",
       "      <td>45.0</td>\n",
       "      <td>7.0</td>\n",
       "      <td>1.85</td>\n",
       "      <td>19000</td>\n",
       "    </tr>\n",
       "    <tr>\n",
       "      <th>5035</th>\n",
       "      <td>Color</td>\n",
       "      <td>Robert Rodriguez</td>\n",
       "      <td>56.0</td>\n",
       "      <td>81.0</td>\n",
       "      <td>0.0</td>\n",
       "      <td>6.0</td>\n",
       "      <td>Peter Marquardt</td>\n",
       "      <td>121.0</td>\n",
       "      <td>2040920.0</td>\n",
       "      <td>Action|Crime|Drama|Romance|Thriller</td>\n",
       "      <td>...</td>\n",
       "      <td>130.0</td>\n",
       "      <td>Spanish</td>\n",
       "      <td>USA</td>\n",
       "      <td>R</td>\n",
       "      <td>7000.0</td>\n",
       "      <td>1992.0</td>\n",
       "      <td>20.0</td>\n",
       "      <td>6.9</td>\n",
       "      <td>1.37</td>\n",
       "      <td>0</td>\n",
       "    </tr>\n",
       "    <tr>\n",
       "      <th>5042</th>\n",
       "      <td>Color</td>\n",
       "      <td>Jon Gunn</td>\n",
       "      <td>43.0</td>\n",
       "      <td>90.0</td>\n",
       "      <td>16.0</td>\n",
       "      <td>16.0</td>\n",
       "      <td>Brian Herzlinger</td>\n",
       "      <td>86.0</td>\n",
       "      <td>85222.0</td>\n",
       "      <td>Documentary</td>\n",
       "      <td>...</td>\n",
       "      <td>84.0</td>\n",
       "      <td>English</td>\n",
       "      <td>USA</td>\n",
       "      <td>PG</td>\n",
       "      <td>1100.0</td>\n",
       "      <td>2004.0</td>\n",
       "      <td>23.0</td>\n",
       "      <td>6.6</td>\n",
       "      <td>1.85</td>\n",
       "      <td>456</td>\n",
       "    </tr>\n",
       "  </tbody>\n",
       "</table>\n",
       "<p>3756 rows × 28 columns</p>\n",
       "</div>"
      ],
      "text/plain": [
       "      color      director_name  num_critic_for_reviews  duration  \\\n",
       "0     Color      James Cameron                   723.0     178.0   \n",
       "1     Color     Gore Verbinski                   302.0     169.0   \n",
       "2     Color         Sam Mendes                   602.0     148.0   \n",
       "3     Color  Christopher Nolan                   813.0     164.0   \n",
       "5     Color     Andrew Stanton                   462.0     132.0   \n",
       "...     ...                ...                     ...       ...   \n",
       "5026  Color    Olivier Assayas                    81.0     110.0   \n",
       "5027  Color       Jafar Panahi                    64.0      90.0   \n",
       "5033  Color      Shane Carruth                   143.0      77.0   \n",
       "5035  Color   Robert Rodriguez                    56.0      81.0   \n",
       "5042  Color           Jon Gunn                    43.0      90.0   \n",
       "\n",
       "      director_facebook_likes  actor_3_facebook_likes       actor_2_name  \\\n",
       "0                         0.0                   855.0   Joel David Moore   \n",
       "1                       563.0                  1000.0      Orlando Bloom   \n",
       "2                         0.0                   161.0       Rory Kinnear   \n",
       "3                     22000.0                 23000.0     Christian Bale   \n",
       "5                       475.0                   530.0    Samantha Morton   \n",
       "...                       ...                     ...                ...   \n",
       "5026                    107.0                    45.0     Béatrice Dalle   \n",
       "5027                    397.0                     0.0  Nargess Mamizadeh   \n",
       "5033                    291.0                     8.0     David Sullivan   \n",
       "5035                      0.0                     6.0    Peter Marquardt   \n",
       "5042                     16.0                    16.0   Brian Herzlinger   \n",
       "\n",
       "      actor_1_facebook_likes        gross  \\\n",
       "0                     1000.0  760505847.0   \n",
       "1                    40000.0  309404152.0   \n",
       "2                    11000.0  200074175.0   \n",
       "3                    27000.0  448130642.0   \n",
       "5                      640.0   73058679.0   \n",
       "...                      ...          ...   \n",
       "5026                   576.0     136007.0   \n",
       "5027                     5.0     673780.0   \n",
       "5033                   291.0     424760.0   \n",
       "5035                   121.0    2040920.0   \n",
       "5042                    86.0      85222.0   \n",
       "\n",
       "                                   genres  ... num_user_for_reviews language  \\\n",
       "0         Action|Adventure|Fantasy|Sci-Fi  ...               3054.0  English   \n",
       "1                Action|Adventure|Fantasy  ...               1238.0  English   \n",
       "2               Action|Adventure|Thriller  ...                994.0  English   \n",
       "3                         Action|Thriller  ...               2701.0  English   \n",
       "5                 Action|Adventure|Sci-Fi  ...                738.0  English   \n",
       "...                                   ...  ...                  ...      ...   \n",
       "5026                  Drama|Music|Romance  ...                 39.0   French   \n",
       "5027                                Drama  ...                 26.0  Persian   \n",
       "5033                Drama|Sci-Fi|Thriller  ...                371.0  English   \n",
       "5035  Action|Crime|Drama|Romance|Thriller  ...                130.0  Spanish   \n",
       "5042                          Documentary  ...                 84.0  English   \n",
       "\n",
       "      country  content_rating       budget  title_year actor_2_facebook_likes  \\\n",
       "0         USA           PG-13  237000000.0      2009.0                  936.0   \n",
       "1         USA           PG-13  300000000.0      2007.0                 5000.0   \n",
       "2          UK           PG-13  245000000.0      2015.0                  393.0   \n",
       "3         USA           PG-13  250000000.0      2012.0                23000.0   \n",
       "5         USA           PG-13  263700000.0      2012.0                  632.0   \n",
       "...       ...             ...          ...         ...                    ...   \n",
       "5026   France               R       4500.0      2004.0                  133.0   \n",
       "5027     Iran       Not Rated      10000.0      2000.0                    0.0   \n",
       "5033      USA           PG-13       7000.0      2004.0                   45.0   \n",
       "5035      USA               R       7000.0      1992.0                   20.0   \n",
       "5042      USA              PG       1100.0      2004.0                   23.0   \n",
       "\n",
       "     imdb_score  aspect_ratio movie_facebook_likes  \n",
       "0           7.9          1.78                33000  \n",
       "1           7.1          2.35                    0  \n",
       "2           6.8          2.35                85000  \n",
       "3           8.5          2.35               164000  \n",
       "5           6.6          2.35                24000  \n",
       "...         ...           ...                  ...  \n",
       "5026        6.9          2.35                  171  \n",
       "5027        7.5          1.85                  697  \n",
       "5033        7.0          1.85                19000  \n",
       "5035        6.9          1.37                    0  \n",
       "5042        6.6          1.85                  456  \n",
       "\n",
       "[3756 rows x 28 columns]"
      ]
     },
     "execution_count": 10,
     "metadata": {},
     "output_type": "execute_result"
    }
   ],
   "source": [
    "df_movie_clean = df_movie.dropna()\n",
    "df_movie_clean"
   ]
  },
  {
   "cell_type": "code",
   "execution_count": 12,
   "metadata": {},
   "outputs": [
    {
     "name": "stdout",
     "output_type": "stream",
     "text": [
      "<class 'pandas.core.frame.DataFrame'>\n",
      "RangeIndex: 5043 entries, 0 to 5042\n",
      "Data columns (total 28 columns):\n",
      " #   Column                     Non-Null Count  Dtype  \n",
      "---  ------                     --------------  -----  \n",
      " 0   color                      5024 non-null   object \n",
      " 1   director_name              4939 non-null   object \n",
      " 2   num_critic_for_reviews     4993 non-null   float64\n",
      " 3   duration                   5028 non-null   float64\n",
      " 4   director_facebook_likes    4939 non-null   float64\n",
      " 5   actor_3_facebook_likes     5020 non-null   float64\n",
      " 6   actor_2_name               5030 non-null   object \n",
      " 7   actor_1_facebook_likes     5036 non-null   float64\n",
      " 8   gross                      4159 non-null   float64\n",
      " 9   genres                     5043 non-null   object \n",
      " 10  actor_1_name               5036 non-null   object \n",
      " 11  movie_title                5043 non-null   object \n",
      " 12  num_voted_users            5043 non-null   int64  \n",
      " 13  cast_total_facebook_likes  5043 non-null   int64  \n",
      " 14  actor_3_name               5020 non-null   object \n",
      " 15  facenumber_in_poster       5030 non-null   float64\n",
      " 16  plot_keywords              4890 non-null   object \n",
      " 17  movie_imdb_link            5043 non-null   object \n",
      " 18  num_user_for_reviews       5022 non-null   float64\n",
      " 19  language                   5031 non-null   object \n",
      " 20  country                    5038 non-null   object \n",
      " 21  content_rating             4740 non-null   object \n",
      " 22  budget                     4551 non-null   float64\n",
      " 23  title_year                 4935 non-null   float64\n",
      " 24  actor_2_facebook_likes     5030 non-null   float64\n",
      " 25  imdb_score                 5043 non-null   float64\n",
      " 26  aspect_ratio               4714 non-null   float64\n",
      " 27  movie_facebook_likes       5043 non-null   int64  \n",
      "dtypes: float64(13), int64(3), object(12)\n",
      "memory usage: 1.1+ MB\n"
     ]
    }
   ],
   "source": [
    "df_movie.info()"
   ]
  },
  {
   "cell_type": "code",
   "execution_count": 11,
   "metadata": {},
   "outputs": [
    {
     "name": "stdout",
     "output_type": "stream",
     "text": [
      "<class 'pandas.core.frame.DataFrame'>\n",
      "Int64Index: 3756 entries, 0 to 5042\n",
      "Data columns (total 28 columns):\n",
      " #   Column                     Non-Null Count  Dtype  \n",
      "---  ------                     --------------  -----  \n",
      " 0   color                      3756 non-null   object \n",
      " 1   director_name              3756 non-null   object \n",
      " 2   num_critic_for_reviews     3756 non-null   float64\n",
      " 3   duration                   3756 non-null   float64\n",
      " 4   director_facebook_likes    3756 non-null   float64\n",
      " 5   actor_3_facebook_likes     3756 non-null   float64\n",
      " 6   actor_2_name               3756 non-null   object \n",
      " 7   actor_1_facebook_likes     3756 non-null   float64\n",
      " 8   gross                      3756 non-null   float64\n",
      " 9   genres                     3756 non-null   object \n",
      " 10  actor_1_name               3756 non-null   object \n",
      " 11  movie_title                3756 non-null   object \n",
      " 12  num_voted_users            3756 non-null   int64  \n",
      " 13  cast_total_facebook_likes  3756 non-null   int64  \n",
      " 14  actor_3_name               3756 non-null   object \n",
      " 15  facenumber_in_poster       3756 non-null   float64\n",
      " 16  plot_keywords              3756 non-null   object \n",
      " 17  movie_imdb_link            3756 non-null   object \n",
      " 18  num_user_for_reviews       3756 non-null   float64\n",
      " 19  language                   3756 non-null   object \n",
      " 20  country                    3756 non-null   object \n",
      " 21  content_rating             3756 non-null   object \n",
      " 22  budget                     3756 non-null   float64\n",
      " 23  title_year                 3756 non-null   float64\n",
      " 24  actor_2_facebook_likes     3756 non-null   float64\n",
      " 25  imdb_score                 3756 non-null   float64\n",
      " 26  aspect_ratio               3756 non-null   float64\n",
      " 27  movie_facebook_likes       3756 non-null   int64  \n",
      "dtypes: float64(13), int64(3), object(12)\n",
      "memory usage: 851.0+ KB\n"
     ]
    }
   ],
   "source": [
    "df_movie_clean.info()"
   ]
  },
  {
   "cell_type": "code",
   "execution_count": 13,
   "metadata": {},
   "outputs": [
    {
     "data": {
      "text/plain": [
       "0       178.0\n",
       "1       169.0\n",
       "2       148.0\n",
       "3       164.0\n",
       "4         NaN\n",
       "        ...  \n",
       "5038     87.0\n",
       "5039     43.0\n",
       "5040     76.0\n",
       "5041    100.0\n",
       "5042     90.0\n",
       "Name: duration, Length: 5043, dtype: float64"
      ]
     },
     "execution_count": 13,
     "metadata": {},
     "output_type": "execute_result"
    }
   ],
   "source": [
    "df_movie['duration']"
   ]
  },
  {
   "cell_type": "code",
   "execution_count": 14,
   "metadata": {},
   "outputs": [
    {
     "data": {
      "text/plain": [
       "107.2010739856802"
      ]
     },
     "execution_count": 14,
     "metadata": {},
     "output_type": "execute_result"
    }
   ],
   "source": [
    "df_movie['duration'].mean()"
   ]
  },
  {
   "cell_type": "code",
   "execution_count": 15,
   "metadata": {},
   "outputs": [
    {
     "data": {
      "text/plain": [
       "0       178.000000\n",
       "1       169.000000\n",
       "2       148.000000\n",
       "3       164.000000\n",
       "4       107.201074\n",
       "           ...    \n",
       "5038     87.000000\n",
       "5039     43.000000\n",
       "5040     76.000000\n",
       "5041    100.000000\n",
       "5042     90.000000\n",
       "Name: duration, Length: 5043, dtype: float64"
      ]
     },
     "execution_count": 15,
     "metadata": {},
     "output_type": "execute_result"
    }
   ],
   "source": [
    "df_movie['duration'].fillna(df_movie['duration'].mean())"
   ]
  },
  {
   "cell_type": "code",
   "execution_count": 16,
   "metadata": {},
   "outputs": [
    {
     "data": {
      "text/plain": [
       "0       Action|Adventure|Fantasy|Sci-Fi\n",
       "1              Action|Adventure|Fantasy\n",
       "2             Action|Adventure|Thriller\n",
       "3                       Action|Thriller\n",
       "4                           Documentary\n",
       "                     ...               \n",
       "5038                       Comedy|Drama\n",
       "5039       Crime|Drama|Mystery|Thriller\n",
       "5040              Drama|Horror|Thriller\n",
       "5041               Comedy|Drama|Romance\n",
       "5042                        Documentary\n",
       "Name: genres, Length: 5043, dtype: object"
      ]
     },
     "execution_count": 16,
     "metadata": {},
     "output_type": "execute_result"
    }
   ],
   "source": [
    "df_movie['genres']"
   ]
  },
  {
   "cell_type": "code",
   "execution_count": 19,
   "metadata": {},
   "outputs": [
    {
     "data": {
      "text/plain": [
       "array(['Color', nan, ' Black and White'], dtype=object)"
      ]
     },
     "execution_count": 19,
     "metadata": {},
     "output_type": "execute_result"
    }
   ],
   "source": [
    "df_movie['color'].unique()"
   ]
  },
  {
   "cell_type": "code",
   "execution_count": 20,
   "metadata": {},
   "outputs": [
    {
     "data": {
      "text/plain": [
       "0       Color\n",
       "1       Color\n",
       "2       Color\n",
       "3       Color\n",
       "4         unk\n",
       "        ...  \n",
       "5038    Color\n",
       "5039    Color\n",
       "5040    Color\n",
       "5041    Color\n",
       "5042    Color\n",
       "Name: color, Length: 5043, dtype: object"
      ]
     },
     "execution_count": 20,
     "metadata": {},
     "output_type": "execute_result"
    }
   ],
   "source": [
    "df_movie['color'].fillna('unk')\n"
   ]
  },
  {
   "cell_type": "code",
   "execution_count": 22,
   "metadata": {},
   "outputs": [
    {
     "data": {
      "text/plain": [
       "0           James Cameron\n",
       "1          Gore Verbinski\n",
       "2              Sam Mendes\n",
       "3       Christopher Nolan\n",
       "4             Doug Walker\n",
       "              ...        \n",
       "5038          Scott Smith\n",
       "5039                  NaN\n",
       "5040     Benjamin Roberds\n",
       "5041          Daniel Hsia\n",
       "5042             Jon Gunn\n",
       "Name: director_name, Length: 5043, dtype: object"
      ]
     },
     "execution_count": 22,
     "metadata": {},
     "output_type": "execute_result"
    }
   ],
   "source": [
    "df_movie['director_name']"
   ]
  },
  {
   "cell_type": "code",
   "execution_count": 23,
   "metadata": {},
   "outputs": [],
   "source": [
    "dirty_df = pd.read_csv('../Data/dirty_data.csv')"
   ]
  },
  {
   "cell_type": "code",
   "execution_count": 24,
   "metadata": {},
   "outputs": [
    {
     "data": {
      "text/html": [
       "<div>\n",
       "<style scoped>\n",
       "    .dataframe tbody tr th:only-of-type {\n",
       "        vertical-align: middle;\n",
       "    }\n",
       "\n",
       "    .dataframe tbody tr th {\n",
       "        vertical-align: top;\n",
       "    }\n",
       "\n",
       "    .dataframe thead th {\n",
       "        text-align: right;\n",
       "    }\n",
       "</style>\n",
       "<table border=\"1\" class=\"dataframe\">\n",
       "  <thead>\n",
       "    <tr style=\"text-align: right;\">\n",
       "      <th></th>\n",
       "      <th>age</th>\n",
       "      <th>birth_date</th>\n",
       "      <th>marital</th>\n",
       "      <th>people</th>\n",
       "      <th>ssn</th>\n",
       "    </tr>\n",
       "  </thead>\n",
       "  <tbody>\n",
       "    <tr>\n",
       "      <th>0</th>\n",
       "      <td>24</td>\n",
       "      <td>02/12/1954</td>\n",
       "      <td>soltero</td>\n",
       "      <td>Alfonso A,guilar</td>\n",
       "      <td>6439</td>\n",
       "    </tr>\n",
       "    <tr>\n",
       "      <th>1</th>\n",
       "      <td>35</td>\n",
       "      <td>05/07/1958</td>\n",
       "      <td>casado</td>\n",
       "      <td>edu6ardo Castillo</td>\n",
       "      <td>689 24 9939</td>\n",
       "    </tr>\n",
       "    <tr>\n",
       "      <th>2</th>\n",
       "      <td>46</td>\n",
       "      <td>01-26-1956</td>\n",
       "      <td>Soltero</td>\n",
       "      <td>jocelyn medel</td>\n",
       "      <td>306-05-2792</td>\n",
       "    </tr>\n",
       "    <tr>\n",
       "      <th>3</th>\n",
       "      <td>57</td>\n",
       "      <td>19xx-10-23</td>\n",
       "      <td>divorciado</td>\n",
       "      <td>VICTOR ramos _ _ _</td>\n",
       "      <td>99922a45832</td>\n",
       "    </tr>\n",
       "    <tr>\n",
       "      <th>4</th>\n",
       "      <td>10</td>\n",
       "      <td>02/12/0054</td>\n",
       "      <td>SOLTERO</td>\n",
       "      <td>CARLOS EDUARDO; OCHOA ARAMBULA</td>\n",
       "      <td>6439</td>\n",
       "    </tr>\n",
       "    <tr>\n",
       "      <th>5</th>\n",
       "      <td>25</td>\n",
       "      <td>05/07/1958</td>\n",
       "      <td>CASado</td>\n",
       "      <td>JOSE MANUEL OCHOA CARDENAS</td>\n",
       "      <td>689 24 9939</td>\n",
       "    </tr>\n",
       "    <tr>\n",
       "      <th>6</th>\n",
       "      <td>63</td>\n",
       "      <td>01-26-1956</td>\n",
       "      <td>Soltero</td>\n",
       "      <td>JUAN MARIO; OCHOA NAVARRO</td>\n",
       "      <td>306-05-2792</td>\n",
       "    </tr>\n",
       "    <tr>\n",
       "      <th>7</th>\n",
       "      <td>59</td>\n",
       "      <td>19xx?10-23</td>\n",
       "      <td>DIVORCIADO</td>\n",
       "      <td>LUIS ONTANEDA MIJARES</td>\n",
       "      <td>99922a45832</td>\n",
       "    </tr>\n",
       "    <tr>\n",
       "      <th>8</th>\n",
       "      <td>69</td>\n",
       "      <td>02/12/1954</td>\n",
       "      <td>soltero</td>\n",
       "      <td>EDUARDO OMAR ORTEGA RAMIREZ</td>\n",
       "      <td>NaN</td>\n",
       "    </tr>\n",
       "    <tr>\n",
       "      <th>9</th>\n",
       "      <td>59</td>\n",
       "      <td>05/07/1958</td>\n",
       "      <td>NaN</td>\n",
       "      <td>JOSE ALEJANDRO&amp; PRECIADO GANDARA</td>\n",
       "      <td>6439</td>\n",
       "    </tr>\n",
       "    <tr>\n",
       "      <th>10</th>\n",
       "      <td>20</td>\n",
       "      <td>01-26-1956</td>\n",
       "      <td>Soltero</td>\n",
       "      <td>Jose Aantonio Quintero Rodriguez</td>\n",
       "      <td>689 24 9938</td>\n",
       "    </tr>\n",
       "    <tr>\n",
       "      <th>11</th>\n",
       "      <td>25</td>\n",
       "      <td>19xx-10-23</td>\n",
       "      <td>divorciado</td>\n",
       "      <td>JOSE ALFONSO RAMIREZ D.</td>\n",
       "      <td>306-06-2792</td>\n",
       "    </tr>\n",
       "    <tr>\n",
       "      <th>12</th>\n",
       "      <td>30</td>\n",
       "      <td>02/12/0054</td>\n",
       "      <td>missing</td>\n",
       "      <td>ANA PAULA RANGEL OCHOA&amp;</td>\n",
       "      <td>99922a45845</td>\n",
       "    </tr>\n",
       "    <tr>\n",
       "      <th>13</th>\n",
       "      <td>35</td>\n",
       "      <td>05/07/1958</td>\n",
       "      <td>casado</td>\n",
       "      <td>Arturo RUIZ CHAVEZ</td>\n",
       "      <td>missing</td>\n",
       "    </tr>\n",
       "  </tbody>\n",
       "</table>\n",
       "</div>"
      ],
      "text/plain": [
       "    age  birth_date     marital                            people          ssn\n",
       "0    24  02/12/1954     soltero                  Alfonso A,guilar         6439\n",
       "1    35  05/07/1958      casado                 edu6ardo Castillo  689 24 9939\n",
       "2    46  01-26-1956     Soltero                     jocelyn medel  306-05-2792\n",
       "3    57  19xx-10-23  divorciado                VICTOR ramos _ _ _  99922a45832\n",
       "4    10  02/12/0054     SOLTERO    CARLOS EDUARDO; OCHOA ARAMBULA         6439\n",
       "5    25  05/07/1958      CASado        JOSE MANUEL OCHOA CARDENAS  689 24 9939\n",
       "6    63  01-26-1956     Soltero         JUAN MARIO; OCHOA NAVARRO  306-05-2792\n",
       "7    59  19xx?10-23  DIVORCIADO             LUIS ONTANEDA MIJARES  99922a45832\n",
       "8    69  02/12/1954     soltero       EDUARDO OMAR ORTEGA RAMIREZ          NaN\n",
       "9    59  05/07/1958         NaN  JOSE ALEJANDRO& PRECIADO GANDARA         6439\n",
       "10   20  01-26-1956     Soltero  Jose Aantonio Quintero Rodriguez  689 24 9938\n",
       "11   25  19xx-10-23  divorciado           JOSE ALFONSO RAMIREZ D.  306-06-2792\n",
       "12   30  02/12/0054     missing           ANA PAULA RANGEL OCHOA&  99922a45845\n",
       "13   35  05/07/1958      casado                Arturo RUIZ CHAVEZ      missing"
      ]
     },
     "execution_count": 24,
     "metadata": {},
     "output_type": "execute_result"
    }
   ],
   "source": [
    "dirty_df"
   ]
  },
  {
   "cell_type": "markdown",
   "metadata": {},
   "source": [
    "# Limpieza de los datos"
   ]
  },
  {
   "cell_type": "code",
   "execution_count": 25,
   "metadata": {},
   "outputs": [],
   "source": [
    "import string"
   ]
  },
  {
   "cell_type": "code",
   "execution_count": 26,
   "metadata": {},
   "outputs": [
    {
     "data": {
      "text/plain": [
       "'!\"#$%&\\'()*+,-./:;<=>?@[\\\\]^_`{|}~'"
      ]
     },
     "execution_count": 26,
     "metadata": {},
     "output_type": "execute_result"
    }
   ],
   "source": [
    "string.punctuation"
   ]
  },
  {
   "cell_type": "code",
   "execution_count": 27,
   "metadata": {},
   "outputs": [],
   "source": [
    "# remover signos de puntuación\n",
    "def remove_punctuation(x):\n",
    "    try:\n",
    "        x = ''.join(ch for ch in x if ch not in string.punctuation)\n",
    "    except:\n",
    "        print(f'{x} no es una cadena de caracteres')\n",
    "        pass\n",
    "    return x\n",
    "        "
   ]
  },
  {
   "cell_type": "code",
   "execution_count": 28,
   "metadata": {},
   "outputs": [],
   "source": [
    "s = 'CAR%LOS, EDUARDO; OCHOA AR&AMBULA'"
   ]
  },
  {
   "cell_type": "code",
   "execution_count": 29,
   "metadata": {},
   "outputs": [
    {
     "data": {
      "text/plain": [
       "'CARLOS EDUARDO OCHOA ARAMBULA'"
      ]
     },
     "execution_count": 29,
     "metadata": {},
     "output_type": "execute_result"
    }
   ],
   "source": [
    "remove_punctuation(s)"
   ]
  },
  {
   "cell_type": "code",
   "execution_count": 30,
   "metadata": {},
   "outputs": [
    {
     "name": "stdout",
     "output_type": "stream",
     "text": [
      "5 no es una cadena de caracteres\n"
     ]
    },
    {
     "data": {
      "text/plain": [
       "5"
      ]
     },
     "execution_count": 30,
     "metadata": {},
     "output_type": "execute_result"
    }
   ],
   "source": [
    "remove_punctuation(5)"
   ]
  },
  {
   "cell_type": "code",
   "execution_count": 31,
   "metadata": {},
   "outputs": [
    {
     "data": {
      "text/plain": [
       "0                      Alfonso Aguilar\n",
       "1                    edu6ardo Castillo\n",
       "2                        jocelyn medel\n",
       "3                      VICTOR ramos   \n",
       "4        CARLOS EDUARDO OCHOA ARAMBULA\n",
       "5           JOSE MANUEL OCHOA CARDENAS\n",
       "6             JUAN MARIO OCHOA NAVARRO\n",
       "7                LUIS ONTANEDA MIJARES\n",
       "8          EDUARDO OMAR ORTEGA RAMIREZ\n",
       "9      JOSE ALEJANDRO PRECIADO GANDARA\n",
       "10    Jose Aantonio Quintero Rodriguez\n",
       "11              JOSE ALFONSO RAMIREZ D\n",
       "12              ANA PAULA RANGEL OCHOA\n",
       "13                  Arturo RUIZ CHAVEZ\n",
       "Name: people, dtype: object"
      ]
     },
     "execution_count": 31,
     "metadata": {},
     "output_type": "execute_result"
    }
   ],
   "source": [
    "dirty_df['people'].apply(remove_punctuation)"
   ]
  },
  {
   "cell_type": "code",
   "execution_count": 32,
   "metadata": {},
   "outputs": [
    {
     "data": {
      "text/plain": [
       "'0123456789'"
      ]
     },
     "execution_count": 32,
     "metadata": {},
     "output_type": "execute_result"
    }
   ],
   "source": [
    "string.digits"
   ]
  },
  {
   "cell_type": "code",
   "execution_count": 33,
   "metadata": {},
   "outputs": [],
   "source": [
    "def remove_digits(x):\n",
    "    try:\n",
    "        x = \"\".join(ch for ch in x if ch not in string.digits)\n",
    "    except:\n",
    "        print(f'{x} no es una cadena de caracteres')\n",
    "        pass\n",
    "    return x\n",
    "            "
   ]
  },
  {
   "cell_type": "code",
   "execution_count": 34,
   "metadata": {},
   "outputs": [],
   "source": [
    "s = 'edu6ardo Castillo'"
   ]
  },
  {
   "cell_type": "code",
   "execution_count": 35,
   "metadata": {},
   "outputs": [
    {
     "data": {
      "text/plain": [
       "'eduardo Castillo'"
      ]
     },
     "execution_count": 35,
     "metadata": {},
     "output_type": "execute_result"
    }
   ],
   "source": [
    "remove_digits(s)"
   ]
  },
  {
   "cell_type": "code",
   "execution_count": 36,
   "metadata": {},
   "outputs": [
    {
     "data": {
      "text/plain": [
       "0                      Alfonso Aguilar\n",
       "1                     eduardo Castillo\n",
       "2                        jocelyn medel\n",
       "3                      VICTOR ramos   \n",
       "4        CARLOS EDUARDO OCHOA ARAMBULA\n",
       "5           JOSE MANUEL OCHOA CARDENAS\n",
       "6             JUAN MARIO OCHOA NAVARRO\n",
       "7                LUIS ONTANEDA MIJARES\n",
       "8          EDUARDO OMAR ORTEGA RAMIREZ\n",
       "9      JOSE ALEJANDRO PRECIADO GANDARA\n",
       "10    Jose Aantonio Quintero Rodriguez\n",
       "11              JOSE ALFONSO RAMIREZ D\n",
       "12              ANA PAULA RANGEL OCHOA\n",
       "13                  Arturo RUIZ CHAVEZ\n",
       "Name: people, dtype: object"
      ]
     },
     "execution_count": 36,
     "metadata": {},
     "output_type": "execute_result"
    }
   ],
   "source": [
    "dirty_df['people'].apply(remove_punctuation).apply(remove_digits)"
   ]
  },
  {
   "cell_type": "code",
   "execution_count": 37,
   "metadata": {},
   "outputs": [],
   "source": [
    "#remover espacios en blanco\n",
    "def remove_whitespace(x):\n",
    "    try:\n",
    "        x=' '.join(x.split())\n",
    "    except:\n",
    "        pass\n",
    "    return x"
   ]
  },
  {
   "cell_type": "code",
   "execution_count": 38,
   "metadata": {},
   "outputs": [],
   "source": [
    "#convertimos a minúsculas\n",
    "def lower_text(x):\n",
    "    try:\n",
    "        x=x.lower()\n",
    "    except:\n",
    "        pass\n",
    "    return x"
   ]
  },
  {
   "cell_type": "code",
   "execution_count": 39,
   "metadata": {},
   "outputs": [],
   "source": [
    "#Convertimos a mayúsculas\n",
    "def upper_text(x):\n",
    "    try:\n",
    "        x=x.upper()\n",
    "    except:\n",
    "        pass\n",
    "    return x"
   ]
  },
  {
   "cell_type": "code",
   "execution_count": 40,
   "metadata": {},
   "outputs": [],
   "source": [
    "# función convierta a mayúsculas la primera letra\n",
    "def capitalize_text(x):\n",
    "    try:\n",
    "        x = x.capitalize()\n",
    "    except:\n",
    "        pass\n",
    "    return x"
   ]
  },
  {
   "cell_type": "code",
   "execution_count": 42,
   "metadata": {},
   "outputs": [
    {
     "data": {
      "text/plain": [
       "0                      Alfonso aguilar\n",
       "1                     Eduardo castillo\n",
       "2                        Jocelyn medel\n",
       "3                         Victor ramos\n",
       "4        Carlos eduardo ochoa arambula\n",
       "5           Jose manuel ochoa cardenas\n",
       "6             Juan mario ochoa navarro\n",
       "7                Luis ontaneda mijares\n",
       "8          Eduardo omar ortega ramirez\n",
       "9      Jose alejandro preciado gandara\n",
       "10    Jose aantonio quintero rodriguez\n",
       "11              Jose alfonso ramirez d\n",
       "12              Ana paula rangel ochoa\n",
       "13                  Arturo ruiz chavez\n",
       "Name: people, dtype: object"
      ]
     },
     "execution_count": 42,
     "metadata": {},
     "output_type": "execute_result"
    }
   ],
   "source": [
    "dirty_df['people'].apply(remove_punctuation).apply(remove_digits).apply(capitalize_text).apply(remove_whitespace)"
   ]
  },
  {
   "cell_type": "code",
   "execution_count": 44,
   "metadata": {},
   "outputs": [],
   "source": [
    "def replace_text(x,to_replace, replacement):\n",
    "    try:\n",
    "        x = x.replace(to_replace,replacement)\n",
    "    except:\n",
    "        pass\n",
    "    return x"
   ]
  },
  {
   "cell_type": "code",
   "execution_count": 47,
   "metadata": {},
   "outputs": [
    {
     "data": {
      "text/plain": [
       "0     02/12/1954\n",
       "1     05/07/1958\n",
       "2     01/26/1956\n",
       "3     1900/10/23\n",
       "4     02/12/0054\n",
       "5     05/07/1958\n",
       "6     01/26/1956\n",
       "7     1900?10/23\n",
       "8     02/12/1954\n",
       "9     05/07/1958\n",
       "10    01/26/1956\n",
       "11    1900/10/23\n",
       "12    02/12/0054\n",
       "13    05/07/1958\n",
       "Name: birth_date, dtype: object"
      ]
     },
     "execution_count": 47,
     "metadata": {},
     "output_type": "execute_result"
    }
   ],
   "source": [
    "dirty_df['birth_date'].apply(replace_text, args=('xx','00')).apply(replace_text, args=('-','/'))"
   ]
  },
  {
   "cell_type": "code",
   "execution_count": 57,
   "metadata": {},
   "outputs": [],
   "source": [
    "class CDIN:\n",
    "    def __init__(self, df):\n",
    "        self.data = df\n",
    "    # Métodos para clasificación de Datos en un DataFrame (Cualitativos, Cuantitativos, Binarios)\n",
    "    \n",
    "    #def get_cuantitativos:\n",
    "    #    return col_cuantitativos, df_cuantitativos\n",
    "    \n",
    "    #def get_cualitativos:\n",
    "    #    return col_cualitativos, df_cualitativos\n",
    "    \n",
    "    def get_binaries(self):\n",
    "        df_cat = self.data.select_dtypes(include=['object']).copy()\n",
    "        column_cat = df_cat.columns\n",
    "        column_binaries = []\n",
    "        for col in column_cat:\n",
    "            if df_cat[col].nunique() == 2:\n",
    "                column_binaries.append(col)\n",
    "        return column_binaries, self.data[column_binaries]\n",
    "    \n",
    "    ## Métodos para la limpieza de datos\n",
    "    \n",
    "    # remover signos de puntuación\n",
    "    @staticmethod\n",
    "    def remove_punctuation(x):\n",
    "        try:\n",
    "            x = ''.join(ch for ch in x if ch not in string.punctuation)\n",
    "        except:\n",
    "            print(f'{x} no es una cadena de caracteres')\n",
    "            pass\n",
    "        return x\n",
    "    @staticmethod\n",
    "    def remove_digits(x):\n",
    "        try:\n",
    "            x = \"\".join(ch for ch in x if ch not in string.digits)\n",
    "        except:\n",
    "            print(f'{x} no es una cadena de caracteres')\n",
    "            pass\n",
    "        return x\n",
    "    #remover espacios en blanco\n",
    "    @staticmethod\n",
    "    def remove_whitespace(x):\n",
    "        try:\n",
    "            x=' '.join(x.split())\n",
    "        except:\n",
    "            pass\n",
    "        return x\n",
    "    #convertimos a minúsculas\n",
    "    @staticmethod\n",
    "    def lower_text(x):\n",
    "        try:\n",
    "            x=x.lower()\n",
    "        except:\n",
    "            pass\n",
    "        return x\n",
    "    #Convertimos a mayúsculas\n",
    "    @staticmethod\n",
    "    def upper_text(x):\n",
    "        try:\n",
    "            x=x.upper()\n",
    "        except:\n",
    "            pass\n",
    "        return x\n",
    "    # función convierta a mayúsculas la primera letra\n",
    "    @staticmethod\n",
    "    def capitalize_text(x):\n",
    "        try:\n",
    "            x = x.capitalize()\n",
    "        except:\n",
    "            pass\n",
    "        return x\n",
    "    @staticmethod\n",
    "    def replace_text(x,to_replace, replacement):\n",
    "        try:\n",
    "            x = x.replace(to_replace,replacement)\n",
    "        except:\n",
    "            pass\n",
    "        return x\n",
    "    "
   ]
  },
  {
   "cell_type": "code",
   "execution_count": 58,
   "metadata": {},
   "outputs": [],
   "source": [
    "cd_dirty = CDIN(dirty_df)"
   ]
  },
  {
   "cell_type": "code",
   "execution_count": 59,
   "metadata": {},
   "outputs": [
    {
     "data": {
      "text/html": [
       "<div>\n",
       "<style scoped>\n",
       "    .dataframe tbody tr th:only-of-type {\n",
       "        vertical-align: middle;\n",
       "    }\n",
       "\n",
       "    .dataframe tbody tr th {\n",
       "        vertical-align: top;\n",
       "    }\n",
       "\n",
       "    .dataframe thead th {\n",
       "        text-align: right;\n",
       "    }\n",
       "</style>\n",
       "<table border=\"1\" class=\"dataframe\">\n",
       "  <thead>\n",
       "    <tr style=\"text-align: right;\">\n",
       "      <th></th>\n",
       "      <th>age</th>\n",
       "      <th>birth_date</th>\n",
       "      <th>marital</th>\n",
       "      <th>people</th>\n",
       "      <th>ssn</th>\n",
       "    </tr>\n",
       "  </thead>\n",
       "  <tbody>\n",
       "    <tr>\n",
       "      <th>0</th>\n",
       "      <td>24</td>\n",
       "      <td>02/12/1954</td>\n",
       "      <td>soltero</td>\n",
       "      <td>Alfonso A,guilar</td>\n",
       "      <td>6439</td>\n",
       "    </tr>\n",
       "    <tr>\n",
       "      <th>1</th>\n",
       "      <td>35</td>\n",
       "      <td>05/07/1958</td>\n",
       "      <td>casado</td>\n",
       "      <td>edu6ardo Castillo</td>\n",
       "      <td>689 24 9939</td>\n",
       "    </tr>\n",
       "    <tr>\n",
       "      <th>2</th>\n",
       "      <td>46</td>\n",
       "      <td>01-26-1956</td>\n",
       "      <td>Soltero</td>\n",
       "      <td>jocelyn medel</td>\n",
       "      <td>306-05-2792</td>\n",
       "    </tr>\n",
       "    <tr>\n",
       "      <th>3</th>\n",
       "      <td>57</td>\n",
       "      <td>19xx-10-23</td>\n",
       "      <td>divorciado</td>\n",
       "      <td>VICTOR ramos _ _ _</td>\n",
       "      <td>99922a45832</td>\n",
       "    </tr>\n",
       "    <tr>\n",
       "      <th>4</th>\n",
       "      <td>10</td>\n",
       "      <td>02/12/0054</td>\n",
       "      <td>SOLTERO</td>\n",
       "      <td>CARLOS EDUARDO; OCHOA ARAMBULA</td>\n",
       "      <td>6439</td>\n",
       "    </tr>\n",
       "    <tr>\n",
       "      <th>5</th>\n",
       "      <td>25</td>\n",
       "      <td>05/07/1958</td>\n",
       "      <td>CASado</td>\n",
       "      <td>JOSE MANUEL OCHOA CARDENAS</td>\n",
       "      <td>689 24 9939</td>\n",
       "    </tr>\n",
       "    <tr>\n",
       "      <th>6</th>\n",
       "      <td>63</td>\n",
       "      <td>01-26-1956</td>\n",
       "      <td>Soltero</td>\n",
       "      <td>JUAN MARIO; OCHOA NAVARRO</td>\n",
       "      <td>306-05-2792</td>\n",
       "    </tr>\n",
       "    <tr>\n",
       "      <th>7</th>\n",
       "      <td>59</td>\n",
       "      <td>19xx?10-23</td>\n",
       "      <td>DIVORCIADO</td>\n",
       "      <td>LUIS ONTANEDA MIJARES</td>\n",
       "      <td>99922a45832</td>\n",
       "    </tr>\n",
       "    <tr>\n",
       "      <th>8</th>\n",
       "      <td>69</td>\n",
       "      <td>02/12/1954</td>\n",
       "      <td>soltero</td>\n",
       "      <td>EDUARDO OMAR ORTEGA RAMIREZ</td>\n",
       "      <td>NaN</td>\n",
       "    </tr>\n",
       "    <tr>\n",
       "      <th>9</th>\n",
       "      <td>59</td>\n",
       "      <td>05/07/1958</td>\n",
       "      <td>NaN</td>\n",
       "      <td>JOSE ALEJANDRO&amp; PRECIADO GANDARA</td>\n",
       "      <td>6439</td>\n",
       "    </tr>\n",
       "    <tr>\n",
       "      <th>10</th>\n",
       "      <td>20</td>\n",
       "      <td>01-26-1956</td>\n",
       "      <td>Soltero</td>\n",
       "      <td>Jose Aantonio Quintero Rodriguez</td>\n",
       "      <td>689 24 9938</td>\n",
       "    </tr>\n",
       "    <tr>\n",
       "      <th>11</th>\n",
       "      <td>25</td>\n",
       "      <td>19xx-10-23</td>\n",
       "      <td>divorciado</td>\n",
       "      <td>JOSE ALFONSO RAMIREZ D.</td>\n",
       "      <td>306-06-2792</td>\n",
       "    </tr>\n",
       "    <tr>\n",
       "      <th>12</th>\n",
       "      <td>30</td>\n",
       "      <td>02/12/0054</td>\n",
       "      <td>missing</td>\n",
       "      <td>ANA PAULA RANGEL OCHOA&amp;</td>\n",
       "      <td>99922a45845</td>\n",
       "    </tr>\n",
       "    <tr>\n",
       "      <th>13</th>\n",
       "      <td>35</td>\n",
       "      <td>05/07/1958</td>\n",
       "      <td>casado</td>\n",
       "      <td>Arturo RUIZ CHAVEZ</td>\n",
       "      <td>missing</td>\n",
       "    </tr>\n",
       "  </tbody>\n",
       "</table>\n",
       "</div>"
      ],
      "text/plain": [
       "    age  birth_date     marital                            people          ssn\n",
       "0    24  02/12/1954     soltero                  Alfonso A,guilar         6439\n",
       "1    35  05/07/1958      casado                 edu6ardo Castillo  689 24 9939\n",
       "2    46  01-26-1956     Soltero                     jocelyn medel  306-05-2792\n",
       "3    57  19xx-10-23  divorciado                VICTOR ramos _ _ _  99922a45832\n",
       "4    10  02/12/0054     SOLTERO    CARLOS EDUARDO; OCHOA ARAMBULA         6439\n",
       "5    25  05/07/1958      CASado        JOSE MANUEL OCHOA CARDENAS  689 24 9939\n",
       "6    63  01-26-1956     Soltero         JUAN MARIO; OCHOA NAVARRO  306-05-2792\n",
       "7    59  19xx?10-23  DIVORCIADO             LUIS ONTANEDA MIJARES  99922a45832\n",
       "8    69  02/12/1954     soltero       EDUARDO OMAR ORTEGA RAMIREZ          NaN\n",
       "9    59  05/07/1958         NaN  JOSE ALEJANDRO& PRECIADO GANDARA         6439\n",
       "10   20  01-26-1956     Soltero  Jose Aantonio Quintero Rodriguez  689 24 9938\n",
       "11   25  19xx-10-23  divorciado           JOSE ALFONSO RAMIREZ D.  306-06-2792\n",
       "12   30  02/12/0054     missing           ANA PAULA RANGEL OCHOA&  99922a45845\n",
       "13   35  05/07/1958      casado                Arturo RUIZ CHAVEZ      missing"
      ]
     },
     "execution_count": 59,
     "metadata": {},
     "output_type": "execute_result"
    }
   ],
   "source": [
    "cd_dirty.data"
   ]
  },
  {
   "cell_type": "code",
   "execution_count": 60,
   "metadata": {},
   "outputs": [
    {
     "data": {
      "text/plain": [
       "([],\n",
       " Empty DataFrame\n",
       " Columns: []\n",
       " Index: [0, 1, 2, 3, 4, 5, 6, 7, 8, 9, 10, 11, 12, 13])"
      ]
     },
     "execution_count": 60,
     "metadata": {},
     "output_type": "execute_result"
    }
   ],
   "source": [
    "cd_dirty.get_binaries()"
   ]
  },
  {
   "cell_type": "code",
   "execution_count": 61,
   "metadata": {},
   "outputs": [
    {
     "data": {
      "text/plain": [
       "'ljajajlsa'"
      ]
     },
     "execution_count": 61,
     "metadata": {},
     "output_type": "execute_result"
    }
   ],
   "source": [
    "cd_dirty.remove_punctuation('___?lja%.jajlsa&')"
   ]
  },
  {
   "cell_type": "code",
   "execution_count": 62,
   "metadata": {},
   "outputs": [
    {
     "data": {
      "text/plain": [
       "0                      Alfonso Aguilar\n",
       "1                    edu6ardo Castillo\n",
       "2                        jocelyn medel\n",
       "3                      VICTOR ramos   \n",
       "4        CARLOS EDUARDO OCHOA ARAMBULA\n",
       "5           JOSE MANUEL OCHOA CARDENAS\n",
       "6             JUAN MARIO OCHOA NAVARRO\n",
       "7                LUIS ONTANEDA MIJARES\n",
       "8          EDUARDO OMAR ORTEGA RAMIREZ\n",
       "9      JOSE ALEJANDRO PRECIADO GANDARA\n",
       "10    Jose Aantonio Quintero Rodriguez\n",
       "11              JOSE ALFONSO RAMIREZ D\n",
       "12              ANA PAULA RANGEL OCHOA\n",
       "13                  Arturo RUIZ CHAVEZ\n",
       "Name: people, dtype: object"
      ]
     },
     "execution_count": 62,
     "metadata": {},
     "output_type": "execute_result"
    }
   ],
   "source": [
    "cd_dirty.data['people'].apply(cd_dirty.remove_punctuation)"
   ]
  },
  {
   "cell_type": "code",
   "execution_count": 63,
   "metadata": {},
   "outputs": [
    {
     "data": {
      "text/plain": [
       "0                      Alfonso aguilar\n",
       "1                     Eduardo castillo\n",
       "2                        Jocelyn medel\n",
       "3                         Victor ramos\n",
       "4        Carlos eduardo ochoa arambula\n",
       "5           Jose manuel ochoa cardenas\n",
       "6             Juan mario ochoa navarro\n",
       "7                Luis ontaneda mijares\n",
       "8          Eduardo omar ortega ramirez\n",
       "9      Jose alejandro preciado gandara\n",
       "10    Jose aantonio quintero rodriguez\n",
       "11              Jose alfonso ramirez d\n",
       "12              Ana paula rangel ochoa\n",
       "13                  Arturo ruiz chavez\n",
       "Name: people, dtype: object"
      ]
     },
     "execution_count": 63,
     "metadata": {},
     "output_type": "execute_result"
    }
   ],
   "source": [
    "cd_dirty.data['people'].apply(cd_dirty.remove_punctuation).apply(cd_dirty.remove_digits).apply(cd_dirty.capitalize_text).apply(cd_dirty.remove_whitespace)"
   ]
  },
  {
   "cell_type": "code",
   "execution_count": 64,
   "metadata": {},
   "outputs": [],
   "source": [
    "from CDIN import CDIN as acd"
   ]
  },
  {
   "cell_type": "code",
   "execution_count": 65,
   "metadata": {},
   "outputs": [
    {
     "data": {
      "text/plain": [
       "'ajsdaljl'"
      ]
     },
     "execution_count": 65,
     "metadata": {},
     "output_type": "execute_result"
    }
   ],
   "source": [
    "acd.remove_punctuation('.!ajs$daljl,)')"
   ]
  },
  {
   "cell_type": "code",
   "execution_count": 67,
   "metadata": {},
   "outputs": [],
   "source": [
    "df_cd = acd(dirty_df)"
   ]
  },
  {
   "cell_type": "code",
   "execution_count": 68,
   "metadata": {},
   "outputs": [
    {
     "data": {
      "text/html": [
       "<div>\n",
       "<style scoped>\n",
       "    .dataframe tbody tr th:only-of-type {\n",
       "        vertical-align: middle;\n",
       "    }\n",
       "\n",
       "    .dataframe tbody tr th {\n",
       "        vertical-align: top;\n",
       "    }\n",
       "\n",
       "    .dataframe thead th {\n",
       "        text-align: right;\n",
       "    }\n",
       "</style>\n",
       "<table border=\"1\" class=\"dataframe\">\n",
       "  <thead>\n",
       "    <tr style=\"text-align: right;\">\n",
       "      <th></th>\n",
       "      <th>age</th>\n",
       "      <th>birth_date</th>\n",
       "      <th>marital</th>\n",
       "      <th>people</th>\n",
       "      <th>ssn</th>\n",
       "    </tr>\n",
       "  </thead>\n",
       "  <tbody>\n",
       "    <tr>\n",
       "      <th>0</th>\n",
       "      <td>24</td>\n",
       "      <td>02/12/1954</td>\n",
       "      <td>soltero</td>\n",
       "      <td>Alfonso A,guilar</td>\n",
       "      <td>6439</td>\n",
       "    </tr>\n",
       "    <tr>\n",
       "      <th>1</th>\n",
       "      <td>35</td>\n",
       "      <td>05/07/1958</td>\n",
       "      <td>casado</td>\n",
       "      <td>edu6ardo Castillo</td>\n",
       "      <td>689 24 9939</td>\n",
       "    </tr>\n",
       "    <tr>\n",
       "      <th>2</th>\n",
       "      <td>46</td>\n",
       "      <td>01-26-1956</td>\n",
       "      <td>Soltero</td>\n",
       "      <td>jocelyn medel</td>\n",
       "      <td>306-05-2792</td>\n",
       "    </tr>\n",
       "    <tr>\n",
       "      <th>3</th>\n",
       "      <td>57</td>\n",
       "      <td>19xx-10-23</td>\n",
       "      <td>divorciado</td>\n",
       "      <td>VICTOR ramos _ _ _</td>\n",
       "      <td>99922a45832</td>\n",
       "    </tr>\n",
       "    <tr>\n",
       "      <th>4</th>\n",
       "      <td>10</td>\n",
       "      <td>02/12/0054</td>\n",
       "      <td>SOLTERO</td>\n",
       "      <td>CARLOS EDUARDO; OCHOA ARAMBULA</td>\n",
       "      <td>6439</td>\n",
       "    </tr>\n",
       "    <tr>\n",
       "      <th>5</th>\n",
       "      <td>25</td>\n",
       "      <td>05/07/1958</td>\n",
       "      <td>CASado</td>\n",
       "      <td>JOSE MANUEL OCHOA CARDENAS</td>\n",
       "      <td>689 24 9939</td>\n",
       "    </tr>\n",
       "    <tr>\n",
       "      <th>6</th>\n",
       "      <td>63</td>\n",
       "      <td>01-26-1956</td>\n",
       "      <td>Soltero</td>\n",
       "      <td>JUAN MARIO; OCHOA NAVARRO</td>\n",
       "      <td>306-05-2792</td>\n",
       "    </tr>\n",
       "    <tr>\n",
       "      <th>7</th>\n",
       "      <td>59</td>\n",
       "      <td>19xx?10-23</td>\n",
       "      <td>DIVORCIADO</td>\n",
       "      <td>LUIS ONTANEDA MIJARES</td>\n",
       "      <td>99922a45832</td>\n",
       "    </tr>\n",
       "    <tr>\n",
       "      <th>8</th>\n",
       "      <td>69</td>\n",
       "      <td>02/12/1954</td>\n",
       "      <td>soltero</td>\n",
       "      <td>EDUARDO OMAR ORTEGA RAMIREZ</td>\n",
       "      <td>NaN</td>\n",
       "    </tr>\n",
       "    <tr>\n",
       "      <th>9</th>\n",
       "      <td>59</td>\n",
       "      <td>05/07/1958</td>\n",
       "      <td>NaN</td>\n",
       "      <td>JOSE ALEJANDRO&amp; PRECIADO GANDARA</td>\n",
       "      <td>6439</td>\n",
       "    </tr>\n",
       "    <tr>\n",
       "      <th>10</th>\n",
       "      <td>20</td>\n",
       "      <td>01-26-1956</td>\n",
       "      <td>Soltero</td>\n",
       "      <td>Jose Aantonio Quintero Rodriguez</td>\n",
       "      <td>689 24 9938</td>\n",
       "    </tr>\n",
       "    <tr>\n",
       "      <th>11</th>\n",
       "      <td>25</td>\n",
       "      <td>19xx-10-23</td>\n",
       "      <td>divorciado</td>\n",
       "      <td>JOSE ALFONSO RAMIREZ D.</td>\n",
       "      <td>306-06-2792</td>\n",
       "    </tr>\n",
       "    <tr>\n",
       "      <th>12</th>\n",
       "      <td>30</td>\n",
       "      <td>02/12/0054</td>\n",
       "      <td>missing</td>\n",
       "      <td>ANA PAULA RANGEL OCHOA&amp;</td>\n",
       "      <td>99922a45845</td>\n",
       "    </tr>\n",
       "    <tr>\n",
       "      <th>13</th>\n",
       "      <td>35</td>\n",
       "      <td>05/07/1958</td>\n",
       "      <td>casado</td>\n",
       "      <td>Arturo RUIZ CHAVEZ</td>\n",
       "      <td>missing</td>\n",
       "    </tr>\n",
       "  </tbody>\n",
       "</table>\n",
       "</div>"
      ],
      "text/plain": [
       "    age  birth_date     marital                            people          ssn\n",
       "0    24  02/12/1954     soltero                  Alfonso A,guilar         6439\n",
       "1    35  05/07/1958      casado                 edu6ardo Castillo  689 24 9939\n",
       "2    46  01-26-1956     Soltero                     jocelyn medel  306-05-2792\n",
       "3    57  19xx-10-23  divorciado                VICTOR ramos _ _ _  99922a45832\n",
       "4    10  02/12/0054     SOLTERO    CARLOS EDUARDO; OCHOA ARAMBULA         6439\n",
       "5    25  05/07/1958      CASado        JOSE MANUEL OCHOA CARDENAS  689 24 9939\n",
       "6    63  01-26-1956     Soltero         JUAN MARIO; OCHOA NAVARRO  306-05-2792\n",
       "7    59  19xx?10-23  DIVORCIADO             LUIS ONTANEDA MIJARES  99922a45832\n",
       "8    69  02/12/1954     soltero       EDUARDO OMAR ORTEGA RAMIREZ          NaN\n",
       "9    59  05/07/1958         NaN  JOSE ALEJANDRO& PRECIADO GANDARA         6439\n",
       "10   20  01-26-1956     Soltero  Jose Aantonio Quintero Rodriguez  689 24 9938\n",
       "11   25  19xx-10-23  divorciado           JOSE ALFONSO RAMIREZ D.  306-06-2792\n",
       "12   30  02/12/0054     missing           ANA PAULA RANGEL OCHOA&  99922a45845\n",
       "13   35  05/07/1958      casado                Arturo RUIZ CHAVEZ      missing"
      ]
     },
     "execution_count": 68,
     "metadata": {},
     "output_type": "execute_result"
    }
   ],
   "source": [
    "df_cd.data"
   ]
  },
  {
   "cell_type": "markdown",
   "metadata": {},
   "source": [
    "## Reporte de Calidad de Datos"
   ]
  },
  {
   "cell_type": "code",
   "execution_count": null,
   "metadata": {},
   "outputs": [],
   "source": []
  },
  {
   "cell_type": "code",
   "execution_count": null,
   "metadata": {},
   "outputs": [],
   "source": []
  },
  {
   "cell_type": "markdown",
   "metadata": {},
   "source": [
    "# EDA utilizando el reporte de calidad de datos"
   ]
  },
  {
   "cell_type": "code",
   "execution_count": null,
   "metadata": {},
   "outputs": [],
   "source": []
  },
  {
   "cell_type": "code",
   "execution_count": null,
   "metadata": {},
   "outputs": [],
   "source": []
  },
  {
   "cell_type": "code",
   "execution_count": null,
   "metadata": {},
   "outputs": [],
   "source": []
  },
  {
   "cell_type": "markdown",
   "metadata": {},
   "source": [
    "### Actividad: En el dataset de accidentes, buscar:\n",
    "\n",
    "1.- Número de accidentes por fecha\n",
    "\n",
    "2.- Número de vehículos accidentados por día\n",
    "\n",
    "3.- Número de accidentados por fecha"
   ]
  },
  {
   "cell_type": "code",
   "execution_count": null,
   "metadata": {},
   "outputs": [],
   "source": []
  },
  {
   "cell_type": "code",
   "execution_count": null,
   "metadata": {},
   "outputs": [],
   "source": []
  },
  {
   "cell_type": "code",
   "execution_count": null,
   "metadata": {},
   "outputs": [],
   "source": []
  },
  {
   "cell_type": "code",
   "execution_count": null,
   "metadata": {},
   "outputs": [],
   "source": []
  }
 ],
 "metadata": {
  "kernelspec": {
   "display_name": "Python 3 (ipykernel)",
   "language": "python",
   "name": "python3"
  },
  "language_info": {
   "codemirror_mode": {
    "name": "ipython",
    "version": 3
   },
   "file_extension": ".py",
   "mimetype": "text/x-python",
   "name": "python",
   "nbconvert_exporter": "python",
   "pygments_lexer": "ipython3",
   "version": "3.8.8"
  }
 },
 "nbformat": 4,
 "nbformat_minor": 4
}
