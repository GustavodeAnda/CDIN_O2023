{
 "cells": [
  {
   "cell_type": "markdown",
   "metadata": {},
   "source": [
    "<img style=\"float: left;;\" src='../Imagenes/iteso.jpg' width=\"50\" height=\"100\"/></a>\n",
    "\n",
    "# <center> <font color= #000047> Módulo I: Medidas de Distancia y Similitud. </font> </center>\n",
    "\n"
   ]
  },
  {
   "cell_type": "markdown",
   "metadata": {},
   "source": [
    "## Introducción"
   ]
  },
  {
   "cell_type": "markdown",
   "metadata": {},
   "source": [
    "Ya que se tiene determinado el tipo de dato a utilizar, se pueden realizar una medida de similitud\n",
    "proponiendo el índice adecuado apropiado. \n",
    "\n",
    ">La primera y más importante es evitar la combinación de datos, esto debido a que cada tipo de dato presenta características propias que no comparten con los de otra naturaleza.\n",
    "\n",
    ">Un índice de similitud $\\delta_{i,j}$ es una medida de que tan parecido es un dato $i$ con otro $j$. Generalmente, las similaridades están acotadas en el rango de cero a uno; un aumento en la similaridad implica un aumento de la semejanza entre datos o variables, y toda similaridad de un dato consigo mismo debería ser igual al máximo valor posible, es decir, uno.\n",
    "\n",
    ">Las distancias en cambio disminuyen con un aumento del parecido, no son negativas y la distancia de un elemento consigo mismo es cero. Tanto las matrices de similaridades como las de distancias son simétricas; es decir, la distancia entre el individuo `a` y el `b` es la misma que entre el `b` y el `a`.\n",
    "\n",
    ">Dependiendo del método elegido para la ordenación, la clasificación, o el cálculo de índices de diversidad, así como de la escala de medición de los rasgos funcionales, la asociación entre los datos se expresará en términos de similaridad o distancia. Sin embargo, las similaridades pueden transformarse en distancias y viceversa."
   ]
  },
  {
   "cell_type": "markdown",
   "metadata": {},
   "source": [
    "Para el rango cero-uno, la similaridad $\\delta_{i,j}$ puede ser transformada a distancia $d_{i,j}$ de la siguientes\n",
    "formas:\n",
    "\n",
    "$$d_{i,j} = 1 - \\delta_{i,j}$$\n",
    "\n",
    "$$d_{i,j} = \\sqrt{1-\\delta_{i,j}}$$\n",
    "\n",
    "$$d_{i,j} = \\sqrt{\\delta_{i,j} -2\\delta_{i,j} + \\delta_{i,j}}$$\n",
    "\n",
    "$$d_{i,j} = -\\log{(\\delta_{i,j})}$$\n",
    "\n",
    ">El uso de índices de diversidad funcional basados en distancias, así como los métodos de\n",
    "clasificación y/o de ordenación requiere una comprensión de las propiedades de la escala de\n",
    "medición de los rasgos funcionales de las especies, y de las características de las medidas de\n",
    "semejanza asociadas a cada tipo de datos."
   ]
  },
  {
   "cell_type": "markdown",
   "metadata": {},
   "source": [
    "## Similitud en Datos de Doble Estado o Binarios"
   ]
  },
  {
   "cell_type": "markdown",
   "metadata": {},
   "source": [
    "Cuando la matriz de datos $X$, proviene de la observación de $n$ atributos que toman el valor 0 si la característica está ausente y el valor 1 si está presente, la información del grado de asociación entre cualquier par de individuos y puede representarse como una tabla de contingencia de 2x2 conocida conmunmente como **Matriz de Confusión**."
   ]
  },
  {
   "cell_type": "markdown",
   "metadata": {},
   "source": [
    "|             |               |               |$Muestra_j$   |         |\n",
    "|:-----------:| ------------- |:-------------:|:------------:|:-------:|\n",
    "|             |               |**Presente(1)**|**Ausente(0)**|         |\n",
    "|             |**Presente(1)**|        a      |       b      |`a+b`    |\n",
    "|$Muestra_i$  |**Ausente(0)** |        c      |       d      |`c+d`    |\n",
    "|             |               |      `a+c`    |     `b+d`    |`a+b+c+d`|     \n",
    "\n",
    "Donde $a$ es el número de caracteres presentes comunes, $b$ es el número de caracteres presente en\n",
    "$i$ pero no en $j$, $c$ es el número de caracteres presentes en $j$ pero no presentes en $i$ y d es número\n",
    "de caracteres no presentes en ambos datos. Para la matriz $X$ de dimensión $m × n$, es posible crear\n",
    "o construir $\\frac{n(n−1)}{2}$ Matrices de Confusión. \n",
    "\n",
    "Se han propuesto diversas medidas de similaridad que verifican estas propiedades, entre otros, Jaccard (1908), Rusell y Rao (1940), Sorensen (1948) y Sokal y Michener (1958). Sin embargo, existen similitudes que no verifican las propiedades de simetría y rango tales como la de Kulczynski (1970) acotada en el rango $[0,“ )$ y otros que expresan dependencia estocástica entre $x_i$ y $x_j$ como son las de Yule (1912) y la de Pearson (1926), acotadas en el rango $(-1,1)$, donde la mayor disimilaridad corresponde a $-1$, la similaridad total a $1$ y el valor 0 se asocia a la independencia estocástica.\n",
    "\n",
    "> No existe un criterio universal de cuándo usar una u otra similitud. Los diferentes autores que han abordado el tema coinciden en que la elección de una determinada similitud dependerá del peso que se desea dar a las frecuencias de $a$, $b$, $c$ y $d$, del tipo de datos que se quieran representar y de la situación experimental (Legendre y Legendre 1979, Gower y Legendre 1986)."
   ]
  },
  {
   "cell_type": "markdown",
   "metadata": {},
   "source": [
    "|Similaridad          |                                            | Simetría  | Rango         |\n",
    "|:-------------------:|:------------------------------------------:|:---------:|:--------------:|\n",
    "|Emparejamiento simple| $\\frac{a+d}{a+b+c+d}$                      |si         |[0,1]        |\n",
    "|Rogers y Tanimoto    | $\\frac{a+d}{a+2b+2c+d}$                    |si         |[0,1]        |\n",
    "|Hamman               | $\\frac{(a+d)-(b+c)}{a+2b+2c+d}$            |si         |[-1,1]      |\n",
    "|Yule                 | $\\frac{ad-bc}{ad+bc}$                      |si         |[-1,1]       |\n",
    "|Pearson              | $\\frac{ad-bc}{\\sqrt((a+c)(b+d)(a+b)(c+d))}$|si         |[-1,1]       |\n",
    "|Jaccard              | $\\frac{b+c}{a+b+c}$                        |No         |[0,1]        |\n",
    "|Russel y Rao         | $\\frac{a}{a+b+c+d}$                        |No         |[0,1]        |\n",
    "\n",
    "\n",
    "\n",
    "\n",
    "No hay que olvidar que cada índice de similitud tiene propiedades distintas por lo que hay que\n",
    "considerar el objetivo que se quiere obtener para elegir el índice adecuado."
   ]
  },
  {
   "cell_type": "code",
   "execution_count": 1,
   "metadata": {},
   "outputs": [],
   "source": [
    "import pandas as pd\n",
    "import numpy as np\n",
    "from sklearn.metrics import confusion_matrix"
   ]
  },
  {
   "cell_type": "code",
   "execution_count": 2,
   "metadata": {},
   "outputs": [],
   "source": [
    "y_i = [0,1,0,1,0,0]\n",
    "y_j = [1,1,1,0,0,0]"
   ]
  },
  {
   "cell_type": "code",
   "execution_count": 3,
   "metadata": {},
   "outputs": [],
   "source": [
    "M = np.array([[1,1],\n",
    "     [2,2]])"
   ]
  },
  {
   "cell_type": "code",
   "execution_count": 4,
   "metadata": {},
   "outputs": [
    {
     "data": {
      "text/plain": [
       "array([[1, 1],\n",
       "       [2, 2]])"
      ]
     },
     "execution_count": 4,
     "metadata": {},
     "output_type": "execute_result"
    }
   ],
   "source": [
    "M"
   ]
  },
  {
   "cell_type": "code",
   "execution_count": 5,
   "metadata": {},
   "outputs": [
    {
     "data": {
      "text/plain": [
       "array([[2, 2],\n",
       "       [1, 1]], dtype=int64)"
      ]
     },
     "execution_count": 5,
     "metadata": {},
     "output_type": "execute_result"
    }
   ],
   "source": [
    "m = confusion_matrix(y_i,y_j)\n",
    "m"
   ]
  },
  {
   "cell_type": "code",
   "execution_count": 6,
   "metadata": {},
   "outputs": [
    {
     "name": "stdout",
     "output_type": "stream",
     "text": [
      "Help on function confusion_matrix in module sklearn.metrics._classification:\n",
      "\n",
      "confusion_matrix(y_true, y_pred, *, labels=None, sample_weight=None, normalize=None)\n",
      "    Compute confusion matrix to evaluate the accuracy of a classification.\n",
      "    \n",
      "    By definition a confusion matrix :math:`C` is such that :math:`C_{i, j}`\n",
      "    is equal to the number of observations known to be in group :math:`i` and\n",
      "    predicted to be in group :math:`j`.\n",
      "    \n",
      "    Thus in binary classification, the count of true negatives is\n",
      "    :math:`C_{0,0}`, false negatives is :math:`C_{1,0}`, true positives is\n",
      "    :math:`C_{1,1}` and false positives is :math:`C_{0,1}`.\n",
      "    \n",
      "    Read more in the :ref:`User Guide <confusion_matrix>`.\n",
      "    \n",
      "    Parameters\n",
      "    ----------\n",
      "    y_true : array-like of shape (n_samples,)\n",
      "        Ground truth (correct) target values.\n",
      "    \n",
      "    y_pred : array-like of shape (n_samples,)\n",
      "        Estimated targets as returned by a classifier.\n",
      "    \n",
      "    labels : array-like of shape (n_classes), default=None\n",
      "        List of labels to index the matrix. This may be used to reorder\n",
      "        or select a subset of labels.\n",
      "        If ``None`` is given, those that appear at least once\n",
      "        in ``y_true`` or ``y_pred`` are used in sorted order.\n",
      "    \n",
      "    sample_weight : array-like of shape (n_samples,), default=None\n",
      "        Sample weights.\n",
      "    \n",
      "        .. versionadded:: 0.18\n",
      "    \n",
      "    normalize : {'true', 'pred', 'all'}, default=None\n",
      "        Normalizes confusion matrix over the true (rows), predicted (columns)\n",
      "        conditions or all the population. If None, confusion matrix will not be\n",
      "        normalized.\n",
      "    \n",
      "    Returns\n",
      "    -------\n",
      "    C : ndarray of shape (n_classes, n_classes)\n",
      "        Confusion matrix whose i-th row and j-th\n",
      "        column entry indicates the number of\n",
      "        samples with true label being i-th class\n",
      "        and predicted label being j-th class.\n",
      "    \n",
      "    See Also\n",
      "    --------\n",
      "    plot_confusion_matrix : Plot Confusion Matrix.\n",
      "    ConfusionMatrixDisplay : Confusion Matrix visualization.\n",
      "    \n",
      "    References\n",
      "    ----------\n",
      "    .. [1] `Wikipedia entry for the Confusion matrix\n",
      "           <https://en.wikipedia.org/wiki/Confusion_matrix>`_\n",
      "           (Wikipedia and other references may use a different\n",
      "           convention for axes).\n",
      "    \n",
      "    Examples\n",
      "    --------\n",
      "    >>> from sklearn.metrics import confusion_matrix\n",
      "    >>> y_true = [2, 0, 2, 2, 0, 1]\n",
      "    >>> y_pred = [0, 0, 2, 2, 0, 2]\n",
      "    >>> confusion_matrix(y_true, y_pred)\n",
      "    array([[2, 0, 0],\n",
      "           [0, 0, 1],\n",
      "           [1, 0, 2]])\n",
      "    \n",
      "    >>> y_true = [\"cat\", \"ant\", \"cat\", \"cat\", \"ant\", \"bird\"]\n",
      "    >>> y_pred = [\"ant\", \"ant\", \"cat\", \"cat\", \"ant\", \"cat\"]\n",
      "    >>> confusion_matrix(y_true, y_pred, labels=[\"ant\", \"bird\", \"cat\"])\n",
      "    array([[2, 0, 0],\n",
      "           [0, 0, 1],\n",
      "           [1, 0, 2]])\n",
      "    \n",
      "    In the binary case, we can extract true positives, etc as follows:\n",
      "    \n",
      "    >>> tn, fp, fn, tp = confusion_matrix([0, 1, 0, 1], [1, 1, 1, 0]).ravel()\n",
      "    >>> (tn, fp, fn, tp)\n",
      "    (0, 2, 1, 1)\n",
      "\n"
     ]
    }
   ],
   "source": [
    "help(confusion_matrix)"
   ]
  },
  {
   "cell_type": "code",
   "execution_count": 7,
   "metadata": {},
   "outputs": [],
   "source": [
    "d = m[0,0]\n",
    "c = m[0,1]\n",
    "b = m[1,0]\n",
    "a = m[1,1]"
   ]
  },
  {
   "cell_type": "code",
   "execution_count": 8,
   "metadata": {},
   "outputs": [
    {
     "data": {
      "text/plain": [
       "0.5"
      ]
     },
     "execution_count": 8,
     "metadata": {},
     "output_type": "execute_result"
    }
   ],
   "source": [
    "#indice de similitud de emparejamiento simple\n",
    "simple = (a+d)/(a+b+c+d)\n",
    "simple"
   ]
  },
  {
   "cell_type": "code",
   "execution_count": 9,
   "metadata": {},
   "outputs": [
    {
     "data": {
      "text/plain": [
       "0.75"
      ]
     },
     "execution_count": 9,
     "metadata": {},
     "output_type": "execute_result"
    }
   ],
   "source": [
    "#indice de similitud de jaccard\n",
    "jac = (b+c)/(a+b+c)\n",
    "jac"
   ]
  },
  {
   "cell_type": "code",
   "execution_count": 10,
   "metadata": {},
   "outputs": [],
   "source": [
    "from scipy.spatial.distance import jaccard\n"
   ]
  },
  {
   "cell_type": "code",
   "execution_count": 11,
   "metadata": {},
   "outputs": [
    {
     "data": {
      "text/plain": [
       "0.75"
      ]
     },
     "execution_count": 11,
     "metadata": {},
     "output_type": "execute_result"
    }
   ],
   "source": [
    "jaccard(y_i,y_j)"
   ]
  },
  {
   "cell_type": "markdown",
   "metadata": {},
   "source": [
    "## Similitud en Datos multi estado Nominales "
   ]
  },
  {
   "cell_type": "markdown",
   "metadata": {},
   "source": [
    "Si las categorías para cada variable son codificadas por ejemplo, como: $0,1, 2, 3, . . . , k,$ el grado de\n",
    "asociación entre cualquier par de individuos $x_i$ y $x_j$ puede medirse a través de la expansión del\n",
    "emparejamiento simple que se expresará como:\n",
    "\n",
    "$$d_{ij}=\\frac{número\\_de\\_caracteres\\_coincidentes}{número\\_total\\_de\\_caracteres}$$\n",
    "\n",
    "No obstante, cuando el cero representa ausencia del carácter es recomendable ignorar el empate\n",
    "de ceros en forma similar como lo hace `Jaccard`.\n",
    "\n",
    "Para el tratamiento de las variables ‘indicadoras excluyentes’ pueden utilizarse dos estrategias: \n",
    "\n",
    ">Uso de variables `‘auxiliares’` (dummy) o desdoblamiento en tantas variables como estados posibles presentes de la categoría.\n",
    "\n",
    "En el caso de variables ‘auxiliares’ cada variable estará representada por tantas pseudo variables como número de estados diferentes menos uno. \n",
    "\n",
    "Así cada categoría tendrá asociado un perfil con un 1 en el estado en que se encuentre, estando el último estado representado solo por ceros.\n",
    "\n",
    ">Cuando se realiza el desdoblamiento de una variable nominal en todos sus posibles estados, se\n",
    "identifica la presencia o ausencia de cada estado del rasgo funcional en estudio, pero como estos\n",
    "estados son excluyentes cada especie tendrá un solo valor de presencia (1) y el resto serán ceros."
   ]
  },
  {
   "cell_type": "code",
   "execution_count": 12,
   "metadata": {},
   "outputs": [
    {
     "data": {
      "text/plain": [
       "{'Genero': ['M', 'F', 'F', 'M', 'F', 'F', 'F'],\n",
       " 'Nombre': ['John', 'Camila', 'Renata', 'José', 'Alex', 'Pau', 'Fernanda'],\n",
       " 'Estatus Marital': ['Casado',\n",
       "  'Soltero',\n",
       "  'Divorciado',\n",
       "  'Soltero',\n",
       "  'Divorciado',\n",
       "  'Soltero',\n",
       "  'Divorciado']}"
      ]
     },
     "execution_count": 12,
     "metadata": {},
     "output_type": "execute_result"
    }
   ],
   "source": [
    "data = {'Genero':['M','F','F','M','F','F','F'],\n",
    "       'Nombre' : ['John', 'Camila', 'Renata', 'José', 'Alex', 'Pau', 'Fernanda'],\n",
    "       'Estatus Marital': ['Casado','Soltero','Divorciado', 'Soltero','Divorciado','Soltero','Divorciado']}\n",
    "data"
   ]
  },
  {
   "cell_type": "code",
   "execution_count": 13,
   "metadata": {},
   "outputs": [
    {
     "data": {
      "text/html": [
       "<div>\n",
       "<style scoped>\n",
       "    .dataframe tbody tr th:only-of-type {\n",
       "        vertical-align: middle;\n",
       "    }\n",
       "\n",
       "    .dataframe tbody tr th {\n",
       "        vertical-align: top;\n",
       "    }\n",
       "\n",
       "    .dataframe thead th {\n",
       "        text-align: right;\n",
       "    }\n",
       "</style>\n",
       "<table border=\"1\" class=\"dataframe\">\n",
       "  <thead>\n",
       "    <tr style=\"text-align: right;\">\n",
       "      <th></th>\n",
       "      <th>Genero</th>\n",
       "      <th>Nombre</th>\n",
       "      <th>Estatus Marital</th>\n",
       "    </tr>\n",
       "  </thead>\n",
       "  <tbody>\n",
       "    <tr>\n",
       "      <th>0</th>\n",
       "      <td>M</td>\n",
       "      <td>John</td>\n",
       "      <td>Casado</td>\n",
       "    </tr>\n",
       "    <tr>\n",
       "      <th>1</th>\n",
       "      <td>F</td>\n",
       "      <td>Camila</td>\n",
       "      <td>Soltero</td>\n",
       "    </tr>\n",
       "    <tr>\n",
       "      <th>2</th>\n",
       "      <td>F</td>\n",
       "      <td>Renata</td>\n",
       "      <td>Divorciado</td>\n",
       "    </tr>\n",
       "    <tr>\n",
       "      <th>3</th>\n",
       "      <td>M</td>\n",
       "      <td>José</td>\n",
       "      <td>Soltero</td>\n",
       "    </tr>\n",
       "    <tr>\n",
       "      <th>4</th>\n",
       "      <td>F</td>\n",
       "      <td>Alex</td>\n",
       "      <td>Divorciado</td>\n",
       "    </tr>\n",
       "    <tr>\n",
       "      <th>5</th>\n",
       "      <td>F</td>\n",
       "      <td>Pau</td>\n",
       "      <td>Soltero</td>\n",
       "    </tr>\n",
       "    <tr>\n",
       "      <th>6</th>\n",
       "      <td>F</td>\n",
       "      <td>Fernanda</td>\n",
       "      <td>Divorciado</td>\n",
       "    </tr>\n",
       "  </tbody>\n",
       "</table>\n",
       "</div>"
      ],
      "text/plain": [
       "  Genero    Nombre Estatus Marital\n",
       "0      M      John          Casado\n",
       "1      F    Camila         Soltero\n",
       "2      F    Renata      Divorciado\n",
       "3      M      José         Soltero\n",
       "4      F      Alex      Divorciado\n",
       "5      F       Pau         Soltero\n",
       "6      F  Fernanda      Divorciado"
      ]
     },
     "execution_count": 13,
     "metadata": {},
     "output_type": "execute_result"
    }
   ],
   "source": [
    "df = pd.DataFrame(data)\n",
    "df"
   ]
  },
  {
   "cell_type": "code",
   "execution_count": 14,
   "metadata": {},
   "outputs": [
    {
     "name": "stdout",
     "output_type": "stream",
     "text": [
      "Help on method set_index in module pandas.core.frame:\n",
      "\n",
      "set_index(keys, drop: 'bool' = True, append: 'bool' = False, inplace: 'bool' = False, verify_integrity: 'bool' = False) method of pandas.core.frame.DataFrame instance\n",
      "    Set the DataFrame index using existing columns.\n",
      "    \n",
      "    Set the DataFrame index (row labels) using one or more existing\n",
      "    columns or arrays (of the correct length). The index can replace the\n",
      "    existing index or expand on it.\n",
      "    \n",
      "    Parameters\n",
      "    ----------\n",
      "    keys : label or array-like or list of labels/arrays\n",
      "        This parameter can be either a single column key, a single array of\n",
      "        the same length as the calling DataFrame, or a list containing an\n",
      "        arbitrary combination of column keys and arrays. Here, \"array\"\n",
      "        encompasses :class:`Series`, :class:`Index`, ``np.ndarray``, and\n",
      "        instances of :class:`~collections.abc.Iterator`.\n",
      "    drop : bool, default True\n",
      "        Delete columns to be used as the new index.\n",
      "    append : bool, default False\n",
      "        Whether to append columns to existing index.\n",
      "    inplace : bool, default False\n",
      "        If True, modifies the DataFrame in place (do not create a new object).\n",
      "    verify_integrity : bool, default False\n",
      "        Check the new index for duplicates. Otherwise defer the check until\n",
      "        necessary. Setting to False will improve the performance of this\n",
      "        method.\n",
      "    \n",
      "    Returns\n",
      "    -------\n",
      "    DataFrame or None\n",
      "        Changed row labels or None if ``inplace=True``.\n",
      "    \n",
      "    See Also\n",
      "    --------\n",
      "    DataFrame.reset_index : Opposite of set_index.\n",
      "    DataFrame.reindex : Change to new indices or expand indices.\n",
      "    DataFrame.reindex_like : Change to same indices as other DataFrame.\n",
      "    \n",
      "    Examples\n",
      "    --------\n",
      "    >>> df = pd.DataFrame({'month': [1, 4, 7, 10],\n",
      "    ...                    'year': [2012, 2014, 2013, 2014],\n",
      "    ...                    'sale': [55, 40, 84, 31]})\n",
      "    >>> df\n",
      "       month  year  sale\n",
      "    0      1  2012    55\n",
      "    1      4  2014    40\n",
      "    2      7  2013    84\n",
      "    3     10  2014    31\n",
      "    \n",
      "    Set the index to become the 'month' column:\n",
      "    \n",
      "    >>> df.set_index('month')\n",
      "           year  sale\n",
      "    month\n",
      "    1      2012    55\n",
      "    4      2014    40\n",
      "    7      2013    84\n",
      "    10     2014    31\n",
      "    \n",
      "    Create a MultiIndex using columns 'year' and 'month':\n",
      "    \n",
      "    >>> df.set_index(['year', 'month'])\n",
      "                sale\n",
      "    year  month\n",
      "    2012  1     55\n",
      "    2014  4     40\n",
      "    2013  7     84\n",
      "    2014  10    31\n",
      "    \n",
      "    Create a MultiIndex using an Index and a column:\n",
      "    \n",
      "    >>> df.set_index([pd.Index([1, 2, 3, 4]), 'year'])\n",
      "             month  sale\n",
      "       year\n",
      "    1  2012  1      55\n",
      "    2  2014  4      40\n",
      "    3  2013  7      84\n",
      "    4  2014  10     31\n",
      "    \n",
      "    Create a MultiIndex using two Series:\n",
      "    \n",
      "    >>> s = pd.Series([1, 2, 3, 4])\n",
      "    >>> df.set_index([s, s**2])\n",
      "          month  year  sale\n",
      "    1 1       1  2012    55\n",
      "    2 4       4  2014    40\n",
      "    3 9       7  2013    84\n",
      "    4 16     10  2014    31\n",
      "\n"
     ]
    }
   ],
   "source": [
    "help(df.set_index)"
   ]
  },
  {
   "cell_type": "code",
   "execution_count": 15,
   "metadata": {},
   "outputs": [],
   "source": [
    "df.set_index('Nombre', inplace =True)"
   ]
  },
  {
   "cell_type": "code",
   "execution_count": 16,
   "metadata": {},
   "outputs": [
    {
     "data": {
      "text/html": [
       "<div>\n",
       "<style scoped>\n",
       "    .dataframe tbody tr th:only-of-type {\n",
       "        vertical-align: middle;\n",
       "    }\n",
       "\n",
       "    .dataframe tbody tr th {\n",
       "        vertical-align: top;\n",
       "    }\n",
       "\n",
       "    .dataframe thead th {\n",
       "        text-align: right;\n",
       "    }\n",
       "</style>\n",
       "<table border=\"1\" class=\"dataframe\">\n",
       "  <thead>\n",
       "    <tr style=\"text-align: right;\">\n",
       "      <th></th>\n",
       "      <th>Genero</th>\n",
       "      <th>Estatus Marital</th>\n",
       "    </tr>\n",
       "    <tr>\n",
       "      <th>Nombre</th>\n",
       "      <th></th>\n",
       "      <th></th>\n",
       "    </tr>\n",
       "  </thead>\n",
       "  <tbody>\n",
       "    <tr>\n",
       "      <th>John</th>\n",
       "      <td>M</td>\n",
       "      <td>Casado</td>\n",
       "    </tr>\n",
       "    <tr>\n",
       "      <th>Camila</th>\n",
       "      <td>F</td>\n",
       "      <td>Soltero</td>\n",
       "    </tr>\n",
       "    <tr>\n",
       "      <th>Renata</th>\n",
       "      <td>F</td>\n",
       "      <td>Divorciado</td>\n",
       "    </tr>\n",
       "    <tr>\n",
       "      <th>José</th>\n",
       "      <td>M</td>\n",
       "      <td>Soltero</td>\n",
       "    </tr>\n",
       "    <tr>\n",
       "      <th>Alex</th>\n",
       "      <td>F</td>\n",
       "      <td>Divorciado</td>\n",
       "    </tr>\n",
       "    <tr>\n",
       "      <th>Pau</th>\n",
       "      <td>F</td>\n",
       "      <td>Soltero</td>\n",
       "    </tr>\n",
       "    <tr>\n",
       "      <th>Fernanda</th>\n",
       "      <td>F</td>\n",
       "      <td>Divorciado</td>\n",
       "    </tr>\n",
       "  </tbody>\n",
       "</table>\n",
       "</div>"
      ],
      "text/plain": [
       "         Genero Estatus Marital\n",
       "Nombre                         \n",
       "John          M          Casado\n",
       "Camila        F         Soltero\n",
       "Renata        F      Divorciado\n",
       "José          M         Soltero\n",
       "Alex          F      Divorciado\n",
       "Pau           F         Soltero\n",
       "Fernanda      F      Divorciado"
      ]
     },
     "execution_count": 16,
     "metadata": {},
     "output_type": "execute_result"
    }
   ],
   "source": [
    "df"
   ]
  },
  {
   "cell_type": "code",
   "execution_count": 17,
   "metadata": {},
   "outputs": [
    {
     "data": {
      "text/plain": [
       "array(['M', 'F'], dtype=object)"
      ]
     },
     "execution_count": 17,
     "metadata": {},
     "output_type": "execute_result"
    }
   ],
   "source": [
    "df['Genero'].unique()"
   ]
  },
  {
   "cell_type": "code",
   "execution_count": 18,
   "metadata": {},
   "outputs": [
    {
     "data": {
      "text/plain": [
       "array(['Casado', 'Soltero', 'Divorciado'], dtype=object)"
      ]
     },
     "execution_count": 18,
     "metadata": {},
     "output_type": "execute_result"
    }
   ],
   "source": [
    "df['Estatus Marital'].unique()"
   ]
  },
  {
   "cell_type": "code",
   "execution_count": 19,
   "metadata": {},
   "outputs": [
    {
     "data": {
      "text/html": [
       "<div>\n",
       "<style scoped>\n",
       "    .dataframe tbody tr th:only-of-type {\n",
       "        vertical-align: middle;\n",
       "    }\n",
       "\n",
       "    .dataframe tbody tr th {\n",
       "        vertical-align: top;\n",
       "    }\n",
       "\n",
       "    .dataframe thead th {\n",
       "        text-align: right;\n",
       "    }\n",
       "</style>\n",
       "<table border=\"1\" class=\"dataframe\">\n",
       "  <thead>\n",
       "    <tr style=\"text-align: right;\">\n",
       "      <th></th>\n",
       "      <th>Genero_F</th>\n",
       "      <th>Genero_M</th>\n",
       "    </tr>\n",
       "    <tr>\n",
       "      <th>Nombre</th>\n",
       "      <th></th>\n",
       "      <th></th>\n",
       "    </tr>\n",
       "  </thead>\n",
       "  <tbody>\n",
       "    <tr>\n",
       "      <th>John</th>\n",
       "      <td>0</td>\n",
       "      <td>1</td>\n",
       "    </tr>\n",
       "    <tr>\n",
       "      <th>Camila</th>\n",
       "      <td>1</td>\n",
       "      <td>0</td>\n",
       "    </tr>\n",
       "    <tr>\n",
       "      <th>Renata</th>\n",
       "      <td>1</td>\n",
       "      <td>0</td>\n",
       "    </tr>\n",
       "    <tr>\n",
       "      <th>José</th>\n",
       "      <td>0</td>\n",
       "      <td>1</td>\n",
       "    </tr>\n",
       "    <tr>\n",
       "      <th>Alex</th>\n",
       "      <td>1</td>\n",
       "      <td>0</td>\n",
       "    </tr>\n",
       "    <tr>\n",
       "      <th>Pau</th>\n",
       "      <td>1</td>\n",
       "      <td>0</td>\n",
       "    </tr>\n",
       "    <tr>\n",
       "      <th>Fernanda</th>\n",
       "      <td>1</td>\n",
       "      <td>0</td>\n",
       "    </tr>\n",
       "  </tbody>\n",
       "</table>\n",
       "</div>"
      ],
      "text/plain": [
       "          Genero_F  Genero_M\n",
       "Nombre                      \n",
       "John             0         1\n",
       "Camila           1         0\n",
       "Renata           1         0\n",
       "José             0         1\n",
       "Alex             1         0\n",
       "Pau              1         0\n",
       "Fernanda         1         0"
      ]
     },
     "execution_count": 19,
     "metadata": {},
     "output_type": "execute_result"
    }
   ],
   "source": [
    "# Variables auxiliares (dummies) para Genero\n",
    "df_genero = pd.get_dummies(df['Genero'], prefix = 'Genero' )\n",
    "df_genero"
   ]
  },
  {
   "cell_type": "code",
   "execution_count": 20,
   "metadata": {},
   "outputs": [
    {
     "data": {
      "text/html": [
       "<div>\n",
       "<style scoped>\n",
       "    .dataframe tbody tr th:only-of-type {\n",
       "        vertical-align: middle;\n",
       "    }\n",
       "\n",
       "    .dataframe tbody tr th {\n",
       "        vertical-align: top;\n",
       "    }\n",
       "\n",
       "    .dataframe thead th {\n",
       "        text-align: right;\n",
       "    }\n",
       "</style>\n",
       "<table border=\"1\" class=\"dataframe\">\n",
       "  <thead>\n",
       "    <tr style=\"text-align: right;\">\n",
       "      <th></th>\n",
       "      <th>Marital_Casado</th>\n",
       "      <th>Marital_Divorciado</th>\n",
       "      <th>Marital_Soltero</th>\n",
       "    </tr>\n",
       "    <tr>\n",
       "      <th>Nombre</th>\n",
       "      <th></th>\n",
       "      <th></th>\n",
       "      <th></th>\n",
       "    </tr>\n",
       "  </thead>\n",
       "  <tbody>\n",
       "    <tr>\n",
       "      <th>John</th>\n",
       "      <td>1</td>\n",
       "      <td>0</td>\n",
       "      <td>0</td>\n",
       "    </tr>\n",
       "    <tr>\n",
       "      <th>Camila</th>\n",
       "      <td>0</td>\n",
       "      <td>0</td>\n",
       "      <td>1</td>\n",
       "    </tr>\n",
       "    <tr>\n",
       "      <th>Renata</th>\n",
       "      <td>0</td>\n",
       "      <td>1</td>\n",
       "      <td>0</td>\n",
       "    </tr>\n",
       "    <tr>\n",
       "      <th>José</th>\n",
       "      <td>0</td>\n",
       "      <td>0</td>\n",
       "      <td>1</td>\n",
       "    </tr>\n",
       "    <tr>\n",
       "      <th>Alex</th>\n",
       "      <td>0</td>\n",
       "      <td>1</td>\n",
       "      <td>0</td>\n",
       "    </tr>\n",
       "    <tr>\n",
       "      <th>Pau</th>\n",
       "      <td>0</td>\n",
       "      <td>0</td>\n",
       "      <td>1</td>\n",
       "    </tr>\n",
       "    <tr>\n",
       "      <th>Fernanda</th>\n",
       "      <td>0</td>\n",
       "      <td>1</td>\n",
       "      <td>0</td>\n",
       "    </tr>\n",
       "  </tbody>\n",
       "</table>\n",
       "</div>"
      ],
      "text/plain": [
       "          Marital_Casado  Marital_Divorciado  Marital_Soltero\n",
       "Nombre                                                       \n",
       "John                   1                   0                0\n",
       "Camila                 0                   0                1\n",
       "Renata                 0                   1                0\n",
       "José                   0                   0                1\n",
       "Alex                   0                   1                0\n",
       "Pau                    0                   0                1\n",
       "Fernanda               0                   1                0"
      ]
     },
     "execution_count": 20,
     "metadata": {},
     "output_type": "execute_result"
    }
   ],
   "source": [
    "# Variables auxiliares (dummies) para Estatus Marital\n",
    "df_marital = pd.get_dummies(df['Estatus Marital'], prefix = 'Marital' )\n",
    "df_marital"
   ]
  },
  {
   "cell_type": "code",
   "execution_count": 21,
   "metadata": {},
   "outputs": [
    {
     "data": {
      "text/html": [
       "<div>\n",
       "<style scoped>\n",
       "    .dataframe tbody tr th:only-of-type {\n",
       "        vertical-align: middle;\n",
       "    }\n",
       "\n",
       "    .dataframe tbody tr th {\n",
       "        vertical-align: top;\n",
       "    }\n",
       "\n",
       "    .dataframe thead th {\n",
       "        text-align: right;\n",
       "    }\n",
       "</style>\n",
       "<table border=\"1\" class=\"dataframe\">\n",
       "  <thead>\n",
       "    <tr style=\"text-align: right;\">\n",
       "      <th></th>\n",
       "      <th>Genero</th>\n",
       "      <th>Estatus Marital</th>\n",
       "    </tr>\n",
       "    <tr>\n",
       "      <th>Nombre</th>\n",
       "      <th></th>\n",
       "      <th></th>\n",
       "    </tr>\n",
       "  </thead>\n",
       "  <tbody>\n",
       "    <tr>\n",
       "      <th>John</th>\n",
       "      <td>M</td>\n",
       "      <td>Casado</td>\n",
       "    </tr>\n",
       "    <tr>\n",
       "      <th>Camila</th>\n",
       "      <td>F</td>\n",
       "      <td>Soltero</td>\n",
       "    </tr>\n",
       "    <tr>\n",
       "      <th>Renata</th>\n",
       "      <td>F</td>\n",
       "      <td>Divorciado</td>\n",
       "    </tr>\n",
       "    <tr>\n",
       "      <th>José</th>\n",
       "      <td>M</td>\n",
       "      <td>Soltero</td>\n",
       "    </tr>\n",
       "    <tr>\n",
       "      <th>Alex</th>\n",
       "      <td>F</td>\n",
       "      <td>Divorciado</td>\n",
       "    </tr>\n",
       "    <tr>\n",
       "      <th>Pau</th>\n",
       "      <td>F</td>\n",
       "      <td>Soltero</td>\n",
       "    </tr>\n",
       "    <tr>\n",
       "      <th>Fernanda</th>\n",
       "      <td>F</td>\n",
       "      <td>Divorciado</td>\n",
       "    </tr>\n",
       "  </tbody>\n",
       "</table>\n",
       "</div>"
      ],
      "text/plain": [
       "         Genero Estatus Marital\n",
       "Nombre                         \n",
       "John          M          Casado\n",
       "Camila        F         Soltero\n",
       "Renata        F      Divorciado\n",
       "José          M         Soltero\n",
       "Alex          F      Divorciado\n",
       "Pau           F         Soltero\n",
       "Fernanda      F      Divorciado"
      ]
     },
     "execution_count": 21,
     "metadata": {},
     "output_type": "execute_result"
    }
   ],
   "source": [
    "df"
   ]
  },
  {
   "cell_type": "code",
   "execution_count": 22,
   "metadata": {
    "scrolled": true
   },
   "outputs": [
    {
     "data": {
      "text/html": [
       "<div>\n",
       "<style scoped>\n",
       "    .dataframe tbody tr th:only-of-type {\n",
       "        vertical-align: middle;\n",
       "    }\n",
       "\n",
       "    .dataframe tbody tr th {\n",
       "        vertical-align: top;\n",
       "    }\n",
       "\n",
       "    .dataframe thead th {\n",
       "        text-align: right;\n",
       "    }\n",
       "</style>\n",
       "<table border=\"1\" class=\"dataframe\">\n",
       "  <thead>\n",
       "    <tr style=\"text-align: right;\">\n",
       "      <th></th>\n",
       "      <th>Genero_F</th>\n",
       "      <th>Genero_M</th>\n",
       "      <th>Marital_Casado</th>\n",
       "      <th>Marital_Divorciado</th>\n",
       "      <th>Marital_Soltero</th>\n",
       "    </tr>\n",
       "    <tr>\n",
       "      <th>Nombre</th>\n",
       "      <th></th>\n",
       "      <th></th>\n",
       "      <th></th>\n",
       "      <th></th>\n",
       "      <th></th>\n",
       "    </tr>\n",
       "  </thead>\n",
       "  <tbody>\n",
       "    <tr>\n",
       "      <th>John</th>\n",
       "      <td>0</td>\n",
       "      <td>1</td>\n",
       "      <td>1</td>\n",
       "      <td>0</td>\n",
       "      <td>0</td>\n",
       "    </tr>\n",
       "    <tr>\n",
       "      <th>Camila</th>\n",
       "      <td>1</td>\n",
       "      <td>0</td>\n",
       "      <td>0</td>\n",
       "      <td>0</td>\n",
       "      <td>1</td>\n",
       "    </tr>\n",
       "    <tr>\n",
       "      <th>Renata</th>\n",
       "      <td>1</td>\n",
       "      <td>0</td>\n",
       "      <td>0</td>\n",
       "      <td>1</td>\n",
       "      <td>0</td>\n",
       "    </tr>\n",
       "    <tr>\n",
       "      <th>José</th>\n",
       "      <td>0</td>\n",
       "      <td>1</td>\n",
       "      <td>0</td>\n",
       "      <td>0</td>\n",
       "      <td>1</td>\n",
       "    </tr>\n",
       "    <tr>\n",
       "      <th>Alex</th>\n",
       "      <td>1</td>\n",
       "      <td>0</td>\n",
       "      <td>0</td>\n",
       "      <td>1</td>\n",
       "      <td>0</td>\n",
       "    </tr>\n",
       "    <tr>\n",
       "      <th>Pau</th>\n",
       "      <td>1</td>\n",
       "      <td>0</td>\n",
       "      <td>0</td>\n",
       "      <td>0</td>\n",
       "      <td>1</td>\n",
       "    </tr>\n",
       "    <tr>\n",
       "      <th>Fernanda</th>\n",
       "      <td>1</td>\n",
       "      <td>0</td>\n",
       "      <td>0</td>\n",
       "      <td>1</td>\n",
       "      <td>0</td>\n",
       "    </tr>\n",
       "  </tbody>\n",
       "</table>\n",
       "</div>"
      ],
      "text/plain": [
       "          Genero_F  Genero_M  Marital_Casado  Marital_Divorciado  \\\n",
       "Nombre                                                             \n",
       "John             0         1               1                   0   \n",
       "Camila           1         0               0                   0   \n",
       "Renata           1         0               0                   1   \n",
       "José             0         1               0                   0   \n",
       "Alex             1         0               0                   1   \n",
       "Pau              1         0               0                   0   \n",
       "Fernanda         1         0               0                   1   \n",
       "\n",
       "          Marital_Soltero  \n",
       "Nombre                     \n",
       "John                    0  \n",
       "Camila                  1  \n",
       "Renata                  0  \n",
       "José                    1  \n",
       "Alex                    0  \n",
       "Pau                     1  \n",
       "Fernanda                0  "
      ]
     },
     "execution_count": 22,
     "metadata": {},
     "output_type": "execute_result"
    }
   ],
   "source": [
    "df_dummy = df_genero.join(df_marital)\n",
    "df_dummy"
   ]
  },
  {
   "cell_type": "code",
   "execution_count": 23,
   "metadata": {},
   "outputs": [
    {
     "data": {
      "text/plain": [
       "array([0, 1, 1, 0, 0], dtype=uint8)"
      ]
     },
     "execution_count": 23,
     "metadata": {},
     "output_type": "execute_result"
    }
   ],
   "source": [
    "y_i = df_dummy.loc['John'].values\n",
    "y_i\n"
   ]
  },
  {
   "cell_type": "code",
   "execution_count": 24,
   "metadata": {},
   "outputs": [
    {
     "data": {
      "text/plain": [
       "array([0, 1, 1, 0, 0], dtype=uint8)"
      ]
     },
     "execution_count": 24,
     "metadata": {},
     "output_type": "execute_result"
    }
   ],
   "source": [
    "y_j= df_dummy.loc['John'].values\n",
    "y_j"
   ]
  },
  {
   "cell_type": "code",
   "execution_count": 25,
   "metadata": {},
   "outputs": [
    {
     "data": {
      "text/plain": [
       "0.0"
      ]
     },
     "execution_count": 25,
     "metadata": {},
     "output_type": "execute_result"
    }
   ],
   "source": [
    "jaccard(y_i, y_j)"
   ]
  },
  {
   "cell_type": "code",
   "execution_count": 26,
   "metadata": {},
   "outputs": [
    {
     "data": {
      "text/plain": [
       "['John', 'Camila', 'Renata', 'José', 'Alex', 'Pau', 'Fernanda']"
      ]
     },
     "execution_count": 26,
     "metadata": {},
     "output_type": "execute_result"
    }
   ],
   "source": [
    "df_dummy.index.to_list()"
   ]
  },
  {
   "cell_type": "code",
   "execution_count": 27,
   "metadata": {},
   "outputs": [],
   "source": [
    "#Obtención de la similitud de todo el conjunto de datos (lista)\n",
    "similaridad_df = []\n",
    "for i_ind in df_dummy.index.to_list():\n",
    "    for j_ind in df_dummy.index.to_list():\n",
    "        y_i = df_dummy.loc[i_ind].values\n",
    "        y_j= df_dummy.loc[j_ind].values\n",
    "        \n",
    "        similaridad_df.append(jaccard(y_i, y_j))\n",
    "        "
   ]
  },
  {
   "cell_type": "code",
   "execution_count": 28,
   "metadata": {},
   "outputs": [],
   "source": [
    "similaridad_array = np.array(similaridad_df)\n",
    "similaridad_array = similaridad_array.reshape(7,7)"
   ]
  },
  {
   "cell_type": "code",
   "execution_count": 29,
   "metadata": {},
   "outputs": [
    {
     "data": {
      "text/plain": [
       "49"
      ]
     },
     "execution_count": 29,
     "metadata": {},
     "output_type": "execute_result"
    }
   ],
   "source": [
    "len(similaridad_df)"
   ]
  },
  {
   "cell_type": "code",
   "execution_count": 30,
   "metadata": {},
   "outputs": [
    {
     "data": {
      "text/html": [
       "<div>\n",
       "<style scoped>\n",
       "    .dataframe tbody tr th:only-of-type {\n",
       "        vertical-align: middle;\n",
       "    }\n",
       "\n",
       "    .dataframe tbody tr th {\n",
       "        vertical-align: top;\n",
       "    }\n",
       "\n",
       "    .dataframe thead th {\n",
       "        text-align: right;\n",
       "    }\n",
       "</style>\n",
       "<table border=\"1\" class=\"dataframe\">\n",
       "  <thead>\n",
       "    <tr style=\"text-align: right;\">\n",
       "      <th></th>\n",
       "      <th>John</th>\n",
       "      <th>Camila</th>\n",
       "      <th>Renata</th>\n",
       "      <th>José</th>\n",
       "      <th>Alex</th>\n",
       "      <th>Pau</th>\n",
       "      <th>Fernanda</th>\n",
       "    </tr>\n",
       "  </thead>\n",
       "  <tbody>\n",
       "    <tr>\n",
       "      <th>John</th>\n",
       "      <td>NaN</td>\n",
       "      <td>NaN</td>\n",
       "      <td>NaN</td>\n",
       "      <td>NaN</td>\n",
       "      <td>NaN</td>\n",
       "      <td>NaN</td>\n",
       "      <td>NaN</td>\n",
       "    </tr>\n",
       "    <tr>\n",
       "      <th>Camila</th>\n",
       "      <td>NaN</td>\n",
       "      <td>NaN</td>\n",
       "      <td>NaN</td>\n",
       "      <td>NaN</td>\n",
       "      <td>NaN</td>\n",
       "      <td>NaN</td>\n",
       "      <td>NaN</td>\n",
       "    </tr>\n",
       "    <tr>\n",
       "      <th>Renata</th>\n",
       "      <td>NaN</td>\n",
       "      <td>NaN</td>\n",
       "      <td>NaN</td>\n",
       "      <td>NaN</td>\n",
       "      <td>NaN</td>\n",
       "      <td>NaN</td>\n",
       "      <td>NaN</td>\n",
       "    </tr>\n",
       "    <tr>\n",
       "      <th>José</th>\n",
       "      <td>NaN</td>\n",
       "      <td>NaN</td>\n",
       "      <td>NaN</td>\n",
       "      <td>NaN</td>\n",
       "      <td>NaN</td>\n",
       "      <td>NaN</td>\n",
       "      <td>NaN</td>\n",
       "    </tr>\n",
       "    <tr>\n",
       "      <th>Alex</th>\n",
       "      <td>NaN</td>\n",
       "      <td>NaN</td>\n",
       "      <td>NaN</td>\n",
       "      <td>NaN</td>\n",
       "      <td>NaN</td>\n",
       "      <td>NaN</td>\n",
       "      <td>NaN</td>\n",
       "    </tr>\n",
       "    <tr>\n",
       "      <th>Pau</th>\n",
       "      <td>NaN</td>\n",
       "      <td>NaN</td>\n",
       "      <td>NaN</td>\n",
       "      <td>NaN</td>\n",
       "      <td>NaN</td>\n",
       "      <td>NaN</td>\n",
       "      <td>NaN</td>\n",
       "    </tr>\n",
       "    <tr>\n",
       "      <th>Fernanda</th>\n",
       "      <td>NaN</td>\n",
       "      <td>NaN</td>\n",
       "      <td>NaN</td>\n",
       "      <td>NaN</td>\n",
       "      <td>NaN</td>\n",
       "      <td>NaN</td>\n",
       "      <td>NaN</td>\n",
       "    </tr>\n",
       "  </tbody>\n",
       "</table>\n",
       "</div>"
      ],
      "text/plain": [
       "         John Camila Renata José Alex  Pau Fernanda\n",
       "John      NaN    NaN    NaN  NaN  NaN  NaN      NaN\n",
       "Camila    NaN    NaN    NaN  NaN  NaN  NaN      NaN\n",
       "Renata    NaN    NaN    NaN  NaN  NaN  NaN      NaN\n",
       "José      NaN    NaN    NaN  NaN  NaN  NaN      NaN\n",
       "Alex      NaN    NaN    NaN  NaN  NaN  NaN      NaN\n",
       "Pau       NaN    NaN    NaN  NaN  NaN  NaN      NaN\n",
       "Fernanda  NaN    NaN    NaN  NaN  NaN  NaN      NaN"
      ]
     },
     "execution_count": 30,
     "metadata": {},
     "output_type": "execute_result"
    }
   ],
   "source": [
    "similaridad_df = pd.DataFrame(index = df_dummy.index.to_list(), columns=df_dummy.index.to_list())\n",
    "similaridad_df"
   ]
  },
  {
   "cell_type": "code",
   "execution_count": 31,
   "metadata": {},
   "outputs": [],
   "source": [
    "def emp_simple(yi,yj):\n",
    "    \n",
    "    mc = confusion_matrix(yi,yj)\n",
    "    d = mc[0,0]\n",
    "    c = mc[0,1]\n",
    "    b = mc[1,0]\n",
    "    a = mc[1,1]\n",
    "    \n",
    "  \n",
    "    return (a+d)/(a+b+c+d)"
   ]
  },
  {
   "cell_type": "code",
   "execution_count": 32,
   "metadata": {},
   "outputs": [],
   "source": [
    "def emp_jaccard(yi,yj):\n",
    "    \n",
    "    mc = confusion_matrix(yi,yj)\n",
    "    d = mc[0,0]\n",
    "    c = mc[0,1]\n",
    "    b = mc[1,0]\n",
    "    a = mc[1,1]\n",
    "    \n",
    "  \n",
    "    return (b+c)/(a+b+c)"
   ]
  },
  {
   "cell_type": "code",
   "execution_count": 33,
   "metadata": {},
   "outputs": [
    {
     "data": {
      "text/plain": [
       "array([1, 0, 0, 1, 0], dtype=uint8)"
      ]
     },
     "execution_count": 33,
     "metadata": {},
     "output_type": "execute_result"
    }
   ],
   "source": [
    "y_i"
   ]
  },
  {
   "cell_type": "code",
   "execution_count": 34,
   "metadata": {},
   "outputs": [
    {
     "data": {
      "text/plain": [
       "array([1, 0, 0, 1, 0], dtype=uint8)"
      ]
     },
     "execution_count": 34,
     "metadata": {},
     "output_type": "execute_result"
    }
   ],
   "source": [
    "y_j"
   ]
  },
  {
   "cell_type": "code",
   "execution_count": 35,
   "metadata": {},
   "outputs": [
    {
     "data": {
      "text/plain": [
       "1.0"
      ]
     },
     "execution_count": 35,
     "metadata": {},
     "output_type": "execute_result"
    }
   ],
   "source": [
    "emp_simple(y_i,y_j)"
   ]
  },
  {
   "cell_type": "code",
   "execution_count": 36,
   "metadata": {},
   "outputs": [
    {
     "data": {
      "text/plain": [
       "0.0"
      ]
     },
     "execution_count": 36,
     "metadata": {},
     "output_type": "execute_result"
    }
   ],
   "source": [
    "emp_jaccard(y_i,y_j)"
   ]
  },
  {
   "cell_type": "code",
   "execution_count": 37,
   "metadata": {},
   "outputs": [],
   "source": [
    "similaridad_df = pd.DataFrame(index = df_dummy.index.to_list(), columns=df_dummy.index.to_list(), dtype=float)\n",
    "for i_ind in df_dummy.index.to_list():\n",
    "    for j_ind in df_dummy.index.to_list():\n",
    "        y_i = df_dummy.loc[i_ind].values\n",
    "        y_j= df_dummy.loc[j_ind].values\n",
    "\n",
    "        #similaridad_df.loc[i_ind,j_ind]=emp_jaccard(y_i, y_j)\n",
    "        similaridad_df.loc[i_ind,j_ind]=emp_simple(y_i, y_j).astype(float)\n",
    "        \n",
    "        "
   ]
  },
  {
   "cell_type": "code",
   "execution_count": 38,
   "metadata": {},
   "outputs": [
    {
     "data": {
      "text/html": [
       "<div>\n",
       "<style scoped>\n",
       "    .dataframe tbody tr th:only-of-type {\n",
       "        vertical-align: middle;\n",
       "    }\n",
       "\n",
       "    .dataframe tbody tr th {\n",
       "        vertical-align: top;\n",
       "    }\n",
       "\n",
       "    .dataframe thead th {\n",
       "        text-align: right;\n",
       "    }\n",
       "</style>\n",
       "<table border=\"1\" class=\"dataframe\">\n",
       "  <thead>\n",
       "    <tr style=\"text-align: right;\">\n",
       "      <th></th>\n",
       "      <th>John</th>\n",
       "      <th>Camila</th>\n",
       "      <th>Renata</th>\n",
       "      <th>José</th>\n",
       "      <th>Alex</th>\n",
       "      <th>Pau</th>\n",
       "      <th>Fernanda</th>\n",
       "    </tr>\n",
       "  </thead>\n",
       "  <tbody>\n",
       "    <tr>\n",
       "      <th>John</th>\n",
       "      <td>1.0</td>\n",
       "      <td>0.2</td>\n",
       "      <td>0.2</td>\n",
       "      <td>0.6</td>\n",
       "      <td>0.2</td>\n",
       "      <td>0.2</td>\n",
       "      <td>0.2</td>\n",
       "    </tr>\n",
       "    <tr>\n",
       "      <th>Camila</th>\n",
       "      <td>0.2</td>\n",
       "      <td>1.0</td>\n",
       "      <td>0.6</td>\n",
       "      <td>0.6</td>\n",
       "      <td>0.6</td>\n",
       "      <td>1.0</td>\n",
       "      <td>0.6</td>\n",
       "    </tr>\n",
       "    <tr>\n",
       "      <th>Renata</th>\n",
       "      <td>0.2</td>\n",
       "      <td>0.6</td>\n",
       "      <td>1.0</td>\n",
       "      <td>0.2</td>\n",
       "      <td>1.0</td>\n",
       "      <td>0.6</td>\n",
       "      <td>1.0</td>\n",
       "    </tr>\n",
       "    <tr>\n",
       "      <th>José</th>\n",
       "      <td>0.6</td>\n",
       "      <td>0.6</td>\n",
       "      <td>0.2</td>\n",
       "      <td>1.0</td>\n",
       "      <td>0.2</td>\n",
       "      <td>0.6</td>\n",
       "      <td>0.2</td>\n",
       "    </tr>\n",
       "    <tr>\n",
       "      <th>Alex</th>\n",
       "      <td>0.2</td>\n",
       "      <td>0.6</td>\n",
       "      <td>1.0</td>\n",
       "      <td>0.2</td>\n",
       "      <td>1.0</td>\n",
       "      <td>0.6</td>\n",
       "      <td>1.0</td>\n",
       "    </tr>\n",
       "    <tr>\n",
       "      <th>Pau</th>\n",
       "      <td>0.2</td>\n",
       "      <td>1.0</td>\n",
       "      <td>0.6</td>\n",
       "      <td>0.6</td>\n",
       "      <td>0.6</td>\n",
       "      <td>1.0</td>\n",
       "      <td>0.6</td>\n",
       "    </tr>\n",
       "    <tr>\n",
       "      <th>Fernanda</th>\n",
       "      <td>0.2</td>\n",
       "      <td>0.6</td>\n",
       "      <td>1.0</td>\n",
       "      <td>0.2</td>\n",
       "      <td>1.0</td>\n",
       "      <td>0.6</td>\n",
       "      <td>1.0</td>\n",
       "    </tr>\n",
       "  </tbody>\n",
       "</table>\n",
       "</div>"
      ],
      "text/plain": [
       "          John  Camila  Renata  José  Alex  Pau  Fernanda\n",
       "John       1.0     0.2     0.2   0.6   0.2  0.2       0.2\n",
       "Camila     0.2     1.0     0.6   0.6   0.6  1.0       0.6\n",
       "Renata     0.2     0.6     1.0   0.2   1.0  0.6       1.0\n",
       "José       0.6     0.6     0.2   1.0   0.2  0.6       0.2\n",
       "Alex       0.2     0.6     1.0   0.2   1.0  0.6       1.0\n",
       "Pau        0.2     1.0     0.6   0.6   0.6  1.0       0.6\n",
       "Fernanda   0.2     0.6     1.0   0.2   1.0  0.6       1.0"
      ]
     },
     "execution_count": 38,
     "metadata": {},
     "output_type": "execute_result"
    }
   ],
   "source": [
    "similaridad_df"
   ]
  },
  {
   "cell_type": "code",
   "execution_count": 39,
   "metadata": {},
   "outputs": [
    {
     "data": {
      "text/plain": [
       "array([[1. , 0.2, 0.2, 0.6, 0.2, 0.2, 0.2],\n",
       "       [0.2, 1. , 0.6, 0.6, 0.6, 1. , 0.6],\n",
       "       [0.2, 0.6, 1. , 0.2, 1. , 0.6, 1. ],\n",
       "       [0.6, 0.6, 0.2, 1. , 0.2, 0.6, 0.2],\n",
       "       [0.2, 0.6, 1. , 0.2, 1. , 0.6, 1. ],\n",
       "       [0.2, 1. , 0.6, 0.6, 0.6, 1. , 0.6],\n",
       "       [0.2, 0.6, 1. , 0.2, 1. , 0.6, 1. ]])"
      ]
     },
     "execution_count": 39,
     "metadata": {},
     "output_type": "execute_result"
    }
   ],
   "source": [
    "similaridad_df.values"
   ]
  },
  {
   "cell_type": "code",
   "execution_count": 40,
   "metadata": {},
   "outputs": [],
   "source": [
    "import seaborn as sns\n",
    "from matplotlib import pyplot as plt"
   ]
  },
  {
   "cell_type": "code",
   "execution_count": 41,
   "metadata": {},
   "outputs": [
    {
     "data": {
      "image/png": "[encoded data removed]",
      "text/plain": [
       "<Figure size 432x288 with 2 Axes>"
      ]
     },
     "metadata": {
      "needs_background": "light"
     },
     "output_type": "display_data"
    }
   ],
   "source": [
    "sns.heatmap(similaridad_df, annot=True, linewidth=.5,  cmap=\"crest\");"
   ]
  },
  {
   "cell_type": "markdown",
   "metadata": {},
   "source": [
    "## Similitud en Datos Multi Estado Ordinales \n"
   ]
  },
  {
   "cell_type": "markdown",
   "metadata": {},
   "source": [
    "Las variables ordinales pueden considerarse como variables cuantitativas si la asignación del ranking refleja en cierta forma una diferencia entre los estados de la variable. Por\n",
    "ejemplo, si se considera la resistencia al fuego de un conjunto de muestras usando las categorías:\n",
    "`muy baja`, `baja`, `media`, `alta` y `muy alta`; puede ser razonable asignarle valores: 0, 1, 2, 3, 4,\n",
    "respectivamente ya que las categorías consecutivas pueden considerarse como equidistantes. De\n",
    "esta manera, la nueva variable numérica podría ser tratada como una variable cuantitativa. "
   ]
  },
  {
   "cell_type": "code",
   "execution_count": 42,
   "metadata": {},
   "outputs": [
    {
     "data": {
      "text/plain": [
       "{'Genero': ['M', 'F', 'F', 'M', 'F', 'F', 'F'],\n",
       " 'Nombre': ['John', 'Camila', 'Renata', 'José', 'Alex', 'Pau', 'Fernanda'],\n",
       " 'Estatus Marital': ['Casado',\n",
       "  'Soltero',\n",
       "  'Divorciado',\n",
       "  'Soltero',\n",
       "  'Divorciado',\n",
       "  'Soltero',\n",
       "  'Divorciado'],\n",
       " 'Educación': ['Primaria',\n",
       "  'Terciaria',\n",
       "  'Primaria',\n",
       "  'Secundaria',\n",
       "  'Terciaria',\n",
       "  'Secundaria',\n",
       "  'Primaria']}"
      ]
     },
     "execution_count": 42,
     "metadata": {},
     "output_type": "execute_result"
    }
   ],
   "source": [
    "data = {'Genero':['M','F','F','M','F','F','F'],\n",
    "       'Nombre' : ['John', 'Camila', 'Renata', 'José', 'Alex', 'Pau', 'Fernanda'],\n",
    "       'Estatus Marital': ['Casado','Soltero','Divorciado', 'Soltero','Divorciado','Soltero','Divorciado'],\n",
    "       'Educación':['Primaria', 'Terciaria','Primaria','Secundaria','Terciaria','Secundaria','Primaria'] }\n",
    "data"
   ]
  },
  {
   "cell_type": "code",
   "execution_count": 43,
   "metadata": {},
   "outputs": [
    {
     "data": {
      "text/html": [
       "<div>\n",
       "<style scoped>\n",
       "    .dataframe tbody tr th:only-of-type {\n",
       "        vertical-align: middle;\n",
       "    }\n",
       "\n",
       "    .dataframe tbody tr th {\n",
       "        vertical-align: top;\n",
       "    }\n",
       "\n",
       "    .dataframe thead th {\n",
       "        text-align: right;\n",
       "    }\n",
       "</style>\n",
       "<table border=\"1\" class=\"dataframe\">\n",
       "  <thead>\n",
       "    <tr style=\"text-align: right;\">\n",
       "      <th></th>\n",
       "      <th>Genero</th>\n",
       "      <th>Nombre</th>\n",
       "      <th>Estatus Marital</th>\n",
       "      <th>Educación</th>\n",
       "    </tr>\n",
       "  </thead>\n",
       "  <tbody>\n",
       "    <tr>\n",
       "      <th>0</th>\n",
       "      <td>M</td>\n",
       "      <td>John</td>\n",
       "      <td>Casado</td>\n",
       "      <td>Primaria</td>\n",
       "    </tr>\n",
       "    <tr>\n",
       "      <th>1</th>\n",
       "      <td>F</td>\n",
       "      <td>Camila</td>\n",
       "      <td>Soltero</td>\n",
       "      <td>Terciaria</td>\n",
       "    </tr>\n",
       "    <tr>\n",
       "      <th>2</th>\n",
       "      <td>F</td>\n",
       "      <td>Renata</td>\n",
       "      <td>Divorciado</td>\n",
       "      <td>Primaria</td>\n",
       "    </tr>\n",
       "    <tr>\n",
       "      <th>3</th>\n",
       "      <td>M</td>\n",
       "      <td>José</td>\n",
       "      <td>Soltero</td>\n",
       "      <td>Secundaria</td>\n",
       "    </tr>\n",
       "    <tr>\n",
       "      <th>4</th>\n",
       "      <td>F</td>\n",
       "      <td>Alex</td>\n",
       "      <td>Divorciado</td>\n",
       "      <td>Terciaria</td>\n",
       "    </tr>\n",
       "    <tr>\n",
       "      <th>5</th>\n",
       "      <td>F</td>\n",
       "      <td>Pau</td>\n",
       "      <td>Soltero</td>\n",
       "      <td>Secundaria</td>\n",
       "    </tr>\n",
       "    <tr>\n",
       "      <th>6</th>\n",
       "      <td>F</td>\n",
       "      <td>Fernanda</td>\n",
       "      <td>Divorciado</td>\n",
       "      <td>Primaria</td>\n",
       "    </tr>\n",
       "  </tbody>\n",
       "</table>\n",
       "</div>"
      ],
      "text/plain": [
       "  Genero    Nombre Estatus Marital   Educación\n",
       "0      M      John          Casado    Primaria\n",
       "1      F    Camila         Soltero   Terciaria\n",
       "2      F    Renata      Divorciado    Primaria\n",
       "3      M      José         Soltero  Secundaria\n",
       "4      F      Alex      Divorciado   Terciaria\n",
       "5      F       Pau         Soltero  Secundaria\n",
       "6      F  Fernanda      Divorciado    Primaria"
      ]
     },
     "execution_count": 43,
     "metadata": {},
     "output_type": "execute_result"
    }
   ],
   "source": [
    "df_data = pd.DataFrame(data)\n",
    "df_data"
   ]
  },
  {
   "cell_type": "code",
   "execution_count": 44,
   "metadata": {},
   "outputs": [
    {
     "data": {
      "text/html": [
       "<div>\n",
       "<style scoped>\n",
       "    .dataframe tbody tr th:only-of-type {\n",
       "        vertical-align: middle;\n",
       "    }\n",
       "\n",
       "    .dataframe tbody tr th {\n",
       "        vertical-align: top;\n",
       "    }\n",
       "\n",
       "    .dataframe thead th {\n",
       "        text-align: right;\n",
       "    }\n",
       "</style>\n",
       "<table border=\"1\" class=\"dataframe\">\n",
       "  <thead>\n",
       "    <tr style=\"text-align: right;\">\n",
       "      <th></th>\n",
       "      <th>Genero</th>\n",
       "      <th>Estatus Marital</th>\n",
       "      <th>Educación</th>\n",
       "    </tr>\n",
       "    <tr>\n",
       "      <th>Nombre</th>\n",
       "      <th></th>\n",
       "      <th></th>\n",
       "      <th></th>\n",
       "    </tr>\n",
       "  </thead>\n",
       "  <tbody>\n",
       "    <tr>\n",
       "      <th>John</th>\n",
       "      <td>M</td>\n",
       "      <td>Casado</td>\n",
       "      <td>Primaria</td>\n",
       "    </tr>\n",
       "    <tr>\n",
       "      <th>Camila</th>\n",
       "      <td>F</td>\n",
       "      <td>Soltero</td>\n",
       "      <td>Terciaria</td>\n",
       "    </tr>\n",
       "    <tr>\n",
       "      <th>Renata</th>\n",
       "      <td>F</td>\n",
       "      <td>Divorciado</td>\n",
       "      <td>Primaria</td>\n",
       "    </tr>\n",
       "    <tr>\n",
       "      <th>José</th>\n",
       "      <td>M</td>\n",
       "      <td>Soltero</td>\n",
       "      <td>Secundaria</td>\n",
       "    </tr>\n",
       "    <tr>\n",
       "      <th>Alex</th>\n",
       "      <td>F</td>\n",
       "      <td>Divorciado</td>\n",
       "      <td>Terciaria</td>\n",
       "    </tr>\n",
       "    <tr>\n",
       "      <th>Pau</th>\n",
       "      <td>F</td>\n",
       "      <td>Soltero</td>\n",
       "      <td>Secundaria</td>\n",
       "    </tr>\n",
       "    <tr>\n",
       "      <th>Fernanda</th>\n",
       "      <td>F</td>\n",
       "      <td>Divorciado</td>\n",
       "      <td>Primaria</td>\n",
       "    </tr>\n",
       "  </tbody>\n",
       "</table>\n",
       "</div>"
      ],
      "text/plain": [
       "         Genero Estatus Marital   Educación\n",
       "Nombre                                     \n",
       "John          M          Casado    Primaria\n",
       "Camila        F         Soltero   Terciaria\n",
       "Renata        F      Divorciado    Primaria\n",
       "José          M         Soltero  Secundaria\n",
       "Alex          F      Divorciado   Terciaria\n",
       "Pau           F         Soltero  Secundaria\n",
       "Fernanda      F      Divorciado    Primaria"
      ]
     },
     "execution_count": 44,
     "metadata": {},
     "output_type": "execute_result"
    }
   ],
   "source": [
    "df_data.set_index('Nombre', inplace =True)\n",
    "df_data"
   ]
  },
  {
   "cell_type": "code",
   "execution_count": 45,
   "metadata": {},
   "outputs": [
    {
     "data": {
      "text/html": [
       "<div>\n",
       "<style scoped>\n",
       "    .dataframe tbody tr th:only-of-type {\n",
       "        vertical-align: middle;\n",
       "    }\n",
       "\n",
       "    .dataframe tbody tr th {\n",
       "        vertical-align: top;\n",
       "    }\n",
       "\n",
       "    .dataframe thead th {\n",
       "        text-align: right;\n",
       "    }\n",
       "</style>\n",
       "<table border=\"1\" class=\"dataframe\">\n",
       "  <thead>\n",
       "    <tr style=\"text-align: right;\">\n",
       "      <th></th>\n",
       "      <th>Educación</th>\n",
       "    </tr>\n",
       "    <tr>\n",
       "      <th>Nombre</th>\n",
       "      <th></th>\n",
       "    </tr>\n",
       "  </thead>\n",
       "  <tbody>\n",
       "    <tr>\n",
       "      <th>John</th>\n",
       "      <td>Primaria</td>\n",
       "    </tr>\n",
       "    <tr>\n",
       "      <th>Camila</th>\n",
       "      <td>Terciaria</td>\n",
       "    </tr>\n",
       "    <tr>\n",
       "      <th>Renata</th>\n",
       "      <td>Primaria</td>\n",
       "    </tr>\n",
       "    <tr>\n",
       "      <th>José</th>\n",
       "      <td>Secundaria</td>\n",
       "    </tr>\n",
       "    <tr>\n",
       "      <th>Alex</th>\n",
       "      <td>Terciaria</td>\n",
       "    </tr>\n",
       "    <tr>\n",
       "      <th>Pau</th>\n",
       "      <td>Secundaria</td>\n",
       "    </tr>\n",
       "    <tr>\n",
       "      <th>Fernanda</th>\n",
       "      <td>Primaria</td>\n",
       "    </tr>\n",
       "  </tbody>\n",
       "</table>\n",
       "</div>"
      ],
      "text/plain": [
       "           Educación\n",
       "Nombre              \n",
       "John        Primaria\n",
       "Camila     Terciaria\n",
       "Renata      Primaria\n",
       "José      Secundaria\n",
       "Alex       Terciaria\n",
       "Pau       Secundaria\n",
       "Fernanda    Primaria"
      ]
     },
     "execution_count": 45,
     "metadata": {},
     "output_type": "execute_result"
    }
   ],
   "source": [
    "df_edu = df_data[['Educación']]\n",
    "df_edu"
   ]
  },
  {
   "cell_type": "code",
   "execution_count": 46,
   "metadata": {},
   "outputs": [
    {
     "name": "stdout",
     "output_type": "stream",
     "text": [
      "<class 'pandas.core.frame.DataFrame'>\n",
      "Index: 7 entries, John to Fernanda\n",
      "Data columns (total 1 columns):\n",
      " #   Column     Non-Null Count  Dtype \n",
      "---  ------     --------------  ----- \n",
      " 0   Educación  7 non-null      object\n",
      "dtypes: object(1)\n",
      "memory usage: 112.0+ bytes\n"
     ]
    }
   ],
   "source": [
    "df_edu.info()"
   ]
  },
  {
   "cell_type": "code",
   "execution_count": 47,
   "metadata": {},
   "outputs": [
    {
     "data": {
      "text/html": [
       "<div>\n",
       "<style scoped>\n",
       "    .dataframe tbody tr th:only-of-type {\n",
       "        vertical-align: middle;\n",
       "    }\n",
       "\n",
       "    .dataframe tbody tr th {\n",
       "        vertical-align: top;\n",
       "    }\n",
       "\n",
       "    .dataframe thead th {\n",
       "        text-align: right;\n",
       "    }\n",
       "</style>\n",
       "<table border=\"1\" class=\"dataframe\">\n",
       "  <thead>\n",
       "    <tr style=\"text-align: right;\">\n",
       "      <th></th>\n",
       "      <th>Educación</th>\n",
       "    </tr>\n",
       "    <tr>\n",
       "      <th>Nombre</th>\n",
       "      <th></th>\n",
       "    </tr>\n",
       "  </thead>\n",
       "  <tbody>\n",
       "    <tr>\n",
       "      <th>John</th>\n",
       "      <td>Primaria</td>\n",
       "    </tr>\n",
       "    <tr>\n",
       "      <th>Camila</th>\n",
       "      <td>Terciaria</td>\n",
       "    </tr>\n",
       "    <tr>\n",
       "      <th>Renata</th>\n",
       "      <td>Primaria</td>\n",
       "    </tr>\n",
       "    <tr>\n",
       "      <th>José</th>\n",
       "      <td>Secundaria</td>\n",
       "    </tr>\n",
       "    <tr>\n",
       "      <th>Alex</th>\n",
       "      <td>Terciaria</td>\n",
       "    </tr>\n",
       "    <tr>\n",
       "      <th>Pau</th>\n",
       "      <td>Secundaria</td>\n",
       "    </tr>\n",
       "    <tr>\n",
       "      <th>Fernanda</th>\n",
       "      <td>Primaria</td>\n",
       "    </tr>\n",
       "  </tbody>\n",
       "</table>\n",
       "</div>"
      ],
      "text/plain": [
       "           Educación\n",
       "Nombre              \n",
       "John        Primaria\n",
       "Camila     Terciaria\n",
       "Renata      Primaria\n",
       "José      Secundaria\n",
       "Alex       Terciaria\n",
       "Pau       Secundaria\n",
       "Fernanda    Primaria"
      ]
     },
     "execution_count": 47,
     "metadata": {},
     "output_type": "execute_result"
    }
   ],
   "source": [
    "df_edu = df_edu.astype('category')\n",
    "df_edu"
   ]
  },
  {
   "cell_type": "code",
   "execution_count": 48,
   "metadata": {},
   "outputs": [
    {
     "name": "stdout",
     "output_type": "stream",
     "text": [
      "<class 'pandas.core.frame.DataFrame'>\n",
      "Index: 7 entries, John to Fernanda\n",
      "Data columns (total 1 columns):\n",
      " #   Column     Non-Null Count  Dtype   \n",
      "---  ------     --------------  -----   \n",
      " 0   Educación  7 non-null      category\n",
      "dtypes: category(1)\n",
      "memory usage: 195.0+ bytes\n"
     ]
    }
   ],
   "source": [
    "df_edu.info()"
   ]
  },
  {
   "cell_type": "code",
   "execution_count": 49,
   "metadata": {},
   "outputs": [
    {
     "data": {
      "text/plain": [
       "Nombre\n",
       "John        0\n",
       "Camila      2\n",
       "Renata      0\n",
       "José        1\n",
       "Alex        2\n",
       "Pau         1\n",
       "Fernanda    0\n",
       "dtype: int8"
      ]
     },
     "execution_count": 49,
     "metadata": {},
     "output_type": "execute_result"
    }
   ],
   "source": [
    "df_edu['Educación'].cat.codes"
   ]
  },
  {
   "cell_type": "code",
   "execution_count": 50,
   "metadata": {},
   "outputs": [
    {
     "data": {
      "text/html": [
       "<div>\n",
       "<style scoped>\n",
       "    .dataframe tbody tr th:only-of-type {\n",
       "        vertical-align: middle;\n",
       "    }\n",
       "\n",
       "    .dataframe tbody tr th {\n",
       "        vertical-align: top;\n",
       "    }\n",
       "\n",
       "    .dataframe thead th {\n",
       "        text-align: right;\n",
       "    }\n",
       "</style>\n",
       "<table border=\"1\" class=\"dataframe\">\n",
       "  <thead>\n",
       "    <tr style=\"text-align: right;\">\n",
       "      <th></th>\n",
       "      <th>Educación</th>\n",
       "      <th>Educación_codes</th>\n",
       "    </tr>\n",
       "    <tr>\n",
       "      <th>Nombre</th>\n",
       "      <th></th>\n",
       "      <th></th>\n",
       "    </tr>\n",
       "  </thead>\n",
       "  <tbody>\n",
       "    <tr>\n",
       "      <th>John</th>\n",
       "      <td>Primaria</td>\n",
       "      <td>0</td>\n",
       "    </tr>\n",
       "    <tr>\n",
       "      <th>Camila</th>\n",
       "      <td>Terciaria</td>\n",
       "      <td>2</td>\n",
       "    </tr>\n",
       "    <tr>\n",
       "      <th>Renata</th>\n",
       "      <td>Primaria</td>\n",
       "      <td>0</td>\n",
       "    </tr>\n",
       "    <tr>\n",
       "      <th>José</th>\n",
       "      <td>Secundaria</td>\n",
       "      <td>1</td>\n",
       "    </tr>\n",
       "    <tr>\n",
       "      <th>Alex</th>\n",
       "      <td>Terciaria</td>\n",
       "      <td>2</td>\n",
       "    </tr>\n",
       "    <tr>\n",
       "      <th>Pau</th>\n",
       "      <td>Secundaria</td>\n",
       "      <td>1</td>\n",
       "    </tr>\n",
       "    <tr>\n",
       "      <th>Fernanda</th>\n",
       "      <td>Primaria</td>\n",
       "      <td>0</td>\n",
       "    </tr>\n",
       "  </tbody>\n",
       "</table>\n",
       "</div>"
      ],
      "text/plain": [
       "           Educación  Educación_codes\n",
       "Nombre                               \n",
       "John        Primaria                0\n",
       "Camila     Terciaria                2\n",
       "Renata      Primaria                0\n",
       "José      Secundaria                1\n",
       "Alex       Terciaria                2\n",
       "Pau       Secundaria                1\n",
       "Fernanda    Primaria                0"
      ]
     },
     "execution_count": 50,
     "metadata": {},
     "output_type": "execute_result"
    }
   ],
   "source": [
    "df_edu['Educación_codes'] = df_edu['Educación'].cat.codes\n",
    "df_edu"
   ]
  },
  {
   "cell_type": "code",
   "execution_count": 51,
   "metadata": {},
   "outputs": [
    {
     "data": {
      "text/html": [
       "<div>\n",
       "<style scoped>\n",
       "    .dataframe tbody tr th:only-of-type {\n",
       "        vertical-align: middle;\n",
       "    }\n",
       "\n",
       "    .dataframe tbody tr th {\n",
       "        vertical-align: top;\n",
       "    }\n",
       "\n",
       "    .dataframe thead th {\n",
       "        text-align: right;\n",
       "    }\n",
       "</style>\n",
       "<table border=\"1\" class=\"dataframe\">\n",
       "  <thead>\n",
       "    <tr style=\"text-align: right;\">\n",
       "      <th></th>\n",
       "      <th>Genero_F</th>\n",
       "      <th>Genero_M</th>\n",
       "      <th>Marital_Casado</th>\n",
       "      <th>Marital_Divorciado</th>\n",
       "      <th>Marital_Soltero</th>\n",
       "    </tr>\n",
       "    <tr>\n",
       "      <th>Nombre</th>\n",
       "      <th></th>\n",
       "      <th></th>\n",
       "      <th></th>\n",
       "      <th></th>\n",
       "      <th></th>\n",
       "    </tr>\n",
       "  </thead>\n",
       "  <tbody>\n",
       "    <tr>\n",
       "      <th>John</th>\n",
       "      <td>0</td>\n",
       "      <td>1</td>\n",
       "      <td>1</td>\n",
       "      <td>0</td>\n",
       "      <td>0</td>\n",
       "    </tr>\n",
       "    <tr>\n",
       "      <th>Camila</th>\n",
       "      <td>1</td>\n",
       "      <td>0</td>\n",
       "      <td>0</td>\n",
       "      <td>0</td>\n",
       "      <td>1</td>\n",
       "    </tr>\n",
       "    <tr>\n",
       "      <th>Renata</th>\n",
       "      <td>1</td>\n",
       "      <td>0</td>\n",
       "      <td>0</td>\n",
       "      <td>1</td>\n",
       "      <td>0</td>\n",
       "    </tr>\n",
       "    <tr>\n",
       "      <th>José</th>\n",
       "      <td>0</td>\n",
       "      <td>1</td>\n",
       "      <td>0</td>\n",
       "      <td>0</td>\n",
       "      <td>1</td>\n",
       "    </tr>\n",
       "    <tr>\n",
       "      <th>Alex</th>\n",
       "      <td>1</td>\n",
       "      <td>0</td>\n",
       "      <td>0</td>\n",
       "      <td>1</td>\n",
       "      <td>0</td>\n",
       "    </tr>\n",
       "    <tr>\n",
       "      <th>Pau</th>\n",
       "      <td>1</td>\n",
       "      <td>0</td>\n",
       "      <td>0</td>\n",
       "      <td>0</td>\n",
       "      <td>1</td>\n",
       "    </tr>\n",
       "    <tr>\n",
       "      <th>Fernanda</th>\n",
       "      <td>1</td>\n",
       "      <td>0</td>\n",
       "      <td>0</td>\n",
       "      <td>1</td>\n",
       "      <td>0</td>\n",
       "    </tr>\n",
       "  </tbody>\n",
       "</table>\n",
       "</div>"
      ],
      "text/plain": [
       "          Genero_F  Genero_M  Marital_Casado  Marital_Divorciado  \\\n",
       "Nombre                                                             \n",
       "John             0         1               1                   0   \n",
       "Camila           1         0               0                   0   \n",
       "Renata           1         0               0                   1   \n",
       "José             0         1               0                   0   \n",
       "Alex             1         0               0                   1   \n",
       "Pau              1         0               0                   0   \n",
       "Fernanda         1         0               0                   1   \n",
       "\n",
       "          Marital_Soltero  \n",
       "Nombre                     \n",
       "John                    0  \n",
       "Camila                  1  \n",
       "Renata                  0  \n",
       "José                    1  \n",
       "Alex                    0  \n",
       "Pau                     1  \n",
       "Fernanda                0  "
      ]
     },
     "execution_count": 51,
     "metadata": {},
     "output_type": "execute_result"
    }
   ],
   "source": [
    "# Variables auxiliares de las categorías Nominales\n",
    "df_dummy"
   ]
  },
  {
   "cell_type": "code",
   "execution_count": 52,
   "metadata": {},
   "outputs": [
    {
     "data": {
      "text/html": [
       "<div>\n",
       "<style scoped>\n",
       "    .dataframe tbody tr th:only-of-type {\n",
       "        vertical-align: middle;\n",
       "    }\n",
       "\n",
       "    .dataframe tbody tr th {\n",
       "        vertical-align: top;\n",
       "    }\n",
       "\n",
       "    .dataframe thead th {\n",
       "        text-align: right;\n",
       "    }\n",
       "</style>\n",
       "<table border=\"1\" class=\"dataframe\">\n",
       "  <thead>\n",
       "    <tr style=\"text-align: right;\">\n",
       "      <th></th>\n",
       "      <th>Educación_codes</th>\n",
       "    </tr>\n",
       "    <tr>\n",
       "      <th>Nombre</th>\n",
       "      <th></th>\n",
       "    </tr>\n",
       "  </thead>\n",
       "  <tbody>\n",
       "    <tr>\n",
       "      <th>John</th>\n",
       "      <td>0</td>\n",
       "    </tr>\n",
       "    <tr>\n",
       "      <th>Camila</th>\n",
       "      <td>2</td>\n",
       "    </tr>\n",
       "    <tr>\n",
       "      <th>Renata</th>\n",
       "      <td>0</td>\n",
       "    </tr>\n",
       "    <tr>\n",
       "      <th>José</th>\n",
       "      <td>1</td>\n",
       "    </tr>\n",
       "    <tr>\n",
       "      <th>Alex</th>\n",
       "      <td>2</td>\n",
       "    </tr>\n",
       "    <tr>\n",
       "      <th>Pau</th>\n",
       "      <td>1</td>\n",
       "    </tr>\n",
       "    <tr>\n",
       "      <th>Fernanda</th>\n",
       "      <td>0</td>\n",
       "    </tr>\n",
       "  </tbody>\n",
       "</table>\n",
       "</div>"
      ],
      "text/plain": [
       "          Educación_codes\n",
       "Nombre                   \n",
       "John                    0\n",
       "Camila                  2\n",
       "Renata                  0\n",
       "José                    1\n",
       "Alex                    2\n",
       "Pau                     1\n",
       "Fernanda                0"
      ]
     },
     "execution_count": 52,
     "metadata": {},
     "output_type": "execute_result"
    }
   ],
   "source": [
    "# Variables convertidas a numéricas de mi categoría ordinal\n",
    "df_edu[['Educación_codes']]"
   ]
  },
  {
   "cell_type": "code",
   "execution_count": 53,
   "metadata": {},
   "outputs": [],
   "source": [
    "df_num = df_dummy.join(df_edu[['Educación_codes']])"
   ]
  },
  {
   "cell_type": "code",
   "execution_count": 54,
   "metadata": {},
   "outputs": [
    {
     "data": {
      "text/html": [
       "<div>\n",
       "<style scoped>\n",
       "    .dataframe tbody tr th:only-of-type {\n",
       "        vertical-align: middle;\n",
       "    }\n",
       "\n",
       "    .dataframe tbody tr th {\n",
       "        vertical-align: top;\n",
       "    }\n",
       "\n",
       "    .dataframe thead th {\n",
       "        text-align: right;\n",
       "    }\n",
       "</style>\n",
       "<table border=\"1\" class=\"dataframe\">\n",
       "  <thead>\n",
       "    <tr style=\"text-align: right;\">\n",
       "      <th></th>\n",
       "      <th>Genero_F</th>\n",
       "      <th>Genero_M</th>\n",
       "      <th>Marital_Casado</th>\n",
       "      <th>Marital_Divorciado</th>\n",
       "      <th>Marital_Soltero</th>\n",
       "      <th>Educación_codes</th>\n",
       "    </tr>\n",
       "    <tr>\n",
       "      <th>Nombre</th>\n",
       "      <th></th>\n",
       "      <th></th>\n",
       "      <th></th>\n",
       "      <th></th>\n",
       "      <th></th>\n",
       "      <th></th>\n",
       "    </tr>\n",
       "  </thead>\n",
       "  <tbody>\n",
       "    <tr>\n",
       "      <th>John</th>\n",
       "      <td>0</td>\n",
       "      <td>1</td>\n",
       "      <td>1</td>\n",
       "      <td>0</td>\n",
       "      <td>0</td>\n",
       "      <td>0</td>\n",
       "    </tr>\n",
       "    <tr>\n",
       "      <th>Camila</th>\n",
       "      <td>1</td>\n",
       "      <td>0</td>\n",
       "      <td>0</td>\n",
       "      <td>0</td>\n",
       "      <td>1</td>\n",
       "      <td>2</td>\n",
       "    </tr>\n",
       "    <tr>\n",
       "      <th>Renata</th>\n",
       "      <td>1</td>\n",
       "      <td>0</td>\n",
       "      <td>0</td>\n",
       "      <td>1</td>\n",
       "      <td>0</td>\n",
       "      <td>0</td>\n",
       "    </tr>\n",
       "    <tr>\n",
       "      <th>José</th>\n",
       "      <td>0</td>\n",
       "      <td>1</td>\n",
       "      <td>0</td>\n",
       "      <td>0</td>\n",
       "      <td>1</td>\n",
       "      <td>1</td>\n",
       "    </tr>\n",
       "    <tr>\n",
       "      <th>Alex</th>\n",
       "      <td>1</td>\n",
       "      <td>0</td>\n",
       "      <td>0</td>\n",
       "      <td>1</td>\n",
       "      <td>0</td>\n",
       "      <td>2</td>\n",
       "    </tr>\n",
       "    <tr>\n",
       "      <th>Pau</th>\n",
       "      <td>1</td>\n",
       "      <td>0</td>\n",
       "      <td>0</td>\n",
       "      <td>0</td>\n",
       "      <td>1</td>\n",
       "      <td>1</td>\n",
       "    </tr>\n",
       "    <tr>\n",
       "      <th>Fernanda</th>\n",
       "      <td>1</td>\n",
       "      <td>0</td>\n",
       "      <td>0</td>\n",
       "      <td>1</td>\n",
       "      <td>0</td>\n",
       "      <td>0</td>\n",
       "    </tr>\n",
       "  </tbody>\n",
       "</table>\n",
       "</div>"
      ],
      "text/plain": [
       "          Genero_F  Genero_M  Marital_Casado  Marital_Divorciado  \\\n",
       "Nombre                                                             \n",
       "John             0         1               1                   0   \n",
       "Camila           1         0               0                   0   \n",
       "Renata           1         0               0                   1   \n",
       "José             0         1               0                   0   \n",
       "Alex             1         0               0                   1   \n",
       "Pau              1         0               0                   0   \n",
       "Fernanda         1         0               0                   1   \n",
       "\n",
       "          Marital_Soltero  Educación_codes  \n",
       "Nombre                                      \n",
       "John                    0                0  \n",
       "Camila                  1                2  \n",
       "Renata                  0                0  \n",
       "José                    1                1  \n",
       "Alex                    0                2  \n",
       "Pau                     1                1  \n",
       "Fernanda                0                0  "
      ]
     },
     "execution_count": 54,
     "metadata": {},
     "output_type": "execute_result"
    }
   ],
   "source": [
    "df_num"
   ]
  },
  {
   "cell_type": "markdown",
   "metadata": {},
   "source": [
    "## Similitud en datos cuantitativos"
   ]
  },
  {
   "cell_type": "markdown",
   "metadata": {},
   "source": [
    "Generalizando para $m$ muestras y $n$ variables aleatorias cuantitativas (rasgos funcionales), la\n",
    "distancia usual que se observa entre el par de unidades $x_i$ y $x_j$ cuando se representan en el espacio\n",
    "de coordenadas definido por n variables cuantitativas, es conocida como distancia Euclideana:\n",
    "\n",
    "$$d_{i,j} = \\sqrt{\\sum_{t=1}^n (x_{it} - x_{jt})^2}$$\n",
    "\n",
    "donde $n$ son los rasgos funcionales. La distancia Euclídeana es la más conocida, la de mayor uso y\n",
    "es la herramienta fundamental de cálculo de la mayoría de los métodos multivariados basados en\n",
    "distancias. \n",
    "\n",
    "Sin embargo, presenta varios inconvenientes: \n",
    "\n",
    ">no está acotada, es sensible a cambios de\n",
    "escalas y considera las n variables estocásticamente independientes.\n",
    "\n",
    "Se han propuesto varias transformaciones que permiten minimizar y/o eliminar estos inconvenientes, entre otras: \n",
    "\n",
    ">se recomienda utilizarla en caso de homogeneidad entre la naturaleza física de las variables, cuando esto no es posible se puede estandarizar cada variable por su rango $r_t$ asegurando que la contribución de cualquier variable estará acotada en el intervalo (0,1).\n",
    "\n",
    "Además puede dividirse por la cantidad de variables obteniendo una distancia media que oscilará en este\n",
    "rango y facilita su conversión a similaridad, la expresión estará definida por:\n",
    "\n",
    "$$d_{i,j} = \\sqrt{\\frac{1}{n} \\sum_{t=1}^n \\frac{(x_{it} - x_{jt})^2}{r_t}}$$\n",
    "\n",
    "A continuación se presenta la formulación y propiedades de las distancias y disimilaridades no\n",
    "negativas más utilizadas en los estudios de iversidad. Las más usadas son las distancias: Euclídea, Manhattan y Mahalanobis.\n",
    "\n",
    "|Similaridad          |                                            | Simetría  | Rango         |\n",
    "|:-------------------:|:------------------------------------------:|:---------:|:--------------:|\n",
    "|Euclideana| $\\sqrt{ \\sum_{t=1}^n (x_{it} - x_{jt})^2}$                      |si         |[0,$\\infty$]        |\n",
    "|Manhattan    | $ \\sum_{t=1}^n |x_{it} - x_{jt}|$                  |si         |[0,$\\infty$]        |\n",
    "|Bray-Curtis               | $\\frac{ \\sum_{t=1}^n |x_{it} - x_{jt}|}{ \\sum_{t=1}^n (x_{it} + x_{jt})}$            |si         |[0,$\\infty$]      |\n",
    "|Canberra                 | $\\sum_{t=1}^n\\frac{ |x_{it} - x_{jt}|}{(|x_{it}| + |x_{jt}|)}$                       |si         |[0,$\\infty$]       |\n",
    "|Minkowski              | $^p\\sqrt{ \\sum_{t=1}^n (x_{it} - x_{jt})^p}$ |si         |[0,$\\infty$]        |\n",
    "|Mihalanobis              | $\\sqrt{ \\sum_{l=1}^n\\sum_{t=1}^n (x_{it} - x_{jt}) \\sigma_{lt}^{-1}(x_{il} - x_{jl})}$                       |si         |[0,$\\infty$]        |\n",
    "\n",
    "\n"
   ]
  },
  {
   "cell_type": "code",
   "execution_count": 55,
   "metadata": {},
   "outputs": [],
   "source": [
    "import scipy.spatial.distance as sc"
   ]
  },
  {
   "cell_type": "markdown",
   "metadata": {},
   "source": [
    "### Ejemplo:\n"
   ]
  },
  {
   "cell_type": "code",
   "execution_count": 56,
   "metadata": {},
   "outputs": [
    {
     "data": {
      "text/plain": [
       "array([[ 2,  3],\n",
       "       [20, 30],\n",
       "       [-2,  3],\n",
       "       [ 2, -3]])"
      ]
     },
     "execution_count": 56,
     "metadata": {},
     "output_type": "execute_result"
    }
   ],
   "source": [
    "x = np.array([[2,3],\n",
    "              [20,30],\n",
    "              [-2,3],\n",
    "              [2,-3]])\n",
    "x"
   ]
  },
  {
   "cell_type": "code",
   "execution_count": 57,
   "metadata": {},
   "outputs": [
    {
     "data": {
      "text/html": [
       "<div>\n",
       "<style scoped>\n",
       "    .dataframe tbody tr th:only-of-type {\n",
       "        vertical-align: middle;\n",
       "    }\n",
       "\n",
       "    .dataframe tbody tr th {\n",
       "        vertical-align: top;\n",
       "    }\n",
       "\n",
       "    .dataframe thead th {\n",
       "        text-align: right;\n",
       "    }\n",
       "</style>\n",
       "<table border=\"1\" class=\"dataframe\">\n",
       "  <thead>\n",
       "    <tr style=\"text-align: right;\">\n",
       "      <th></th>\n",
       "      <th>x1</th>\n",
       "      <th>x2</th>\n",
       "    </tr>\n",
       "  </thead>\n",
       "  <tbody>\n",
       "    <tr>\n",
       "      <th>0</th>\n",
       "      <td>2</td>\n",
       "      <td>3</td>\n",
       "    </tr>\n",
       "    <tr>\n",
       "      <th>1</th>\n",
       "      <td>20</td>\n",
       "      <td>30</td>\n",
       "    </tr>\n",
       "    <tr>\n",
       "      <th>2</th>\n",
       "      <td>-2</td>\n",
       "      <td>3</td>\n",
       "    </tr>\n",
       "    <tr>\n",
       "      <th>3</th>\n",
       "      <td>2</td>\n",
       "      <td>-3</td>\n",
       "    </tr>\n",
       "  </tbody>\n",
       "</table>\n",
       "</div>"
      ],
      "text/plain": [
       "   x1  x2\n",
       "0   2   3\n",
       "1  20  30\n",
       "2  -2   3\n",
       "3   2  -3"
      ]
     },
     "execution_count": 57,
     "metadata": {},
     "output_type": "execute_result"
    }
   ],
   "source": [
    "df_x = pd.DataFrame(x,columns=['x1','x2'])\n",
    "df_x"
   ]
  },
  {
   "cell_type": "code",
   "execution_count": 58,
   "metadata": {},
   "outputs": [
    {
     "data": {
      "image/png": "[encoded data removed]",
      "text/plain": [
       "<Figure size 432x288 with 1 Axes>"
      ]
     },
     "metadata": {
      "needs_background": "light"
     },
     "output_type": "display_data"
    }
   ],
   "source": [
    "plt.figure(figsize=(6,4))\n",
    "plt.scatter(x[:,0],x[:,1])\n",
    "plt.grid()\n",
    "plt.xlabel('x1')\n",
    "plt.ylabel('x2')\n",
    "plt.show()"
   ]
  },
  {
   "cell_type": "code",
   "execution_count": 59,
   "metadata": {},
   "outputs": [
    {
     "data": {
      "text/plain": [
       "array([32.44996148,  4.        ,  6.        , 34.82814953, 37.58989226,\n",
       "        7.21110255])"
      ]
     },
     "execution_count": 59,
     "metadata": {},
     "output_type": "execute_result"
    }
   ],
   "source": [
    "D1 = sc.pdist(x,'euclidean')\n",
    "D1"
   ]
  },
  {
   "cell_type": "code",
   "execution_count": 60,
   "metadata": {},
   "outputs": [
    {
     "data": {
      "text/plain": [
       "(6,)"
      ]
     },
     "execution_count": 60,
     "metadata": {},
     "output_type": "execute_result"
    }
   ],
   "source": [
    "D1.shape"
   ]
  },
  {
   "cell_type": "code",
   "execution_count": 61,
   "metadata": {},
   "outputs": [
    {
     "data": {
      "text/plain": [
       "array([[ 0.        , 32.44996148,  4.        ,  6.        ],\n",
       "       [32.44996148,  0.        , 34.82814953, 37.58989226],\n",
       "       [ 4.        , 34.82814953,  0.        ,  7.21110255],\n",
       "       [ 6.        , 37.58989226,  7.21110255,  0.        ]])"
      ]
     },
     "execution_count": 61,
     "metadata": {},
     "output_type": "execute_result"
    }
   ],
   "source": [
    "D1 = sc.squareform(D1)\n",
    "D1"
   ]
  },
  {
   "cell_type": "code",
   "execution_count": 62,
   "metadata": {},
   "outputs": [
    {
     "data": {
      "text/html": [
       "<div>\n",
       "<style scoped>\n",
       "    .dataframe tbody tr th:only-of-type {\n",
       "        vertical-align: middle;\n",
       "    }\n",
       "\n",
       "    .dataframe tbody tr th {\n",
       "        vertical-align: top;\n",
       "    }\n",
       "\n",
       "    .dataframe thead th {\n",
       "        text-align: right;\n",
       "    }\n",
       "</style>\n",
       "<table border=\"1\" class=\"dataframe\">\n",
       "  <thead>\n",
       "    <tr style=\"text-align: right;\">\n",
       "      <th></th>\n",
       "      <th>0</th>\n",
       "      <th>1</th>\n",
       "      <th>2</th>\n",
       "      <th>3</th>\n",
       "    </tr>\n",
       "  </thead>\n",
       "  <tbody>\n",
       "    <tr>\n",
       "      <th>0</th>\n",
       "      <td>0.000000</td>\n",
       "      <td>32.449961</td>\n",
       "      <td>4.000000</td>\n",
       "      <td>6.000000</td>\n",
       "    </tr>\n",
       "    <tr>\n",
       "      <th>1</th>\n",
       "      <td>32.449961</td>\n",
       "      <td>0.000000</td>\n",
       "      <td>34.828150</td>\n",
       "      <td>37.589892</td>\n",
       "    </tr>\n",
       "    <tr>\n",
       "      <th>2</th>\n",
       "      <td>4.000000</td>\n",
       "      <td>34.828150</td>\n",
       "      <td>0.000000</td>\n",
       "      <td>7.211103</td>\n",
       "    </tr>\n",
       "    <tr>\n",
       "      <th>3</th>\n",
       "      <td>6.000000</td>\n",
       "      <td>37.589892</td>\n",
       "      <td>7.211103</td>\n",
       "      <td>0.000000</td>\n",
       "    </tr>\n",
       "  </tbody>\n",
       "</table>\n",
       "</div>"
      ],
      "text/plain": [
       "           0          1          2          3\n",
       "0   0.000000  32.449961   4.000000   6.000000\n",
       "1  32.449961   0.000000  34.828150  37.589892\n",
       "2   4.000000  34.828150   0.000000   7.211103\n",
       "3   6.000000  37.589892   7.211103   0.000000"
      ]
     },
     "execution_count": 62,
     "metadata": {},
     "output_type": "execute_result"
    }
   ],
   "source": [
    "D1 = pd.DataFrame(D1)\n",
    "D1"
   ]
  },
  {
   "cell_type": "code",
   "execution_count": 63,
   "metadata": {},
   "outputs": [
    {
     "data": {
      "text/plain": [
       "array([32.44996148,  4.        ,  6.        , 34.82814953, 37.58989226,\n",
       "        7.21110255])"
      ]
     },
     "execution_count": 63,
     "metadata": {},
     "output_type": "execute_result"
    }
   ],
   "source": [
    "sc.pdist(df_x.values,'euclidean')"
   ]
  },
  {
   "cell_type": "code",
   "execution_count": 64,
   "metadata": {},
   "outputs": [
    {
     "data": {
      "text/plain": [
       "array([[ 0.        , 32.44996148,  4.        ,  6.        ],\n",
       "       [32.44996148,  0.        , 34.82814953, 37.58989226],\n",
       "       [ 4.        , 34.82814953,  0.        ,  7.21110255],\n",
       "       [ 6.        , 37.58989226,  7.21110255,  0.        ]])"
      ]
     },
     "execution_count": 64,
     "metadata": {},
     "output_type": "execute_result"
    }
   ],
   "source": [
    "sc.squareform(sc.pdist(df_x.values,'euclidean'))"
   ]
  },
  {
   "cell_type": "code",
   "execution_count": 65,
   "metadata": {},
   "outputs": [],
   "source": [
    "def pdistance_matrix(df, metric):\n",
    "    '''\n",
    "    Este método obtiene la matriz de distancias de df apartir de la métrica dada en el argumento de entrada\n",
    "    df: DataFrame\n",
    "    metric: Métrica (string)\n",
    "    '''\n",
    "    # Validación de las métricas de similitud programadas en pdist\n",
    "    D1 = sc.squareform(sc.pdist(df.values,metric))\n",
    "    DIST = pd.DataFrame(D1)\n",
    "    return DIST"
   ]
  },
  {
   "cell_type": "code",
   "execution_count": 66,
   "metadata": {},
   "outputs": [
    {
     "name": "stdout",
     "output_type": "stream",
     "text": [
      "Help on function pdistance_matrix in module __main__:\n",
      "\n",
      "pdistance_matrix(df, metric)\n",
      "    Este método obtiene la matriz de distancias de df apartir de la métrica dada en el argumento de entrada\n",
      "    df: DataFrame\n",
      "    metric: Métrica (string)\n",
      "\n"
     ]
    }
   ],
   "source": [
    "help(pdistance_matrix)"
   ]
  },
  {
   "cell_type": "code",
   "execution_count": 67,
   "metadata": {},
   "outputs": [
    {
     "data": {
      "text/html": [
       "<div>\n",
       "<style scoped>\n",
       "    .dataframe tbody tr th:only-of-type {\n",
       "        vertical-align: middle;\n",
       "    }\n",
       "\n",
       "    .dataframe tbody tr th {\n",
       "        vertical-align: top;\n",
       "    }\n",
       "\n",
       "    .dataframe thead th {\n",
       "        text-align: right;\n",
       "    }\n",
       "</style>\n",
       "<table border=\"1\" class=\"dataframe\">\n",
       "  <thead>\n",
       "    <tr style=\"text-align: right;\">\n",
       "      <th></th>\n",
       "      <th>0</th>\n",
       "      <th>1</th>\n",
       "      <th>2</th>\n",
       "      <th>3</th>\n",
       "    </tr>\n",
       "  </thead>\n",
       "  <tbody>\n",
       "    <tr>\n",
       "      <th>0</th>\n",
       "      <td>0.000000</td>\n",
       "      <td>32.449961</td>\n",
       "      <td>4.000000</td>\n",
       "      <td>6.000000</td>\n",
       "    </tr>\n",
       "    <tr>\n",
       "      <th>1</th>\n",
       "      <td>32.449961</td>\n",
       "      <td>0.000000</td>\n",
       "      <td>34.828150</td>\n",
       "      <td>37.589892</td>\n",
       "    </tr>\n",
       "    <tr>\n",
       "      <th>2</th>\n",
       "      <td>4.000000</td>\n",
       "      <td>34.828150</td>\n",
       "      <td>0.000000</td>\n",
       "      <td>7.211103</td>\n",
       "    </tr>\n",
       "    <tr>\n",
       "      <th>3</th>\n",
       "      <td>6.000000</td>\n",
       "      <td>37.589892</td>\n",
       "      <td>7.211103</td>\n",
       "      <td>0.000000</td>\n",
       "    </tr>\n",
       "  </tbody>\n",
       "</table>\n",
       "</div>"
      ],
      "text/plain": [
       "           0          1          2          3\n",
       "0   0.000000  32.449961   4.000000   6.000000\n",
       "1  32.449961   0.000000  34.828150  37.589892\n",
       "2   4.000000  34.828150   0.000000   7.211103\n",
       "3   6.000000  37.589892   7.211103   0.000000"
      ]
     },
     "execution_count": 67,
     "metadata": {},
     "output_type": "execute_result"
    }
   ],
   "source": [
    "pdistance_matrix(df_x,'euclidean')"
   ]
  },
  {
   "cell_type": "code",
   "execution_count": 68,
   "metadata": {
    "scrolled": true
   },
   "outputs": [
    {
     "name": "stdout",
     "output_type": "stream",
     "text": [
      "Help on function pdist in module scipy.spatial.distance:\n",
      "\n",
      "pdist(X, metric='euclidean', *args, **kwargs)\n",
      "    Pairwise distances between observations in n-dimensional space.\n",
      "    \n",
      "    See Notes for common calling conventions.\n",
      "    \n",
      "    Parameters\n",
      "    ----------\n",
      "    X : ndarray\n",
      "        An m by n array of m original observations in an\n",
      "        n-dimensional space.\n",
      "    metric : str or function, optional\n",
      "        The distance metric to use. The distance function can\n",
      "        be 'braycurtis', 'canberra', 'chebyshev', 'cityblock',\n",
      "        'correlation', 'cosine', 'dice', 'euclidean', 'hamming',\n",
      "        'jaccard', 'jensenshannon', 'kulsinski', 'mahalanobis', 'matching',\n",
      "        'minkowski', 'rogerstanimoto', 'russellrao', 'seuclidean',\n",
      "        'sokalmichener', 'sokalsneath', 'sqeuclidean', 'yule'.\n",
      "    *args : tuple. Deprecated.\n",
      "        Additional arguments should be passed as keyword arguments\n",
      "    **kwargs : dict, optional\n",
      "        Extra arguments to `metric`: refer to each metric documentation for a\n",
      "        list of all possible arguments.\n",
      "    \n",
      "        Some possible arguments:\n",
      "    \n",
      "        p : scalar\n",
      "        The p-norm to apply for Minkowski, weighted and unweighted.\n",
      "        Default: 2.\n",
      "    \n",
      "        w : ndarray\n",
      "        The weight vector for metrics that support weights (e.g., Minkowski).\n",
      "    \n",
      "        V : ndarray\n",
      "        The variance vector for standardized Euclidean.\n",
      "        Default: var(X, axis=0, ddof=1)\n",
      "    \n",
      "        VI : ndarray\n",
      "        The inverse of the covariance matrix for Mahalanobis.\n",
      "        Default: inv(cov(X.T)).T\n",
      "    \n",
      "        out : ndarray.\n",
      "        The output array\n",
      "        If not None, condensed distance matrix Y is stored in this array.\n",
      "        Note: metric independent, it will become a regular keyword arg in a\n",
      "        future scipy version\n",
      "    \n",
      "    Returns\n",
      "    -------\n",
      "    Y : ndarray\n",
      "        Returns a condensed distance matrix Y.  For\n",
      "        each :math:`i` and :math:`j` (where :math:`i<j<m`),where m is the number\n",
      "        of original observations. The metric ``dist(u=X[i], v=X[j])``\n",
      "        is computed and stored in entry \n",
      "        ``m * i + j - ((i + 2) * (i + 1)) // 2``.\n",
      "    \n",
      "    See Also\n",
      "    --------\n",
      "    squareform : converts between condensed distance matrices and\n",
      "                 square distance matrices.\n",
      "    \n",
      "    Notes\n",
      "    -----\n",
      "    See ``squareform`` for information on how to calculate the index of\n",
      "    this entry or to convert the condensed distance matrix to a\n",
      "    redundant square matrix.\n",
      "    \n",
      "    The following are common calling conventions.\n",
      "    \n",
      "    1. ``Y = pdist(X, 'euclidean')``\n",
      "    \n",
      "       Computes the distance between m points using Euclidean distance\n",
      "       (2-norm) as the distance metric between the points. The points\n",
      "       are arranged as m n-dimensional row vectors in the matrix X.\n",
      "    \n",
      "    2. ``Y = pdist(X, 'minkowski', p=2.)``\n",
      "    \n",
      "       Computes the distances using the Minkowski distance\n",
      "       :math:`||u-v||_p` (p-norm) where :math:`p \\geq 1`.\n",
      "    \n",
      "    3. ``Y = pdist(X, 'cityblock')``\n",
      "    \n",
      "       Computes the city block or Manhattan distance between the\n",
      "       points.\n",
      "    \n",
      "    4. ``Y = pdist(X, 'seuclidean', V=None)``\n",
      "    \n",
      "       Computes the standardized Euclidean distance. The standardized\n",
      "       Euclidean distance between two n-vectors ``u`` and ``v`` is\n",
      "    \n",
      "       .. math::\n",
      "    \n",
      "          \\sqrt{\\sum {(u_i-v_i)^2 / V[x_i]}}\n",
      "    \n",
      "    \n",
      "       V is the variance vector; V[i] is the variance computed over all\n",
      "       the i'th components of the points.  If not passed, it is\n",
      "       automatically computed.\n",
      "    \n",
      "    5. ``Y = pdist(X, 'sqeuclidean')``\n",
      "    \n",
      "       Computes the squared Euclidean distance :math:`||u-v||_2^2` between\n",
      "       the vectors.\n",
      "    \n",
      "    6. ``Y = pdist(X, 'cosine')``\n",
      "    \n",
      "       Computes the cosine distance between vectors u and v,\n",
      "    \n",
      "       .. math::\n",
      "    \n",
      "          1 - \\frac{u \\cdot v}\n",
      "                   {{||u||}_2 {||v||}_2}\n",
      "    \n",
      "       where :math:`||*||_2` is the 2-norm of its argument ``*``, and\n",
      "       :math:`u \\cdot v` is the dot product of ``u`` and ``v``.\n",
      "    \n",
      "    7. ``Y = pdist(X, 'correlation')``\n",
      "    \n",
      "       Computes the correlation distance between vectors u and v. This is\n",
      "    \n",
      "       .. math::\n",
      "    \n",
      "          1 - \\frac{(u - \\bar{u}) \\cdot (v - \\bar{v})}\n",
      "                   {{||(u - \\bar{u})||}_2 {||(v - \\bar{v})||}_2}\n",
      "    \n",
      "       where :math:`\\bar{v}` is the mean of the elements of vector v,\n",
      "       and :math:`x \\cdot y` is the dot product of :math:`x` and :math:`y`.\n",
      "    \n",
      "    8. ``Y = pdist(X, 'hamming')``\n",
      "    \n",
      "       Computes the normalized Hamming distance, or the proportion of\n",
      "       those vector elements between two n-vectors ``u`` and ``v``\n",
      "       which disagree. To save memory, the matrix ``X`` can be of type\n",
      "       boolean.\n",
      "    \n",
      "    9. ``Y = pdist(X, 'jaccard')``\n",
      "    \n",
      "       Computes the Jaccard distance between the points. Given two\n",
      "       vectors, ``u`` and ``v``, the Jaccard distance is the\n",
      "       proportion of those elements ``u[i]`` and ``v[i]`` that\n",
      "       disagree.\n",
      "    \n",
      "    10. ``Y = pdist(X, 'chebyshev')``\n",
      "    \n",
      "       Computes the Chebyshev distance between the points. The\n",
      "       Chebyshev distance between two n-vectors ``u`` and ``v`` is the\n",
      "       maximum norm-1 distance between their respective elements. More\n",
      "       precisely, the distance is given by\n",
      "    \n",
      "       .. math::\n",
      "    \n",
      "          d(u,v) = \\max_i {|u_i-v_i|}\n",
      "    \n",
      "    11. ``Y = pdist(X, 'canberra')``\n",
      "    \n",
      "       Computes the Canberra distance between the points. The\n",
      "       Canberra distance between two points ``u`` and ``v`` is\n",
      "    \n",
      "       .. math::\n",
      "    \n",
      "         d(u,v) = \\sum_i \\frac{|u_i-v_i|}\n",
      "                              {|u_i|+|v_i|}\n",
      "    \n",
      "    \n",
      "    12. ``Y = pdist(X, 'braycurtis')``\n",
      "    \n",
      "       Computes the Bray-Curtis distance between the points. The\n",
      "       Bray-Curtis distance between two points ``u`` and ``v`` is\n",
      "    \n",
      "    \n",
      "       .. math::\n",
      "    \n",
      "            d(u,v) = \\frac{\\sum_i {|u_i-v_i|}}\n",
      "                           {\\sum_i {|u_i+v_i|}}\n",
      "    \n",
      "    13. ``Y = pdist(X, 'mahalanobis', VI=None)``\n",
      "    \n",
      "       Computes the Mahalanobis distance between the points. The\n",
      "       Mahalanobis distance between two points ``u`` and ``v`` is\n",
      "       :math:`\\sqrt{(u-v)(1/V)(u-v)^T}` where :math:`(1/V)` (the ``VI``\n",
      "       variable) is the inverse covariance. If ``VI`` is not None,\n",
      "       ``VI`` will be used as the inverse covariance matrix.\n",
      "    \n",
      "    14. ``Y = pdist(X, 'yule')``\n",
      "    \n",
      "       Computes the Yule distance between each pair of boolean\n",
      "       vectors. (see yule function documentation)\n",
      "    \n",
      "    15. ``Y = pdist(X, 'matching')``\n",
      "    \n",
      "       Synonym for 'hamming'.\n",
      "    \n",
      "    16. ``Y = pdist(X, 'dice')``\n",
      "    \n",
      "       Computes the Dice distance between each pair of boolean\n",
      "       vectors. (see dice function documentation)\n",
      "    \n",
      "    17. ``Y = pdist(X, 'kulsinski')``\n",
      "    \n",
      "       Computes the Kulsinski distance between each pair of\n",
      "       boolean vectors. (see kulsinski function documentation)\n",
      "    \n",
      "    18. ``Y = pdist(X, 'rogerstanimoto')``\n",
      "    \n",
      "       Computes the Rogers-Tanimoto distance between each pair of\n",
      "       boolean vectors. (see rogerstanimoto function documentation)\n",
      "    \n",
      "    19. ``Y = pdist(X, 'russellrao')``\n",
      "    \n",
      "       Computes the Russell-Rao distance between each pair of\n",
      "       boolean vectors. (see russellrao function documentation)\n",
      "    \n",
      "    20. ``Y = pdist(X, 'sokalmichener')``\n",
      "    \n",
      "       Computes the Sokal-Michener distance between each pair of\n",
      "       boolean vectors. (see sokalmichener function documentation)\n",
      "    \n",
      "    21. ``Y = pdist(X, 'sokalsneath')``\n",
      "    \n",
      "       Computes the Sokal-Sneath distance between each pair of\n",
      "       boolean vectors. (see sokalsneath function documentation)\n",
      "    \n",
      "    22. ``Y = pdist(X, 'wminkowski', p=2, w=w)``\n",
      "    \n",
      "       Computes the weighted Minkowski distance between each pair of\n",
      "       vectors. (see wminkowski function documentation)\n",
      "    \n",
      "       'wminkowski' is deprecated and will be removed in SciPy 1.8.0.\n",
      "       Use 'minkowski' instead.\n",
      "    \n",
      "    23. ``Y = pdist(X, f)``\n",
      "    \n",
      "       Computes the distance between all pairs of vectors in X\n",
      "       using the user supplied 2-arity function f. For example,\n",
      "       Euclidean distance between the vectors could be computed\n",
      "       as follows::\n",
      "    \n",
      "         dm = pdist(X, lambda u, v: np.sqrt(((u-v)**2).sum()))\n",
      "    \n",
      "       Note that you should avoid passing a reference to one of\n",
      "       the distance functions defined in this library. For example,::\n",
      "    \n",
      "         dm = pdist(X, sokalsneath)\n",
      "    \n",
      "       would calculate the pair-wise distances between the vectors in\n",
      "       X using the Python function sokalsneath. This would result in\n",
      "       sokalsneath being called :math:`{n \\choose 2}` times, which\n",
      "       is inefficient. Instead, the optimized C version is more\n",
      "       efficient, and we call it using the following syntax.::\n",
      "    \n",
      "         dm = pdist(X, 'sokalsneath')\n",
      "\n"
     ]
    }
   ],
   "source": [
    "help(sc.pdist)"
   ]
  },
  {
   "cell_type": "code",
   "execution_count": 69,
   "metadata": {},
   "outputs": [],
   "source": [
    "from CDIN import CDIN as cd"
   ]
  },
  {
   "cell_type": "code",
   "execution_count": 70,
   "metadata": {},
   "outputs": [
    {
     "name": "stdout",
     "output_type": "stream",
     "text": [
      "Help on function pdistance_matrix in module CDIN:\n",
      "\n",
      "pdistance_matrix(df, metric)\n",
      "    Este método obtiene la matriz de distancias de df apartir de la métrica dada en el argumento de entrada\n",
      "    df: DataFrame\n",
      "    metric: Métrica (string)\n",
      "\n"
     ]
    }
   ],
   "source": [
    "help(cd.pdistance_matrix)"
   ]
  },
  {
   "cell_type": "code",
   "execution_count": 71,
   "metadata": {},
   "outputs": [
    {
     "data": {
      "text/html": [
       "<div>\n",
       "<style scoped>\n",
       "    .dataframe tbody tr th:only-of-type {\n",
       "        vertical-align: middle;\n",
       "    }\n",
       "\n",
       "    .dataframe tbody tr th {\n",
       "        vertical-align: top;\n",
       "    }\n",
       "\n",
       "    .dataframe thead th {\n",
       "        text-align: right;\n",
       "    }\n",
       "</style>\n",
       "<table border=\"1\" class=\"dataframe\">\n",
       "  <thead>\n",
       "    <tr style=\"text-align: right;\">\n",
       "      <th></th>\n",
       "      <th>0</th>\n",
       "      <th>1</th>\n",
       "      <th>2</th>\n",
       "      <th>3</th>\n",
       "    </tr>\n",
       "  </thead>\n",
       "  <tbody>\n",
       "    <tr>\n",
       "      <th>0</th>\n",
       "      <td>0.000000</td>\n",
       "      <td>32.449961</td>\n",
       "      <td>4.000000</td>\n",
       "      <td>6.000000</td>\n",
       "    </tr>\n",
       "    <tr>\n",
       "      <th>1</th>\n",
       "      <td>32.449961</td>\n",
       "      <td>0.000000</td>\n",
       "      <td>34.828150</td>\n",
       "      <td>37.589892</td>\n",
       "    </tr>\n",
       "    <tr>\n",
       "      <th>2</th>\n",
       "      <td>4.000000</td>\n",
       "      <td>34.828150</td>\n",
       "      <td>0.000000</td>\n",
       "      <td>7.211103</td>\n",
       "    </tr>\n",
       "    <tr>\n",
       "      <th>3</th>\n",
       "      <td>6.000000</td>\n",
       "      <td>37.589892</td>\n",
       "      <td>7.211103</td>\n",
       "      <td>0.000000</td>\n",
       "    </tr>\n",
       "  </tbody>\n",
       "</table>\n",
       "</div>"
      ],
      "text/plain": [
       "           0          1          2          3\n",
       "0   0.000000  32.449961   4.000000   6.000000\n",
       "1  32.449961   0.000000  34.828150  37.589892\n",
       "2   4.000000  34.828150   0.000000   7.211103\n",
       "3   6.000000  37.589892   7.211103   0.000000"
      ]
     },
     "execution_count": 71,
     "metadata": {},
     "output_type": "execute_result"
    }
   ],
   "source": [
    "cd.pdistance_matrix(df_x, 'euclidean')"
   ]
  },
  {
   "cell_type": "markdown",
   "metadata": {},
   "source": [
    "### Estandarización de datos"
   ]
  },
  {
   "cell_type": "markdown",
   "metadata": {},
   "source": [
    "$$z= \\frac{x-\\mu}{\\sigma}$$"
   ]
  },
  {
   "cell_type": "code",
   "execution_count": 75,
   "metadata": {},
   "outputs": [
    {
     "data": {
      "text/plain": [
       "array([[-0.44482191, -0.35357639],\n",
       "       [ 1.19759744,  2.11005263],\n",
       "       [-0.80980398, -0.35357639],\n",
       "       [-0.44482191, -0.9010495 ]])"
      ]
     },
     "execution_count": 75,
     "metadata": {},
     "output_type": "execute_result"
    }
   ],
   "source": [
    "x_std = (x-x.mean())/x.std()\n",
    "x_std\n"
   ]
  },
  {
   "cell_type": "code",
   "execution_count": 76,
   "metadata": {},
   "outputs": [
    {
     "data": {
      "image/png": "[encoded data removed]",
      "text/plain": [
       "<Figure size 432x288 with 1 Axes>"
      ]
     },
     "metadata": {
      "needs_background": "light"
     },
     "output_type": "display_data"
    }
   ],
   "source": [
    "plt.figure(figsize=(6,4))\n",
    "plt.scatter(x[:,0],x[:,1])\n",
    "plt.grid()\n",
    "plt.xlabel('x1')\n",
    "plt.ylabel('x2')\n",
    "plt.title('Datos sin estandarizar')\n",
    "plt.show()"
   ]
  },
  {
   "cell_type": "code",
   "execution_count": 78,
   "metadata": {},
   "outputs": [
    {
     "data": {
      "image/png": "[encoded data removed]",
      "text/plain": [
       "<Figure size 432x288 with 1 Axes>"
      ]
     },
     "metadata": {
      "needs_background": "light"
     },
     "output_type": "display_data"
    }
   ],
   "source": [
    "plt.figure(figsize=(6,4))\n",
    "plt.scatter(x_std[:,0],x_std[:,1])\n",
    "plt.grid()\n",
    "plt.xlabel('x1')\n",
    "plt.ylabel('x2')\n",
    "plt.title('Datos Estandarizados')\n",
    "plt.show()"
   ]
  },
  {
   "cell_type": "code",
   "execution_count": 79,
   "metadata": {},
   "outputs": [
    {
     "data": {
      "text/html": [
       "<div>\n",
       "<style scoped>\n",
       "    .dataframe tbody tr th:only-of-type {\n",
       "        vertical-align: middle;\n",
       "    }\n",
       "\n",
       "    .dataframe tbody tr th {\n",
       "        vertical-align: top;\n",
       "    }\n",
       "\n",
       "    .dataframe thead th {\n",
       "        text-align: right;\n",
       "    }\n",
       "</style>\n",
       "<table border=\"1\" class=\"dataframe\">\n",
       "  <thead>\n",
       "    <tr style=\"text-align: right;\">\n",
       "      <th></th>\n",
       "      <th>0</th>\n",
       "      <th>1</th>\n",
       "    </tr>\n",
       "  </thead>\n",
       "  <tbody>\n",
       "    <tr>\n",
       "      <th>0</th>\n",
       "      <td>-0.444822</td>\n",
       "      <td>-0.353576</td>\n",
       "    </tr>\n",
       "    <tr>\n",
       "      <th>1</th>\n",
       "      <td>1.197597</td>\n",
       "      <td>2.110053</td>\n",
       "    </tr>\n",
       "    <tr>\n",
       "      <th>2</th>\n",
       "      <td>-0.809804</td>\n",
       "      <td>-0.353576</td>\n",
       "    </tr>\n",
       "    <tr>\n",
       "      <th>3</th>\n",
       "      <td>-0.444822</td>\n",
       "      <td>-0.901050</td>\n",
       "    </tr>\n",
       "  </tbody>\n",
       "</table>\n",
       "</div>"
      ],
      "text/plain": [
       "          0         1\n",
       "0 -0.444822 -0.353576\n",
       "1  1.197597  2.110053\n",
       "2 -0.809804 -0.353576\n",
       "3 -0.444822 -0.901050"
      ]
     },
     "execution_count": 79,
     "metadata": {},
     "output_type": "execute_result"
    }
   ],
   "source": [
    "df_x_std = pd.DataFrame(x_std)\n",
    "df_x_std"
   ]
  },
  {
   "cell_type": "code",
   "execution_count": 80,
   "metadata": {},
   "outputs": [
    {
     "data": {
      "text/html": [
       "<div>\n",
       "<style scoped>\n",
       "    .dataframe tbody tr th:only-of-type {\n",
       "        vertical-align: middle;\n",
       "    }\n",
       "\n",
       "    .dataframe tbody tr th {\n",
       "        vertical-align: top;\n",
       "    }\n",
       "\n",
       "    .dataframe thead th {\n",
       "        text-align: right;\n",
       "    }\n",
       "</style>\n",
       "<table border=\"1\" class=\"dataframe\">\n",
       "  <thead>\n",
       "    <tr style=\"text-align: right;\">\n",
       "      <th></th>\n",
       "      <th>0</th>\n",
       "      <th>1</th>\n",
       "      <th>2</th>\n",
       "      <th>3</th>\n",
       "    </tr>\n",
       "  </thead>\n",
       "  <tbody>\n",
       "    <tr>\n",
       "      <th>0</th>\n",
       "      <td>0.000000</td>\n",
       "      <td>2.960914</td>\n",
       "      <td>0.364982</td>\n",
       "      <td>0.547473</td>\n",
       "    </tr>\n",
       "    <tr>\n",
       "      <th>1</th>\n",
       "      <td>2.960914</td>\n",
       "      <td>0.000000</td>\n",
       "      <td>3.177913</td>\n",
       "      <td>3.429909</td>\n",
       "    </tr>\n",
       "    <tr>\n",
       "      <th>2</th>\n",
       "      <td>0.364982</td>\n",
       "      <td>3.177913</td>\n",
       "      <td>0.000000</td>\n",
       "      <td>0.657981</td>\n",
       "    </tr>\n",
       "    <tr>\n",
       "      <th>3</th>\n",
       "      <td>0.547473</td>\n",
       "      <td>3.429909</td>\n",
       "      <td>0.657981</td>\n",
       "      <td>0.000000</td>\n",
       "    </tr>\n",
       "  </tbody>\n",
       "</table>\n",
       "</div>"
      ],
      "text/plain": [
       "          0         1         2         3\n",
       "0  0.000000  2.960914  0.364982  0.547473\n",
       "1  2.960914  0.000000  3.177913  3.429909\n",
       "2  0.364982  3.177913  0.000000  0.657981\n",
       "3  0.547473  3.429909  0.657981  0.000000"
      ]
     },
     "execution_count": 80,
     "metadata": {},
     "output_type": "execute_result"
    }
   ],
   "source": [
    "cd.pdistance_matrix(df_x_std, 'euclidean')"
   ]
  },
  {
   "cell_type": "code",
   "execution_count": null,
   "metadata": {},
   "outputs": [],
   "source": []
  },
  {
   "cell_type": "markdown",
   "metadata": {},
   "source": [
    "### Canberra\n",
    "$$\\sum_i \\frac{|u_i - v_i|}{|u_i| + |v_i|}$$"
   ]
  },
  {
   "cell_type": "markdown",
   "metadata": {},
   "source": [
    "## Actividad 5\n",
    "\n",
    "Calcular las distancias de similitud por:\n",
    "\n",
    "1.- Distacia Jaccard (datos originales) datos estandarizados\n",
    "\n",
    "2.- Distacia braycurtis (datos originales) datos estandarizados\n",
    "\n",
    "3.- Manhatan (datos originales) datos estandarizados\n",
    "\n",
    "4.- euclideana estandarizada  (datos originales)\n",
    "\n",
    "ver si las matrices de similitud obtenidas cambian con respecto a los datos originales y los estandarizados"
   ]
  },
  {
   "cell_type": "code",
   "execution_count": null,
   "metadata": {},
   "outputs": [],
   "source": []
  },
  {
   "cell_type": "markdown",
   "metadata": {},
   "source": [
    "# 6 de octubre  Examen Módulo 1\n",
    "# Organizarse por equipos para el proyecto"
   ]
  },
  {
   "cell_type": "code",
   "execution_count": null,
   "metadata": {},
   "outputs": [],
   "source": []
  },
  {
   "cell_type": "markdown",
   "metadata": {},
   "source": [
    "### Similitud por Coseno\n",
    "\n",
    "La función de similitud del coseno es:\n",
    "\n",
    "$$\\cos (\\theta)=\\frac{\\mathbf{A} \\cdot \\mathbf{B}}{\\|\\mathbf{A}\\|\\|\\mathbf{B}\\|}=\\frac{\\sum_{i=1}^{n} A_{i} B_{i}}{\\sqrt{\\sum_{i=1}^{n} A_{i}^{2}} \\sqrt{\\sum_{i=1}^{n} B_{i}^{2}}}\\tag{1}$$\n",
    "\n",
    "$ A $ y $ B $ representan los vectores y $ A_i $ o $ B_i $ representan el índice i de ese vector.\n",
    "& Hay que tener en cuenta que si A y B son idénticos, se obtendrá $ cos (\\theta) = 1 $.\n",
    "\n",
    "* De lo contrario, si son totalmente opuestos, es decir, $ A = -B $, obtendría $ cos (\\theta) = -1 $.\n",
    "* Si obtiene $ cos (\\ theta) = 0 $, eso significa que son ortogonales (o perpendiculares).\n",
    "* Los números entre 0 y 1 indican una puntuación de similitud.\n",
    "* Los números entre -1-0 indican una puntuación de disimilitud."
   ]
  },
  {
   "cell_type": "markdown",
   "metadata": {},
   "source": [
    "### Deducción\n",
    "\n",
    "$$A\\cdot B = ||A||||B||cos(\\theta)$$\n",
    "\n",
    "$$\\frac{A\\cdot B}{||A||||B||} = cos(\\theta)= similaridad \\in [-1,1]$$\n",
    "\n",
    "$$d= 1 - similaridad = 1 - \\frac{A\\cdot B}{||A||||B||} \\in \\{0,2\\}$$"
   ]
  },
  {
   "cell_type": "code",
   "execution_count": 81,
   "metadata": {},
   "outputs": [],
   "source": [
    "def cosine_similarity(A,B):\n",
    "    dot = np.dot(A,B)\n",
    "    norm_a = np.sqrt(np.dot(A,A))\n",
    "    norm_b = np.sqrt(np.dot(B,B))\n",
    "    \n",
    "    cos = dot/(norm_a*norm_b)\n",
    "    \n",
    "    return cos"
   ]
  },
  {
   "cell_type": "code",
   "execution_count": 82,
   "metadata": {},
   "outputs": [
    {
     "data": {
      "text/plain": [
       "-0.7877263614433762"
      ]
     },
     "execution_count": 82,
     "metadata": {},
     "output_type": "execute_result"
    }
   ],
   "source": [
    "A = np.array([1,5,7])\n",
    "B = np.array([1,0,-8])\n",
    "similaridad_cos = cosine_similarity(A,B)   # [-1,1]\n",
    "similaridad_cos"
   ]
  },
  {
   "cell_type": "code",
   "execution_count": 83,
   "metadata": {},
   "outputs": [],
   "source": [
    "def cosine_distance(A,B):\n",
    "    dot = np.dot(A,B)\n",
    "    norm_a = np.sqrt(np.dot(A,A))\n",
    "    norm_b = np.sqrt(np.dot(B,B))\n",
    "    \n",
    "    cos = dot/(norm_a*norm_b)\n",
    "    \n",
    "    return 1-cos"
   ]
  },
  {
   "cell_type": "code",
   "execution_count": 84,
   "metadata": {},
   "outputs": [
    {
     "data": {
      "text/plain": [
       "1.7877263614433763"
      ]
     },
     "execution_count": 84,
     "metadata": {},
     "output_type": "execute_result"
    }
   ],
   "source": [
    "A = np.array([1,5,7])\n",
    "B = np.array([1,0,-8])\n",
    "dist_cosine = cosine_distance(A,B)\n",
    "dist_cosine"
   ]
  },
  {
   "cell_type": "code",
   "execution_count": 86,
   "metadata": {},
   "outputs": [],
   "source": [
    "AB = np.array([[1,5,7],\n",
    "               [1,0,-8]])"
   ]
  },
  {
   "cell_type": "code",
   "execution_count": 87,
   "metadata": {},
   "outputs": [
    {
     "data": {
      "text/plain": [
       "array([1.78772636])"
      ]
     },
     "execution_count": 87,
     "metadata": {},
     "output_type": "execute_result"
    }
   ],
   "source": [
    "sc.pdist(AB, 'cosine')"
   ]
  },
  {
   "cell_type": "code",
   "execution_count": 89,
   "metadata": {},
   "outputs": [
    {
     "data": {
      "text/html": [
       "<div>\n",
       "<style scoped>\n",
       "    .dataframe tbody tr th:only-of-type {\n",
       "        vertical-align: middle;\n",
       "    }\n",
       "\n",
       "    .dataframe tbody tr th {\n",
       "        vertical-align: top;\n",
       "    }\n",
       "\n",
       "    .dataframe thead th {\n",
       "        text-align: right;\n",
       "    }\n",
       "</style>\n",
       "<table border=\"1\" class=\"dataframe\">\n",
       "  <thead>\n",
       "    <tr style=\"text-align: right;\">\n",
       "      <th></th>\n",
       "      <th>0</th>\n",
       "      <th>1</th>\n",
       "    </tr>\n",
       "  </thead>\n",
       "  <tbody>\n",
       "    <tr>\n",
       "      <th>0</th>\n",
       "      <td>0.000000</td>\n",
       "      <td>1.787726</td>\n",
       "    </tr>\n",
       "    <tr>\n",
       "      <th>1</th>\n",
       "      <td>1.787726</td>\n",
       "      <td>0.000000</td>\n",
       "    </tr>\n",
       "  </tbody>\n",
       "</table>\n",
       "</div>"
      ],
      "text/plain": [
       "          0         1\n",
       "0  0.000000  1.787726\n",
       "1  1.787726  0.000000"
      ]
     },
     "execution_count": 89,
     "metadata": {},
     "output_type": "execute_result"
    }
   ],
   "source": [
    "cd.pdistance_matrix(pd.DataFrame(AB), 'cosine')"
   ]
  },
  {
   "cell_type": "code",
   "execution_count": 90,
   "metadata": {},
   "outputs": [
    {
     "data": {
      "text/plain": [
       "array([[ 2,  3],\n",
       "       [20, 30],\n",
       "       [-2,  3],\n",
       "       [ 2, -3]])"
      ]
     },
     "execution_count": 90,
     "metadata": {},
     "output_type": "execute_result"
    }
   ],
   "source": [
    "x"
   ]
  },
  {
   "cell_type": "code",
   "execution_count": 91,
   "metadata": {},
   "outputs": [
    {
     "data": {
      "text/html": [
       "<div>\n",
       "<style scoped>\n",
       "    .dataframe tbody tr th:only-of-type {\n",
       "        vertical-align: middle;\n",
       "    }\n",
       "\n",
       "    .dataframe tbody tr th {\n",
       "        vertical-align: top;\n",
       "    }\n",
       "\n",
       "    .dataframe thead th {\n",
       "        text-align: right;\n",
       "    }\n",
       "</style>\n",
       "<table border=\"1\" class=\"dataframe\">\n",
       "  <thead>\n",
       "    <tr style=\"text-align: right;\">\n",
       "      <th></th>\n",
       "      <th>0</th>\n",
       "      <th>1</th>\n",
       "      <th>2</th>\n",
       "      <th>3</th>\n",
       "    </tr>\n",
       "  </thead>\n",
       "  <tbody>\n",
       "    <tr>\n",
       "      <th>0</th>\n",
       "      <td>0.000000</td>\n",
       "      <td>0.000000</td>\n",
       "      <td>0.615385</td>\n",
       "      <td>1.384615</td>\n",
       "    </tr>\n",
       "    <tr>\n",
       "      <th>1</th>\n",
       "      <td>0.000000</td>\n",
       "      <td>0.000000</td>\n",
       "      <td>0.615385</td>\n",
       "      <td>1.384615</td>\n",
       "    </tr>\n",
       "    <tr>\n",
       "      <th>2</th>\n",
       "      <td>0.615385</td>\n",
       "      <td>0.615385</td>\n",
       "      <td>0.000000</td>\n",
       "      <td>2.000000</td>\n",
       "    </tr>\n",
       "    <tr>\n",
       "      <th>3</th>\n",
       "      <td>1.384615</td>\n",
       "      <td>1.384615</td>\n",
       "      <td>2.000000</td>\n",
       "      <td>0.000000</td>\n",
       "    </tr>\n",
       "  </tbody>\n",
       "</table>\n",
       "</div>"
      ],
      "text/plain": [
       "          0         1         2         3\n",
       "0  0.000000  0.000000  0.615385  1.384615\n",
       "1  0.000000  0.000000  0.615385  1.384615\n",
       "2  0.615385  0.615385  0.000000  2.000000\n",
       "3  1.384615  1.384615  2.000000  0.000000"
      ]
     },
     "execution_count": 91,
     "metadata": {},
     "output_type": "execute_result"
    }
   ],
   "source": [
    "cd.pdistance_matrix(pd.DataFrame(x), 'cosine')"
   ]
  },
  {
   "cell_type": "code",
   "execution_count": 92,
   "metadata": {},
   "outputs": [
    {
     "data": {
      "text/html": [
       "<div>\n",
       "<style scoped>\n",
       "    .dataframe tbody tr th:only-of-type {\n",
       "        vertical-align: middle;\n",
       "    }\n",
       "\n",
       "    .dataframe tbody tr th {\n",
       "        vertical-align: top;\n",
       "    }\n",
       "\n",
       "    .dataframe thead th {\n",
       "        text-align: right;\n",
       "    }\n",
       "</style>\n",
       "<table border=\"1\" class=\"dataframe\">\n",
       "  <thead>\n",
       "    <tr style=\"text-align: right;\">\n",
       "      <th></th>\n",
       "      <th>0</th>\n",
       "      <th>1</th>\n",
       "      <th>2</th>\n",
       "      <th>3</th>\n",
       "    </tr>\n",
       "  </thead>\n",
       "  <tbody>\n",
       "    <tr>\n",
       "      <th>0</th>\n",
       "      <td>0.000000</td>\n",
       "      <td>2.584649</td>\n",
       "      <td>0.406138</td>\n",
       "      <td>0.406138</td>\n",
       "    </tr>\n",
       "    <tr>\n",
       "      <th>1</th>\n",
       "      <td>2.584649</td>\n",
       "      <td>0.000000</td>\n",
       "      <td>2.886156</td>\n",
       "      <td>2.886156</td>\n",
       "    </tr>\n",
       "    <tr>\n",
       "      <th>2</th>\n",
       "      <td>0.406138</td>\n",
       "      <td>2.886156</td>\n",
       "      <td>0.000000</td>\n",
       "      <td>0.574367</td>\n",
       "    </tr>\n",
       "    <tr>\n",
       "      <th>3</th>\n",
       "      <td>0.406138</td>\n",
       "      <td>2.886156</td>\n",
       "      <td>0.574367</td>\n",
       "      <td>0.000000</td>\n",
       "    </tr>\n",
       "  </tbody>\n",
       "</table>\n",
       "</div>"
      ],
      "text/plain": [
       "          0         1         2         3\n",
       "0  0.000000  2.584649  0.406138  0.406138\n",
       "1  2.584649  0.000000  2.886156  2.886156\n",
       "2  0.406138  2.886156  0.000000  0.574367\n",
       "3  0.406138  2.886156  0.574367  0.000000"
      ]
     },
     "execution_count": 92,
     "metadata": {},
     "output_type": "execute_result"
    }
   ],
   "source": [
    "cd.pdistance_matrix(pd.DataFrame(x), 'seuclidean')"
   ]
  },
  {
   "cell_type": "markdown",
   "metadata": {},
   "source": [
    "# ¿Qué pasa si mi dataset contiene todo tipo de datos?"
   ]
  },
  {
   "cell_type": "markdown",
   "metadata": {},
   "source": [
    "# Datos Mixtos"
   ]
  },
  {
   "cell_type": "markdown",
   "metadata": {},
   "source": [
    "Supongamos que sobre S muestras, representadas en la matriz $X$, se han observado simultáneamente diferentes muestras que por su naturaleza pueden corresponder a variables binarias,\n",
    "cualitativas y cuantitativas. \n",
    "\n",
    ">La distancia entre individuos que presenten esta combinación de características puede ser medida a través de la similaridad de `Gower (1971)`. Esta similaridad es útil para tipos de datos mixtos."
   ]
  },
  {
   "cell_type": "markdown",
   "metadata": {},
   "source": [
    "La similaridad $\\delta_{ijt}$ entre la $i$-ésima y la $j$-ésima muestra para la variable $t$, promediado sobre las $T$ variables o características, es la medida de similaridad propuesta por Grower (1971):\n",
    "\n",
    "$$\\delta_{ij}=\\frac{1}{T} \\delta_{ijt}$$\n",
    "\n",
    ">En el caso de variables **binarias o cualitativas**, $\\delta_{ijt}=1$ si $x_{it}=x_{jt}$ y $\\delta_{ijt}=0$ si $x_{it}\\neq x_{jt}$. \n",
    "\n",
    ">Si la variable es **cuantitativa** la similaridad entre los individuos estará dada por:\n",
    "\n",
    "$$\\delta_{ijt}=1-\\frac{|x_{it} - x_{jt}|}{rt}$$\n",
    "\n",
    " donde $r_t$ es el rango (diferencia entre el máximo y el mínimo) de la $t$-ésima característica sobre toda la población. Si $x_{it}=x_{jt}$ entonces $\\delta_{ijt}=1$, cuando $x_{it}$ y $x_{jt}$ se encuentan en los extremos de $r_t$ entonces $\\delta_{ijt}=0$, y si $x_{it}$ y $x_{jt}$ son valores intermedios de $r_t$ entonces $0\\leq \\delta_{ijt} \\leq 1$\n",
    " \n",
    " \n",
    " El tratamiento de los datos faltantes, la consideración de la ausencia simultánea de la característica, y la ponderación relativa de características, son debilidades metodológicas que afectan las medidas de similitud y distancias referidas hasta ahora para todo tipo de variables. \n",
    " \n",
    " En este sentido, Gower introdujo en la expresión de la medida de similitud, ponderaciones denominadas $w_{ijt}$, como una función que\n",
    "depende de cada par de datos $x_{it}$ y $x_{jt}$ , obteniendo la siguiente expresión general:\n",
    "\n",
    "$$\\delta_{ij} = \\frac{\\sum_{t=1}^T w_{ijt}\\delta_{ijt}}{\\sum_{t=1}^T w_{ijt}}$$"
   ]
  },
  {
   "cell_type": "markdown",
   "metadata": {},
   "source": [
    "## Ejemplo:"
   ]
  },
  {
   "cell_type": "code",
   "execution_count": 93,
   "metadata": {},
   "outputs": [
    {
     "data": {
      "text/html": [
       "<div>\n",
       "<style scoped>\n",
       "    .dataframe tbody tr th:only-of-type {\n",
       "        vertical-align: middle;\n",
       "    }\n",
       "\n",
       "    .dataframe tbody tr th {\n",
       "        vertical-align: top;\n",
       "    }\n",
       "\n",
       "    .dataframe thead th {\n",
       "        text-align: right;\n",
       "    }\n",
       "</style>\n",
       "<table border=\"1\" class=\"dataframe\">\n",
       "  <thead>\n",
       "    <tr style=\"text-align: right;\">\n",
       "      <th></th>\n",
       "      <th>Num1</th>\n",
       "      <th>Num2</th>\n",
       "      <th>Num3</th>\n",
       "    </tr>\n",
       "  </thead>\n",
       "  <tbody>\n",
       "    <tr>\n",
       "      <th>0</th>\n",
       "      <td>1</td>\n",
       "      <td>2.6</td>\n",
       "      <td>A</td>\n",
       "    </tr>\n",
       "    <tr>\n",
       "      <th>1</th>\n",
       "      <td>12</td>\n",
       "      <td>5.0</td>\n",
       "      <td>X</td>\n",
       "    </tr>\n",
       "    <tr>\n",
       "      <th>2</th>\n",
       "      <td>4</td>\n",
       "      <td>5.0</td>\n",
       "      <td>A</td>\n",
       "    </tr>\n",
       "  </tbody>\n",
       "</table>\n",
       "</div>"
      ],
      "text/plain": [
       "   Num1  Num2 Num3\n",
       "0     1   2.6    A\n",
       "1    12   5.0    X\n",
       "2     4   5.0    A"
      ]
     },
     "execution_count": 93,
     "metadata": {},
     "output_type": "execute_result"
    }
   ],
   "source": [
    "df = pd.DataFrame([[1,2.6,'A'],\n",
    "                   [12,5,'X'],\n",
    "                   [4,5,'A']])\n",
    "df.columns=['Num1','Num2','Num3']\n",
    "df"
   ]
  },
  {
   "cell_type": "markdown",
   "metadata": {},
   "source": [
    "\n",
    "1. Encontrar la distancia Manhattan entre cada muestra para las variables numéricas\n",
    "2. Normalizar la matriz de similitud"
   ]
  },
  {
   "cell_type": "code",
   "execution_count": 94,
   "metadata": {},
   "outputs": [
    {
     "data": {
      "text/plain": [
       "array([[ 0., 11.,  3.],\n",
       "       [11.,  0.,  8.],\n",
       "       [ 3.,  8.,  0.]])"
      ]
     },
     "execution_count": 94,
     "metadata": {},
     "output_type": "execute_result"
    }
   ],
   "source": [
    "#calculando la medida de similitud y delta para Num1\n",
    "dist_num_1 = sc.squareform(sc.pdist(df[['Num1']]), 'cityblock')\n",
    "dist_num_1"
   ]
  },
  {
   "cell_type": "code",
   "execution_count": 95,
   "metadata": {},
   "outputs": [
    {
     "data": {
      "text/plain": [
       "11"
      ]
     },
     "execution_count": 95,
     "metadata": {},
     "output_type": "execute_result"
    }
   ],
   "source": [
    "np.ptp(df['Num1'])"
   ]
  },
  {
   "cell_type": "code",
   "execution_count": 96,
   "metadata": {},
   "outputs": [
    {
     "data": {
      "text/plain": [
       "array([[0.        , 1.        , 0.27272727],\n",
       "       [1.        , 0.        , 0.72727273],\n",
       "       [0.27272727, 0.72727273, 0.        ]])"
      ]
     },
     "execution_count": 96,
     "metadata": {},
     "output_type": "execute_result"
    }
   ],
   "source": [
    "delta_1 = dist_num_1/max(np.ptp(df['Num1']),1)\n",
    "delta_1"
   ]
  },
  {
   "cell_type": "code",
   "execution_count": 97,
   "metadata": {},
   "outputs": [
    {
     "data": {
      "text/plain": [
       "array([[0. , 2.4, 2.4],\n",
       "       [2.4, 0. , 0. ],\n",
       "       [2.4, 0. , 0. ]])"
      ]
     },
     "execution_count": 97,
     "metadata": {},
     "output_type": "execute_result"
    }
   ],
   "source": [
    "# Calculando la medida de similitud y delta para Num2\n",
    "dist_num_2 = sc.squareform(sc.pdist(df[['Num2']], 'cityblock'))\n",
    "dist_num_2"
   ]
  },
  {
   "cell_type": "code",
   "execution_count": 98,
   "metadata": {},
   "outputs": [
    {
     "data": {
      "text/plain": [
       "array([[0., 1., 1.],\n",
       "       [1., 0., 0.],\n",
       "       [1., 0., 0.]])"
      ]
     },
     "execution_count": 98,
     "metadata": {},
     "output_type": "execute_result"
    }
   ],
   "source": [
    "delta_2 = dist_num_2/max(np.ptp(df['Num2']),1)\n",
    "delta_2"
   ]
  },
  {
   "cell_type": "markdown",
   "metadata": {},
   "source": [
    "Calcular la distancia de similitud para las variables categóricas. \n",
    "\n",
    "1. Primero hay que convertir las variables categoricas nominales a variables dummies y después calcular las distancias de similitud (DICE)"
   ]
  },
  {
   "cell_type": "code",
   "execution_count": 100,
   "metadata": {},
   "outputs": [
    {
     "data": {
      "text/html": [
       "<div>\n",
       "<style scoped>\n",
       "    .dataframe tbody tr th:only-of-type {\n",
       "        vertical-align: middle;\n",
       "    }\n",
       "\n",
       "    .dataframe tbody tr th {\n",
       "        vertical-align: top;\n",
       "    }\n",
       "\n",
       "    .dataframe thead th {\n",
       "        text-align: right;\n",
       "    }\n",
       "</style>\n",
       "<table border=\"1\" class=\"dataframe\">\n",
       "  <thead>\n",
       "    <tr style=\"text-align: right;\">\n",
       "      <th></th>\n",
       "      <th>A</th>\n",
       "      <th>X</th>\n",
       "    </tr>\n",
       "  </thead>\n",
       "  <tbody>\n",
       "    <tr>\n",
       "      <th>0</th>\n",
       "      <td>1</td>\n",
       "      <td>0</td>\n",
       "    </tr>\n",
       "    <tr>\n",
       "      <th>1</th>\n",
       "      <td>0</td>\n",
       "      <td>1</td>\n",
       "    </tr>\n",
       "    <tr>\n",
       "      <th>2</th>\n",
       "      <td>1</td>\n",
       "      <td>0</td>\n",
       "    </tr>\n",
       "  </tbody>\n",
       "</table>\n",
       "</div>"
      ],
      "text/plain": [
       "   A  X\n",
       "0  1  0\n",
       "1  0  1\n",
       "2  1  0"
      ]
     },
     "execution_count": 100,
     "metadata": {},
     "output_type": "execute_result"
    }
   ],
   "source": [
    "dummy_df = pd.get_dummies(df['Num3'])\n",
    "dummy_df"
   ]
  },
  {
   "cell_type": "code",
   "execution_count": 102,
   "metadata": {},
   "outputs": [
    {
     "data": {
      "text/plain": [
       "array([[0., 1., 0.],\n",
       "       [1., 0., 1.],\n",
       "       [0., 1., 0.]])"
      ]
     },
     "execution_count": 102,
     "metadata": {},
     "output_type": "execute_result"
    }
   ],
   "source": [
    "delta_3 = sc.squareform(sc.pdist(dummy_df,'dice'))\n",
    "delta_3"
   ]
  },
  {
   "cell_type": "code",
   "execution_count": 103,
   "metadata": {},
   "outputs": [],
   "source": [
    "w1=w2=w3=1"
   ]
  },
  {
   "cell_type": "code",
   "execution_count": 104,
   "metadata": {},
   "outputs": [
    {
     "data": {
      "text/plain": [
       "array([[0.        , 1.        , 0.42424242],\n",
       "       [1.        , 0.        , 0.57575758],\n",
       "       [0.42424242, 0.57575758, 0.        ]])"
      ]
     },
     "execution_count": 104,
     "metadata": {},
     "output_type": "execute_result"
    }
   ],
   "source": [
    "#Distancia de similitud por Gower para datos Mixtos\n",
    "gower_distance = (w1*delta_1 + w2*delta_2 + w3*delta_3)/(w1+w2+w3)\n",
    "gower_distance"
   ]
  },
  {
   "cell_type": "code",
   "execution_count": null,
   "metadata": {},
   "outputs": [],
   "source": []
  },
  {
   "cell_type": "code",
   "execution_count": 73,
   "metadata": {},
   "outputs": [],
   "source": [
    "#!pip install gower"
   ]
  },
  {
   "cell_type": "code",
   "execution_count": 106,
   "metadata": {},
   "outputs": [],
   "source": [
    "import gower"
   ]
  },
  {
   "cell_type": "code",
   "execution_count": 107,
   "metadata": {},
   "outputs": [
    {
     "name": "stdout",
     "output_type": "stream",
     "text": [
      "Help on function gower_matrix in module gower.gower_dist:\n",
      "\n",
      "gower_matrix(data_x, data_y=None, weight=None, cat_features=None)\n",
      "\n"
     ]
    }
   ],
   "source": [
    "help(gower.gower_matrix)"
   ]
  },
  {
   "cell_type": "code",
   "execution_count": 108,
   "metadata": {},
   "outputs": [
    {
     "data": {
      "text/html": [
       "<div>\n",
       "<style scoped>\n",
       "    .dataframe tbody tr th:only-of-type {\n",
       "        vertical-align: middle;\n",
       "    }\n",
       "\n",
       "    .dataframe tbody tr th {\n",
       "        vertical-align: top;\n",
       "    }\n",
       "\n",
       "    .dataframe thead th {\n",
       "        text-align: right;\n",
       "    }\n",
       "</style>\n",
       "<table border=\"1\" class=\"dataframe\">\n",
       "  <thead>\n",
       "    <tr style=\"text-align: right;\">\n",
       "      <th></th>\n",
       "      <th>Num1</th>\n",
       "      <th>Num2</th>\n",
       "      <th>Num3</th>\n",
       "    </tr>\n",
       "  </thead>\n",
       "  <tbody>\n",
       "    <tr>\n",
       "      <th>0</th>\n",
       "      <td>1</td>\n",
       "      <td>2.6</td>\n",
       "      <td>A</td>\n",
       "    </tr>\n",
       "    <tr>\n",
       "      <th>1</th>\n",
       "      <td>12</td>\n",
       "      <td>5.0</td>\n",
       "      <td>X</td>\n",
       "    </tr>\n",
       "    <tr>\n",
       "      <th>2</th>\n",
       "      <td>4</td>\n",
       "      <td>5.0</td>\n",
       "      <td>A</td>\n",
       "    </tr>\n",
       "  </tbody>\n",
       "</table>\n",
       "</div>"
      ],
      "text/plain": [
       "   Num1  Num2 Num3\n",
       "0     1   2.6    A\n",
       "1    12   5.0    X\n",
       "2     4   5.0    A"
      ]
     },
     "execution_count": 108,
     "metadata": {},
     "output_type": "execute_result"
    }
   ],
   "source": [
    "df"
   ]
  },
  {
   "cell_type": "code",
   "execution_count": 109,
   "metadata": {},
   "outputs": [
    {
     "data": {
      "text/plain": [
       "array([[0.        , 1.        , 0.4242424 ],\n",
       "       [1.        , 0.        , 0.57575756],\n",
       "       [0.4242424 , 0.57575756, 0.        ]], dtype=float32)"
      ]
     },
     "execution_count": 109,
     "metadata": {},
     "output_type": "execute_result"
    }
   ],
   "source": [
    "gower.gower_matrix(df)"
   ]
  },
  {
   "cell_type": "code",
   "execution_count": 110,
   "metadata": {},
   "outputs": [
    {
     "data": {
      "text/plain": [
       "array([[0.        , 1.        , 0.42424242],\n",
       "       [1.        , 0.        , 0.57575758],\n",
       "       [0.42424242, 0.57575758, 0.        ]])"
      ]
     },
     "execution_count": 110,
     "metadata": {},
     "output_type": "execute_result"
    }
   ],
   "source": [
    "gower_distance"
   ]
  },
  {
   "cell_type": "markdown",
   "metadata": {},
   "source": [
    "## Ejemplo 2:"
   ]
  },
  {
   "cell_type": "code",
   "execution_count": 111,
   "metadata": {},
   "outputs": [
    {
     "data": {
      "text/html": [
       "<div>\n",
       "<style scoped>\n",
       "    .dataframe tbody tr th:only-of-type {\n",
       "        vertical-align: middle;\n",
       "    }\n",
       "\n",
       "    .dataframe tbody tr th {\n",
       "        vertical-align: top;\n",
       "    }\n",
       "\n",
       "    .dataframe thead th {\n",
       "        text-align: right;\n",
       "    }\n",
       "</style>\n",
       "<table border=\"1\" class=\"dataframe\">\n",
       "  <thead>\n",
       "    <tr style=\"text-align: right;\">\n",
       "      <th></th>\n",
       "      <th>age</th>\n",
       "      <th>gender</th>\n",
       "      <th>civil_status</th>\n",
       "      <th>salary</th>\n",
       "      <th>has_children</th>\n",
       "      <th>purchaser_type</th>\n",
       "    </tr>\n",
       "  </thead>\n",
       "  <tbody>\n",
       "    <tr>\n",
       "      <th>0</th>\n",
       "      <td>22</td>\n",
       "      <td>M</td>\n",
       "      <td>SINGLE</td>\n",
       "      <td>18000</td>\n",
       "      <td>False</td>\n",
       "      <td>LOW_PURCHASER</td>\n",
       "    </tr>\n",
       "    <tr>\n",
       "      <th>1</th>\n",
       "      <td>25</td>\n",
       "      <td>M</td>\n",
       "      <td>SINGLE</td>\n",
       "      <td>23000</td>\n",
       "      <td>False</td>\n",
       "      <td>LOW_PURCHASER</td>\n",
       "    </tr>\n",
       "    <tr>\n",
       "      <th>2</th>\n",
       "      <td>30</td>\n",
       "      <td>F</td>\n",
       "      <td>SINGLE</td>\n",
       "      <td>27000</td>\n",
       "      <td>False</td>\n",
       "      <td>LOW_PURCHASER</td>\n",
       "    </tr>\n",
       "    <tr>\n",
       "      <th>3</th>\n",
       "      <td>38</td>\n",
       "      <td>F</td>\n",
       "      <td>MARRIED</td>\n",
       "      <td>32000</td>\n",
       "      <td>True</td>\n",
       "      <td>HEAVY_PURCHASER</td>\n",
       "    </tr>\n",
       "    <tr>\n",
       "      <th>4</th>\n",
       "      <td>42</td>\n",
       "      <td>F</td>\n",
       "      <td>MARRIED</td>\n",
       "      <td>34000</td>\n",
       "      <td>True</td>\n",
       "      <td>HEAVY_PURCHASER</td>\n",
       "    </tr>\n",
       "    <tr>\n",
       "      <th>5</th>\n",
       "      <td>47</td>\n",
       "      <td>M</td>\n",
       "      <td>SINGLE</td>\n",
       "      <td>20000</td>\n",
       "      <td>False</td>\n",
       "      <td>LOW_PURCHASER</td>\n",
       "    </tr>\n",
       "    <tr>\n",
       "      <th>6</th>\n",
       "      <td>55</td>\n",
       "      <td>M</td>\n",
       "      <td>MARRIED</td>\n",
       "      <td>40000</td>\n",
       "      <td>False</td>\n",
       "      <td>MEDIUM_PURCHASER</td>\n",
       "    </tr>\n",
       "    <tr>\n",
       "      <th>7</th>\n",
       "      <td>62</td>\n",
       "      <td>M</td>\n",
       "      <td>DIVORCED</td>\n",
       "      <td>42000</td>\n",
       "      <td>False</td>\n",
       "      <td>MEDIUM_PURCHASER</td>\n",
       "    </tr>\n",
       "    <tr>\n",
       "      <th>8</th>\n",
       "      <td>61</td>\n",
       "      <td>M</td>\n",
       "      <td>MARRIED</td>\n",
       "      <td>25000</td>\n",
       "      <td>False</td>\n",
       "      <td>MEDIUM_PURCHASER</td>\n",
       "    </tr>\n",
       "    <tr>\n",
       "      <th>9</th>\n",
       "      <td>90</td>\n",
       "      <td>M</td>\n",
       "      <td>DIVORCED</td>\n",
       "      <td>70000</td>\n",
       "      <td>True</td>\n",
       "      <td>LOW_PURCHASER</td>\n",
       "    </tr>\n",
       "  </tbody>\n",
       "</table>\n",
       "</div>"
      ],
      "text/plain": [
       "   age gender civil_status  salary  has_children    purchaser_type\n",
       "0   22      M       SINGLE   18000         False     LOW_PURCHASER\n",
       "1   25      M       SINGLE   23000         False     LOW_PURCHASER\n",
       "2   30      F       SINGLE   27000         False     LOW_PURCHASER\n",
       "3   38      F      MARRIED   32000          True   HEAVY_PURCHASER\n",
       "4   42      F      MARRIED   34000          True   HEAVY_PURCHASER\n",
       "5   47      M       SINGLE   20000         False     LOW_PURCHASER\n",
       "6   55      M      MARRIED   40000         False  MEDIUM_PURCHASER\n",
       "7   62      M     DIVORCED   42000         False  MEDIUM_PURCHASER\n",
       "8   61      M      MARRIED   25000         False  MEDIUM_PURCHASER\n",
       "9   90      M     DIVORCED   70000          True     LOW_PURCHASER"
      ]
     },
     "execution_count": 111,
     "metadata": {},
     "output_type": "execute_result"
    }
   ],
   "source": [
    "dictionary = {\"age\": [22, 25, 30, 38, 42, 47, 55, 62, 61, 90], \n",
    "              \"gender\": [\"M\", \"M\", \"F\", \"F\", \"F\", \"M\", \"M\", \"M\", \"M\", \"M\"], \n",
    "              \"civil_status\": [\"SINGLE\", \"SINGLE\", \"SINGLE\", \"MARRIED\", \"MARRIED\", \"SINGLE\", \"MARRIED\", \"DIVORCED\", \"MARRIED\", \"DIVORCED\"], \n",
    "              \"salary\": [18000, 23000, 27000, 32000, 34000, 20000, 40000, 42000, 25000, 70000], \n",
    "              \"has_children\": [False, False, False, True, True, False, False, False, False, True], \n",
    "              \"purchaser_type\": [\"LOW_PURCHASER\", \"LOW_PURCHASER\", \"LOW_PURCHASER\", \"HEAVY_PURCHASER\", \"HEAVY_PURCHASER\", \"LOW_PURCHASER\", \"MEDIUM_PURCHASER\", \"MEDIUM_PURCHASER\", \"MEDIUM_PURCHASER\", \"LOW_PURCHASER\"]}\n",
    "\n",
    "data = pd.DataFrame(dictionary)\n",
    "data"
   ]
  },
  {
   "cell_type": "code",
   "execution_count": 114,
   "metadata": {},
   "outputs": [],
   "source": [
    "distance_gower = gower.gower_matrix(data)\n",
    "similaridad_df = pd.DataFrame(distance_gower)"
   ]
  },
  {
   "cell_type": "code",
   "execution_count": 115,
   "metadata": {},
   "outputs": [
    {
     "data": {
      "image/png": "[encoded data removed]",
      "text/plain": [
       "<Figure size 432x288 with 2 Axes>"
      ]
     },
     "metadata": {
      "needs_background": "light"
     },
     "output_type": "display_data"
    }
   ],
   "source": [
    "sns.heatmap(similaridad_df, annot=True, linewidth=.5,  cmap=\"crest\");"
   ]
  },
  {
   "cell_type": "code",
   "execution_count": 116,
   "metadata": {},
   "outputs": [
    {
     "data": {
      "text/plain": [
       "['Cliente_0',\n",
       " 'Cliente_1',\n",
       " 'Cliente_2',\n",
       " 'Cliente_3',\n",
       " 'Cliente_4',\n",
       " 'Cliente_5',\n",
       " 'Cliente_6',\n",
       " 'Cliente_7',\n",
       " 'Cliente_8',\n",
       " 'Cliente_9']"
      ]
     },
     "execution_count": 116,
     "metadata": {},
     "output_type": "execute_result"
    }
   ],
   "source": [
    "new_cols = [f'Cliente_{c}' for c in range(0,len(data))]\n",
    "new_cols"
   ]
  },
  {
   "cell_type": "code",
   "execution_count": 118,
   "metadata": {},
   "outputs": [
    {
     "data": {
      "text/html": [
       "<div>\n",
       "<style scoped>\n",
       "    .dataframe tbody tr th:only-of-type {\n",
       "        vertical-align: middle;\n",
       "    }\n",
       "\n",
       "    .dataframe tbody tr th {\n",
       "        vertical-align: top;\n",
       "    }\n",
       "\n",
       "    .dataframe thead th {\n",
       "        text-align: right;\n",
       "    }\n",
       "</style>\n",
       "<table border=\"1\" class=\"dataframe\">\n",
       "  <thead>\n",
       "    <tr style=\"text-align: right;\">\n",
       "      <th></th>\n",
       "      <th>Cliente_0</th>\n",
       "      <th>Cliente_1</th>\n",
       "      <th>Cliente_2</th>\n",
       "      <th>Cliente_3</th>\n",
       "      <th>Cliente_4</th>\n",
       "      <th>Cliente_5</th>\n",
       "      <th>Cliente_6</th>\n",
       "      <th>Cliente_7</th>\n",
       "      <th>Cliente_8</th>\n",
       "      <th>Cliente_9</th>\n",
       "    </tr>\n",
       "  </thead>\n",
       "  <tbody>\n",
       "    <tr>\n",
       "      <th>Cliente_0</th>\n",
       "      <td>0.000000</td>\n",
       "      <td>0.023379</td>\n",
       "      <td>0.215121</td>\n",
       "      <td>0.750754</td>\n",
       "      <td>0.766968</td>\n",
       "      <td>0.067685</td>\n",
       "      <td>0.484729</td>\n",
       "      <td>0.508296</td>\n",
       "      <td>0.451357</td>\n",
       "      <td>0.666667</td>\n",
       "    </tr>\n",
       "    <tr>\n",
       "      <th>Cliente_1</th>\n",
       "      <td>0.023379</td>\n",
       "      <td>0.000000</td>\n",
       "      <td>0.191742</td>\n",
       "      <td>0.727376</td>\n",
       "      <td>0.743590</td>\n",
       "      <td>0.063537</td>\n",
       "      <td>0.461350</td>\n",
       "      <td>0.484917</td>\n",
       "      <td>0.427979</td>\n",
       "      <td>0.643288</td>\n",
       "    </tr>\n",
       "    <tr>\n",
       "      <th>Cliente_2</th>\n",
       "      <td>0.215121</td>\n",
       "      <td>0.191742</td>\n",
       "      <td>0.000000</td>\n",
       "      <td>0.535634</td>\n",
       "      <td>0.551848</td>\n",
       "      <td>0.230769</td>\n",
       "      <td>0.602941</td>\n",
       "      <td>0.626508</td>\n",
       "      <td>0.582391</td>\n",
       "      <td>0.784879</td>\n",
       "    </tr>\n",
       "    <tr>\n",
       "      <th>Cliente_3</th>\n",
       "      <td>0.750754</td>\n",
       "      <td>0.727376</td>\n",
       "      <td>0.535634</td>\n",
       "      <td>0.000000</td>\n",
       "      <td>0.016214</td>\n",
       "      <td>0.727187</td>\n",
       "      <td>0.567308</td>\n",
       "      <td>0.757541</td>\n",
       "      <td>0.578808</td>\n",
       "      <td>0.749246</td>\n",
       "    </tr>\n",
       "    <tr>\n",
       "      <th>Cliente_4</th>\n",
       "      <td>0.766968</td>\n",
       "      <td>0.743590</td>\n",
       "      <td>0.551848</td>\n",
       "      <td>0.016214</td>\n",
       "      <td>0.000000</td>\n",
       "      <td>0.723793</td>\n",
       "      <td>0.551094</td>\n",
       "      <td>0.741327</td>\n",
       "      <td>0.575415</td>\n",
       "      <td>0.733032</td>\n",
       "    </tr>\n",
       "    <tr>\n",
       "      <th>Cliente_5</th>\n",
       "      <td>0.067685</td>\n",
       "      <td>0.063537</td>\n",
       "      <td>0.230769</td>\n",
       "      <td>0.727187</td>\n",
       "      <td>0.723793</td>\n",
       "      <td>0.000000</td>\n",
       "      <td>0.417044</td>\n",
       "      <td>0.440611</td>\n",
       "      <td>0.383673</td>\n",
       "      <td>0.598982</td>\n",
       "    </tr>\n",
       "    <tr>\n",
       "      <th>Cliente_6</th>\n",
       "      <td>0.484729</td>\n",
       "      <td>0.461350</td>\n",
       "      <td>0.602941</td>\n",
       "      <td>0.567308</td>\n",
       "      <td>0.551094</td>\n",
       "      <td>0.417044</td>\n",
       "      <td>0.000000</td>\n",
       "      <td>0.190234</td>\n",
       "      <td>0.062783</td>\n",
       "      <td>0.681938</td>\n",
       "    </tr>\n",
       "    <tr>\n",
       "      <th>Cliente_7</th>\n",
       "      <td>0.508296</td>\n",
       "      <td>0.484917</td>\n",
       "      <td>0.626508</td>\n",
       "      <td>0.757541</td>\n",
       "      <td>0.741327</td>\n",
       "      <td>0.440611</td>\n",
       "      <td>0.190234</td>\n",
       "      <td>0.000000</td>\n",
       "      <td>0.223605</td>\n",
       "      <td>0.491704</td>\n",
       "    </tr>\n",
       "    <tr>\n",
       "      <th>Cliente_8</th>\n",
       "      <td>0.451357</td>\n",
       "      <td>0.427979</td>\n",
       "      <td>0.582391</td>\n",
       "      <td>0.578808</td>\n",
       "      <td>0.575415</td>\n",
       "      <td>0.383673</td>\n",
       "      <td>0.062783</td>\n",
       "      <td>0.223605</td>\n",
       "      <td>0.000000</td>\n",
       "      <td>0.715309</td>\n",
       "    </tr>\n",
       "    <tr>\n",
       "      <th>Cliente_9</th>\n",
       "      <td>0.666667</td>\n",
       "      <td>0.643288</td>\n",
       "      <td>0.784879</td>\n",
       "      <td>0.749246</td>\n",
       "      <td>0.733032</td>\n",
       "      <td>0.598982</td>\n",
       "      <td>0.681938</td>\n",
       "      <td>0.491704</td>\n",
       "      <td>0.715309</td>\n",
       "      <td>0.000000</td>\n",
       "    </tr>\n",
       "  </tbody>\n",
       "</table>\n",
       "</div>"
      ],
      "text/plain": [
       "           Cliente_0  Cliente_1  Cliente_2  Cliente_3  Cliente_4  Cliente_5  \\\n",
       "Cliente_0   0.000000   0.023379   0.215121   0.750754   0.766968   0.067685   \n",
       "Cliente_1   0.023379   0.000000   0.191742   0.727376   0.743590   0.063537   \n",
       "Cliente_2   0.215121   0.191742   0.000000   0.535634   0.551848   0.230769   \n",
       "Cliente_3   0.750754   0.727376   0.535634   0.000000   0.016214   0.727187   \n",
       "Cliente_4   0.766968   0.743590   0.551848   0.016214   0.000000   0.723793   \n",
       "Cliente_5   0.067685   0.063537   0.230769   0.727187   0.723793   0.000000   \n",
       "Cliente_6   0.484729   0.461350   0.602941   0.567308   0.551094   0.417044   \n",
       "Cliente_7   0.508296   0.484917   0.626508   0.757541   0.741327   0.440611   \n",
       "Cliente_8   0.451357   0.427979   0.582391   0.578808   0.575415   0.383673   \n",
       "Cliente_9   0.666667   0.643288   0.784879   0.749246   0.733032   0.598982   \n",
       "\n",
       "           Cliente_6  Cliente_7  Cliente_8  Cliente_9  \n",
       "Cliente_0   0.484729   0.508296   0.451357   0.666667  \n",
       "Cliente_1   0.461350   0.484917   0.427979   0.643288  \n",
       "Cliente_2   0.602941   0.626508   0.582391   0.784879  \n",
       "Cliente_3   0.567308   0.757541   0.578808   0.749246  \n",
       "Cliente_4   0.551094   0.741327   0.575415   0.733032  \n",
       "Cliente_5   0.417044   0.440611   0.383673   0.598982  \n",
       "Cliente_6   0.000000   0.190234   0.062783   0.681938  \n",
       "Cliente_7   0.190234   0.000000   0.223605   0.491704  \n",
       "Cliente_8   0.062783   0.223605   0.000000   0.715309  \n",
       "Cliente_9   0.681938   0.491704   0.715309   0.000000  "
      ]
     },
     "execution_count": 118,
     "metadata": {},
     "output_type": "execute_result"
    }
   ],
   "source": [
    "similaridad_df = pd.DataFrame(distance_gower, index=new_cols, columns= new_cols)\n",
    "similaridad_df"
   ]
  },
  {
   "cell_type": "code",
   "execution_count": 119,
   "metadata": {},
   "outputs": [
    {
     "data": {
      "image/png": "[encoded data removed]",
      "text/plain": [
       "<Figure size 432x288 with 2 Axes>"
      ]
     },
     "metadata": {
      "needs_background": "light"
     },
     "output_type": "display_data"
    }
   ],
   "source": [
    "sns.heatmap(similaridad_df, annot=True, linewidth=.5,  cmap=\"crest\");"
   ]
  },
  {
   "cell_type": "code",
   "execution_count": null,
   "metadata": {},
   "outputs": [],
   "source": []
  },
  {
   "cell_type": "markdown",
   "metadata": {},
   "source": [
    "Podemos interpretar la matriz de la siguiente manera. En la primera columna, vemos la diferencia del primer cliente con todos los demás. Este cliente es similar al segundo, tercer y sexto cliente."
   ]
  },
  {
   "cell_type": "markdown",
   "metadata": {},
   "source": [
    "### ¿Cuál es el cliente que más se parece al cliente 6?"
   ]
  },
  {
   "cell_type": "code",
   "execution_count": 121,
   "metadata": {},
   "outputs": [
    {
     "data": {
      "text/plain": [
       "Cliente_6    0.000000\n",
       "Cliente_8    0.062783\n",
       "Cliente_7    0.190234\n",
       "Cliente_5    0.417044\n",
       "Cliente_1    0.461350\n",
       "Cliente_0    0.484729\n",
       "Cliente_4    0.551094\n",
       "Cliente_3    0.567308\n",
       "Cliente_2    0.602941\n",
       "Cliente_9    0.681938\n",
       "Name: Cliente_6, dtype: float32"
      ]
     },
     "execution_count": 121,
     "metadata": {},
     "output_type": "execute_result"
    }
   ],
   "source": [
    "similaridad_df['Cliente_6'].sort_values()"
   ]
  },
  {
   "cell_type": "code",
   "execution_count": 123,
   "metadata": {},
   "outputs": [
    {
     "data": {
      "text/plain": [
       "Cliente_6    0.062783\n",
       "Name: Cliente_8, dtype: float32"
      ]
     },
     "execution_count": 123,
     "metadata": {},
     "output_type": "execute_result"
    }
   ],
   "source": [
    "pd.DataFrame(similaridad_df['Cliente_6'].sort_values()).iloc[1,:]"
   ]
  },
  {
   "cell_type": "markdown",
   "metadata": {},
   "source": [
    "## Actividad (Ejercicio tipo examen)\n",
    "\n",
    "Considere los datos sobre los ratings de personas que han asistido a diferentes restaurantes en el dataset **\"restaurant_ratings\"** y realice lo que se le pide:\n",
    "\n",
    "> Generar un reporte de calidad de datos del dataset. Realice un filtro para las columnas  `'userID','placeID' y 'food_rating'`.\n",
    "\n",
    "> Genere un nuevo DataFrame con la interacción entre los usuarios y los restaurantes (el índice del dataframe deberá contener los ids de los usuarios, y las columnas seran los ids de los restaurantes, la interacción entre filas y columnas serán los valores de 'food_rating'). **Hint:** investigue el método **pandas.DataFrame.pivot**.\n",
    "\n",
    "> Calcule la similitud que existe entre los usuarios basados en el rating dado para cada restaurante (i.e., Obtenga la matriz de similitud entre usuarios).\n",
    "\n",
    "> Cree un recomendador de restaurantes: dada la matriz de similitud, escoger al usuario `'U1003'` y recomendar el top 3 de restaurantes que podrían gustarle. **Hint:** Seleccione al usuario más similar y recomiende los restaurantes que el usuario `'U1003'` no ha visitado pero que el usuario más similar si (i.e, los restaurantes que el usuario más similar a calificado).\n"
   ]
  },
  {
   "cell_type": "code",
   "execution_count": null,
   "metadata": {},
   "outputs": [],
   "source": []
  },
  {
   "cell_type": "code",
   "execution_count": null,
   "metadata": {},
   "outputs": [],
   "source": []
  }
 ],
 "metadata": {
  "kernelspec": {
   "display_name": "Python 3 (ipykernel)",
   "language": "python",
   "name": "python3"
  },
  "language_info": {
   "codemirror_mode": {
    "name": "ipython",
    "version": 3
   },
   "file_extension": ".py",
   "mimetype": "text/x-python",
   "name": "python",
   "nbconvert_exporter": "python",
   "pygments_lexer": "ipython3",
   "version": "3.8.8"
  }
 },
 "nbformat": 4,
 "nbformat_minor": 4
}
